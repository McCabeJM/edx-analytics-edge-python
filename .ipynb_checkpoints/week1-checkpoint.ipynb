{
 "metadata": {
  "name": ""
 },
 "nbformat": 3,
 "nbformat_minor": 0,
 "worksheets": [
  {
   "cells": [
    {
     "cell_type": "code",
     "collapsed": false,
     "input": [
      "# Analytics Edge EdX course\n",
      "# Analyzes motor vehicle theft in Chicago\n",
      "from pandas import DataFrame, read_csv\n",
      "import matplotlib.pyplot as plt\n",
      "import pandas as pd\n",
      "import numpy as np\n",
      "%matplotlib inline"
     ],
     "language": "python",
     "metadata": {},
     "outputs": [],
     "prompt_number": 163
    },
    {
     "cell_type": "code",
     "collapsed": false,
     "input": [
      "print \"Pandas version: \" + pd.__version__"
     ],
     "language": "python",
     "metadata": {},
     "outputs": [
      {
       "output_type": "stream",
       "stream": "stdout",
       "text": [
        "Pandas version: 0.13.1\n"
       ]
      }
     ],
     "prompt_number": 164
    },
    {
     "cell_type": "code",
     "collapsed": false,
     "input": [
      "file = 'mvtWeek1.csv'\n",
      "df = read_csv(file)"
     ],
     "language": "python",
     "metadata": {},
     "outputs": [],
     "prompt_number": 165
    },
    {
     "cell_type": "code",
     "collapsed": false,
     "input": [
      "# Find number of observations and number of variables in the dataset\n",
      "df.shape"
     ],
     "language": "python",
     "metadata": {},
     "outputs": [
      {
       "metadata": {},
       "output_type": "pyout",
       "prompt_number": 166,
       "text": [
        "(191641, 11)"
       ]
      }
     ],
     "prompt_number": 166
    },
    {
     "cell_type": "code",
     "collapsed": false,
     "input": [
      "# Find the names of the variables\n",
      "df.columns"
     ],
     "language": "python",
     "metadata": {},
     "outputs": [
      {
       "metadata": {},
       "output_type": "pyout",
       "prompt_number": 167,
       "text": [
        "Index([u'ID', u'Date', u'LocationDescription', u'Arrest', u'Domestic', u'Beat', u'District', u'CommunityArea', u'Year', u'Latitude', u'Longitude'], dtype='object')"
       ]
      }
     ],
     "prompt_number": 167
    },
    {
     "cell_type": "code",
     "collapsed": false,
     "input": [
      "# Find maximum value of ID variable\n",
      "df['ID'].max()"
     ],
     "language": "python",
     "metadata": {},
     "outputs": [
      {
       "metadata": {},
       "output_type": "pyout",
       "prompt_number": 168,
       "text": [
        "9181151"
       ]
      }
     ],
     "prompt_number": 168
    },
    {
     "cell_type": "code",
     "collapsed": false,
     "input": [
      "# Find minimum value of the Beat variable (the number of different 'beats' patroled by police)\n",
      "df['Beat'].min()"
     ],
     "language": "python",
     "metadata": {},
     "outputs": [
      {
       "metadata": {},
       "output_type": "pyout",
       "prompt_number": 169,
       "text": [
        "111"
       ]
      }
     ],
     "prompt_number": 169
    },
    {
     "cell_type": "code",
     "collapsed": false,
     "input": [
      "# Find the number of arrests\n",
      "arrests = df[df['Arrest'] == True]\n",
      "len(arrests)"
     ],
     "language": "python",
     "metadata": {},
     "outputs": [
      {
       "metadata": {},
       "output_type": "pyout",
       "prompt_number": 170,
       "text": [
        "15536"
       ]
      }
     ],
     "prompt_number": 170
    },
    {
     "cell_type": "code",
     "collapsed": false,
     "input": [
      "# Find the number of times a crime occured in an alley\n",
      "alleys = df[df['LocationDescription'] == 'ALLEY']\n",
      "len(alleys)"
     ],
     "language": "python",
     "metadata": {},
     "outputs": [
      {
       "metadata": {},
       "output_type": "pyout",
       "prompt_number": 171,
       "text": [
        "2308"
       ]
      }
     ],
     "prompt_number": 171
    },
    {
     "cell_type": "code",
     "collapsed": false,
     "input": [
      "# Find the median date in the dataset\n",
      "dates = df['Date']\n",
      "middle = np.median(df.index.values)\n",
      "dates[middle]"
     ],
     "language": "python",
     "metadata": {},
     "outputs": [
      {
       "metadata": {},
       "output_type": "pyout",
       "prompt_number": 172,
       "text": [
        "'5/21/06 12:30'"
       ]
      }
     ],
     "prompt_number": 172
    },
    {
     "cell_type": "code",
     "collapsed": false,
     "input": [
      "# Example of date string to datetime object conversion\n",
      "# date1 = df['Date'][0]\n",
      "# time1 = pd.to_datetime(date1)\n",
      "# time1.month\n",
      "\n",
      "# Convert date strings in dataset to datetime objects, then extract month and day values and place them into\n",
      "# two new columns in the dataframe.\n",
      "datetimes = pd.to_datetime(df['Date'])\n",
      "# Create month column in dataframe\n",
      "df['Month'] = [datetime.month for datetime in datetimes]\n",
      "# Create day column in dateframe\n",
      "df['Day'] = [datetime.weekday() for datetime in datetimes]\n",
      "# Check that this worked\n",
      "# Creat a year column in dataframe\n",
      "df['Year'] = [datetime.year for datetime in datetimes]\n",
      "df.head()"
     ],
     "language": "python",
     "metadata": {},
     "outputs": [
      {
       "html": [
        "<div style=\"max-height:1000px;max-width:1500px;overflow:auto;\">\n",
        "<table border=\"1\" class=\"dataframe\">\n",
        "  <thead>\n",
        "    <tr style=\"text-align: right;\">\n",
        "      <th></th>\n",
        "      <th>ID</th>\n",
        "      <th>Date</th>\n",
        "      <th>LocationDescription</th>\n",
        "      <th>Arrest</th>\n",
        "      <th>Domestic</th>\n",
        "      <th>Beat</th>\n",
        "      <th>District</th>\n",
        "      <th>CommunityArea</th>\n",
        "      <th>Year</th>\n",
        "      <th>Latitude</th>\n",
        "      <th>Longitude</th>\n",
        "      <th>Month</th>\n",
        "      <th>Day</th>\n",
        "    </tr>\n",
        "  </thead>\n",
        "  <tbody>\n",
        "    <tr>\n",
        "      <th>0</th>\n",
        "      <td> 8951354</td>\n",
        "      <td> 12/31/12 23:15</td>\n",
        "      <td>                        STREET</td>\n",
        "      <td> False</td>\n",
        "      <td> False</td>\n",
        "      <td>  623</td>\n",
        "      <td>  6</td>\n",
        "      <td> 69</td>\n",
        "      <td> 2012</td>\n",
        "      <td> 41.756284</td>\n",
        "      <td>-87.621645</td>\n",
        "      <td> 12</td>\n",
        "      <td> 0</td>\n",
        "    </tr>\n",
        "    <tr>\n",
        "      <th>1</th>\n",
        "      <td> 8951141</td>\n",
        "      <td> 12/31/12 22:00</td>\n",
        "      <td>                        STREET</td>\n",
        "      <td> False</td>\n",
        "      <td> False</td>\n",
        "      <td> 1213</td>\n",
        "      <td> 12</td>\n",
        "      <td> 24</td>\n",
        "      <td> 2012</td>\n",
        "      <td> 41.898788</td>\n",
        "      <td>-87.661303</td>\n",
        "      <td> 12</td>\n",
        "      <td> 0</td>\n",
        "    </tr>\n",
        "    <tr>\n",
        "      <th>2</th>\n",
        "      <td> 8952745</td>\n",
        "      <td> 12/31/12 22:00</td>\n",
        "      <td> RESIDENTIAL YARD (FRONT/BACK)</td>\n",
        "      <td> False</td>\n",
        "      <td> False</td>\n",
        "      <td> 1622</td>\n",
        "      <td> 16</td>\n",
        "      <td> 11</td>\n",
        "      <td> 2012</td>\n",
        "      <td> 41.969186</td>\n",
        "      <td>-87.767670</td>\n",
        "      <td> 12</td>\n",
        "      <td> 0</td>\n",
        "    </tr>\n",
        "    <tr>\n",
        "      <th>3</th>\n",
        "      <td> 8952223</td>\n",
        "      <td> 12/31/12 22:00</td>\n",
        "      <td>                        STREET</td>\n",
        "      <td> False</td>\n",
        "      <td> False</td>\n",
        "      <td>  724</td>\n",
        "      <td>  7</td>\n",
        "      <td> 67</td>\n",
        "      <td> 2012</td>\n",
        "      <td> 41.769329</td>\n",
        "      <td>-87.657726</td>\n",
        "      <td> 12</td>\n",
        "      <td> 0</td>\n",
        "    </tr>\n",
        "    <tr>\n",
        "      <th>4</th>\n",
        "      <td> 8951608</td>\n",
        "      <td> 12/31/12 21:30</td>\n",
        "      <td>                        STREET</td>\n",
        "      <td> False</td>\n",
        "      <td> False</td>\n",
        "      <td>  211</td>\n",
        "      <td>  2</td>\n",
        "      <td> 35</td>\n",
        "      <td> 2012</td>\n",
        "      <td> 41.837568</td>\n",
        "      <td>-87.621761</td>\n",
        "      <td> 12</td>\n",
        "      <td> 0</td>\n",
        "    </tr>\n",
        "  </tbody>\n",
        "</table>\n",
        "<p>5 rows \u00d7 13 columns</p>\n",
        "</div>"
       ],
       "metadata": {},
       "output_type": "pyout",
       "prompt_number": 173,
       "text": [
        "        ID            Date            LocationDescription Arrest Domestic  \\\n",
        "0  8951354  12/31/12 23:15                         STREET  False    False   \n",
        "1  8951141  12/31/12 22:00                         STREET  False    False   \n",
        "2  8952745  12/31/12 22:00  RESIDENTIAL YARD (FRONT/BACK)  False    False   \n",
        "3  8952223  12/31/12 22:00                         STREET  False    False   \n",
        "4  8951608  12/31/12 21:30                         STREET  False    False   \n",
        "\n",
        "   Beat District CommunityArea  Year   Latitude  Longitude  Month  Day  \n",
        "0   623        6            69  2012  41.756284 -87.621645     12    0  \n",
        "1  1213       12            24  2012  41.898788 -87.661303     12    0  \n",
        "2  1622       16            11  2012  41.969186 -87.767670     12    0  \n",
        "3   724        7            67  2012  41.769329 -87.657726     12    0  \n",
        "4   211        2            35  2012  41.837568 -87.621761     12    0  \n",
        "\n",
        "[5 rows x 13 columns]"
       ]
      }
     ],
     "prompt_number": 173
    },
    {
     "cell_type": "code",
     "collapsed": false,
     "input": [
      "# Find month of fewest motor vehicle thefts\n",
      "months = df.groupby('Month').size()\n",
      "months[months[months.index.values] == months.min()]"
     ],
     "language": "python",
     "metadata": {},
     "outputs": [
      {
       "metadata": {},
       "output_type": "pyout",
       "prompt_number": 174,
       "text": [
        "Month\n",
        "2        13511\n",
        "dtype: int64"
       ]
      }
     ],
     "prompt_number": 174
    },
    {
     "cell_type": "code",
     "collapsed": false,
     "input": [
      "# Find the day of most motor vehicle thefts\n",
      "days = df.groupby('Day').size()\n",
      "days[days[days.index.values] == days.max()]"
     ],
     "language": "python",
     "metadata": {},
     "outputs": [
      {
       "metadata": {},
       "output_type": "pyout",
       "prompt_number": 175,
       "text": [
        "Day\n",
        "4      29284\n",
        "dtype: int64"
       ]
      }
     ],
     "prompt_number": 175
    },
    {
     "cell_type": "code",
     "collapsed": false,
     "input": [
      "months_with_arrests = df[df['Arrest'] == True].groupby('Month').size()\n",
      "months_with_arrests[months_with_arrests[months_with_arrests.index.values] == months_with_arrests.max()]"
     ],
     "language": "python",
     "metadata": {},
     "outputs": [
      {
       "metadata": {},
       "output_type": "pyout",
       "prompt_number": 176,
       "text": [
        "Month\n",
        "1        1435\n",
        "dtype: int64"
       ]
      }
     ],
     "prompt_number": 176
    },
    {
     "cell_type": "code",
     "collapsed": false,
     "input": [
      "crimes_by_year = df.groupby('Year').size()\n",
      "crimes_by_year.plot(kind='bar')"
     ],
     "language": "python",
     "metadata": {},
     "outputs": [
      {
       "metadata": {},
       "output_type": "pyout",
       "prompt_number": 179,
       "text": [
        "<matplotlib.axes.AxesSubplot at 0x11e069350>"
       ]
      },
      {
       "metadata": {},
       "output_type": "display_data",
       "png": "[encoded data removed]",
       "text": [
        "<matplotlib.figure.Figure at 0x119716650>"
       ]
      }
     ],
     "prompt_number": 179
    },
    {
     "cell_type": "code",
     "collapsed": false,
     "input": [
      "# Frequency table for arrests made\n",
      "df['Arrest'].value_counts()"
     ],
     "language": "python",
     "metadata": {},
     "outputs": [
      {
       "metadata": {},
       "output_type": "pyout",
       "prompt_number": 205,
       "text": [
        "False    176105\n",
        "True      15536\n",
        "dtype: int64"
       ]
      }
     ],
     "prompt_number": 205
    },
    {
     "cell_type": "code",
     "collapsed": false,
     "input": [
      "# Boxplot comparing arrests and year\n",
      "df.boxplot(column='Year', by='Arrest')"
     ],
     "language": "python",
     "metadata": {},
     "outputs": [
      {
       "metadata": {},
       "output_type": "pyout",
       "prompt_number": 206,
       "text": [
        "<matplotlib.axes.AxesSubplot at 0x113b9cc10>"
       ]
      },
      {
       "metadata": {},
       "output_type": "display_data",
       "png": "[encoded data removed]",
       "text": [
        "<matplotlib.figure.Figure at 0x112251c50>"
       ]
      }
     ],
     "prompt_number": 206
    },
    {
     "cell_type": "code",
     "collapsed": false,
     "input": [
      "# Find number of motor vehicle thefts in 2001\n",
      "thefts_in_2001 = df['Year'] == 2001\n",
      "total_thefts_in_2001 = len(df[thefts_in_2001])\n",
      "\n",
      "# Find the number of arrests made for vehicle thefts in 2001\n",
      "total_arrests = df['Arrest'] == True\n",
      "arrests_in_2001 = df[thefts_in_2001 & total_arrests]\n",
      "total_arrests_in_2001 = len(arrests_in_2001)\n",
      "\n",
      "print \"Total reported motor vehicle thefts in 2001: \", total_thefts_in_2001\n",
      "print \"Total arrests made for motor vehicle thefts in 2001: \", total_arrests_in_2001\n",
      "print \"Fraction of arrests made to total thefts: \", total_arrests_in_2001 / float(total_thefts_in_2001)"
     ],
     "language": "python",
     "metadata": {},
     "outputs": [
      {
       "output_type": "stream",
       "stream": "stdout",
       "text": [
        "Total reported motor vehicle thefts in 2001:  20669\n",
        "Total arrests made for motor vehicle thefts in 2001:  2152\n",
        "Fraction of arrests made to total thefts:  0.104117277082\n"
       ]
      }
     ],
     "prompt_number": 239
    },
    {
     "cell_type": "code",
     "collapsed": false,
     "input": [
      "# Find the number of vehicle thefts in 2007\n",
      "thefts_in_2007 = df['Year'] == 2007\n",
      "total_thefts_in_2007 = len(df[thefts_in_2007])\n",
      "\n",
      "# Find the number of arrests made for vehicle thefts in 2007\n",
      "arrests_in_2007 = df[thefts_in_2007 & total_arrests]\n",
      "total_arrests_in_2007 = len(arrests_in_2007)\n",
      "\n",
      "print \"Total reported motor vehicle thefts in 2007: \", total_thefts_in_2007\n",
      "print \"Total arrests made for motor vehicle thefts in 2007: \", total_arrests_in_2007\n",
      "print \"Fraction of arrests made to total thefts: \", total_arrests_in_2007 / float(total_thefts_in_2007)"
     ],
     "language": "python",
     "metadata": {},
     "outputs": [
      {
       "output_type": "stream",
       "stream": "stdout",
       "text": [
        "Total reported motor vehicle thefts in 2007:  14280\n",
        "Total arrests made for motor vehicle thefts in 2007:  1212\n",
        "Fraction of arrests made to total thefts:  0.0848739495798\n"
       ]
      }
     ],
     "prompt_number": 244
    },
    {
     "cell_type": "code",
     "collapsed": false,
     "input": [
      "# Find the number of vehicle thefts in 2012\n",
      "thefts_in_2012 = df['Year'] == 2012\n",
      "total_thefts_in_2012 = len(df[thefts_in_2012])\n",
      "\n",
      "# Find the number of arrests made for vehicle thefts in 2012\n",
      "arrests_in_2012 = df[thefts_in_2012 & total_arrests]\n",
      "total_arrests_in_2012 = len(arrests_in_2012)\n",
      "\n",
      "print \"Total reported motor vehicle thefts in 2012: \", total_thefts_in_2012\n",
      "print \"Total arrests made for motor vehicle thefts in 2012: \", total_arrests_in_2012\n",
      "print \"Fraction of arrests made to total thefts: \", total_arrests_in_2012 / float(total_thefts_in_2012)"
     ],
     "language": "python",
     "metadata": {},
     "outputs": [
      {
       "output_type": "stream",
       "stream": "stdout",
       "text": [
        "Total reported motor vehicle thefts in 2012:  14092\n",
        "Total arrests made for motor vehicle thefts in 2012:  550\n",
        "Fraction of arrests made to total thefts:  0.0390292364462\n"
       ]
      }
     ],
     "prompt_number": 245
    },
    {
     "cell_type": "code",
     "collapsed": false,
     "input": [
      "# Find top 5 crime locations exluding OTHER\n",
      "all_locations_but_OTHER = df[df['LocationDescription'] != 'OTHER']\n",
      "top_five_locations = all_locations_but_OTHER['LocationDescription'].value_counts()[:5].index.values\n",
      "top_five_locations"
     ],
     "language": "python",
     "metadata": {},
     "outputs": [
      {
       "metadata": {},
       "output_type": "pyout",
       "prompt_number": 267,
       "text": [
        "array(['STREET', 'PARKING LOT/GARAGE(NON.RESID.)', 'ALLEY', 'GAS STATION',\n",
        "       'DRIVEWAY - RESIDENTIAL'], dtype=object)"
       ]
      }
     ],
     "prompt_number": 267
    },
    {
     "cell_type": "code",
     "collapsed": false,
     "input": [
      "# Create new dataframe that only contains data for the top 5 crime locations\n",
      "top5 = df[df['LocationDescription'].isin(top_five_locations)]\n",
      "top5.shape"
     ],
     "language": "python",
     "metadata": {},
     "outputs": [
      {
       "metadata": {},
       "output_type": "pyout",
       "prompt_number": 265,
       "text": [
        "(177510, 13)"
       ]
      }
     ],
     "prompt_number": 265
    },
    {
     "cell_type": "code",
     "collapsed": false,
     "input": [
      "# Function to find which top 5 crime location has the highest arrest rate\n",
      "def count_crimes(location):\n",
      "    crimes = len(top5[top5['LocationDescription'] == location])\n",
      "    return crimes"
     ],
     "language": "python",
     "metadata": {},
     "outputs": [],
     "prompt_number": 271
    },
    {
     "cell_type": "code",
     "collapsed": false,
     "input": [
      "# Function to find how many arrests were made a a location\n",
      "def count_arrests(location):\n",
      "    arrested = top5['Arrest'] == True\n",
      "    at_location = top5['LocationDescription'] == location\n",
      "    arrested_and_at_location = top5[arrested & at_location]\n",
      "    return len(arrested_and_at_location)"
     ],
     "language": "python",
     "metadata": {},
     "outputs": [],
     "prompt_number": 272
    },
    {
     "cell_type": "code",
     "collapsed": false,
     "input": [
      "# Function to calculate arrest rates at a group of locations\n",
      "def arrest_rates(locations):\n",
      "    rates = {}\n",
      "    for loc in locations:\n",
      "        crimes_committed = count_crimes(loc)\n",
      "        arrests_made = count_arrests(loc)\n",
      "        arrest_rate = arrests_made / float(crimes_committed)\n",
      "        rates[loc] = arrest_rate\n",
      "    return rates"
     ],
     "language": "python",
     "metadata": {},
     "outputs": [],
     "prompt_number": 273
    },
    {
     "cell_type": "code",
     "collapsed": false,
     "input": [
      "r = arrest_rates(top_five_locations)\n",
      "print \"Location with highest arrest rate: \" + max(r, key=r.get)"
     ],
     "language": "python",
     "metadata": {},
     "outputs": [
      {
       "output_type": "stream",
       "stream": "stdout",
       "text": [
        "Location with highest arrest rate: GAS STATION\n"
       ]
      }
     ],
     "prompt_number": 275
    },
    {
     "cell_type": "code",
     "collapsed": false,
     "input": [
      "# Find which day of the week has the most vehicle thefts at a gas station\n",
      "gas_data = top5[top5['LocationDescription'] == 'GAS STATION']\n",
      "gas_data['Day'].value_counts()"
     ],
     "language": "python",
     "metadata": {},
     "outputs": [
      {
       "metadata": {},
       "output_type": "pyout",
       "prompt_number": 277,
       "text": [
        "5    338\n",
        "6    336\n",
        "4    332\n",
        "3    282\n",
        "0    280\n",
        "2    273\n",
        "1    270\n",
        "dtype: int64"
       ]
      }
     ],
     "prompt_number": 277
    },
    {
     "cell_type": "code",
     "collapsed": false,
     "input": [
      "# Find which day of the week has the least vehicle thefts at residential driveways\n",
      "driveway_data = top5[top5['LocationDescription'] == 'DRIVEWAY - RESIDENTIAL']\n",
      "driveway_data['Day'].value_counts()"
     ],
     "language": "python",
     "metadata": {},
     "outputs": [
      {
       "metadata": {},
       "output_type": "pyout",
       "prompt_number": 281,
       "text": [
        "3    263\n",
        "4    257\n",
        "0    255\n",
        "1    243\n",
        "2    234\n",
        "6    221\n",
        "5    202\n",
        "dtype: int64"
       ]
      }
     ],
     "prompt_number": 281
    },
    {
     "cell_type": "code",
     "collapsed": false,
     "input": [],
     "language": "python",
     "metadata": {},
     "outputs": []
    }
   ],
   "metadata": {}
  }
 ]
}