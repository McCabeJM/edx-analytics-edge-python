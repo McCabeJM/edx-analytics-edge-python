{
 "metadata": {
  "name": ""
 },
 "nbformat": 3,
 "nbformat_minor": 0,
 "worksheets": [
  {
   "cells": [
    {
     "cell_type": "code",
     "collapsed": false,
     "input": [
      "# Analytics Edge EdX course\n",
      "# Part 3: Analyzes Pew Research opinion poll data about internet privacy\n",
      "from pandas import DataFrame, read_csv\n",
      "import matplotlib.pyplot as plt\n",
      "import pandas as pd\n",
      "import numpy as np\n",
      "%matplotlib inline"
     ],
     "language": "python",
     "metadata": {},
     "outputs": [],
     "prompt_number": 141
    },
    {
     "cell_type": "code",
     "collapsed": false,
     "input": [
      "# Get csv file location\n",
      "# File location\n",
      "# Changed before commited to version control. Make sure to input the correct path to csv file\n",
      "location = r'/Users/QuantumIan/documents/python/MOOCs/edX/analytics_edge_python/csvs/AnonymityPoll.csv'\n",
      "df = read_csv(location)\n",
      "\n",
      "# Check that csv was read into a dataframe correctly\n",
      "df.head(10)"
     ],
     "language": "python",
     "metadata": {},
     "outputs": [
      {
       "html": [
        "<div style=\"max-height:1000px;max-width:1500px;overflow:auto;\">\n",
        "<table border=\"1\" class=\"dataframe\">\n",
        "  <thead>\n",
        "    <tr style=\"text-align: right;\">\n",
        "      <th></th>\n",
        "      <th>Internet.Use</th>\n",
        "      <th>Smartphone</th>\n",
        "      <th>Sex</th>\n",
        "      <th>Age</th>\n",
        "      <th>State</th>\n",
        "      <th>Region</th>\n",
        "      <th>Conservativeness</th>\n",
        "      <th>Info.On.Internet</th>\n",
        "      <th>Worry.About.Info</th>\n",
        "      <th>Privacy.Importance</th>\n",
        "      <th>Anonymity.Possible</th>\n",
        "      <th>Tried.Masking.Identity</th>\n",
        "      <th>Privacy.Laws.Effective</th>\n",
        "    </tr>\n",
        "  </thead>\n",
        "  <tbody>\n",
        "    <tr>\n",
        "      <th>0</th>\n",
        "      <td> 1</td>\n",
        "      <td>  0</td>\n",
        "      <td>   Male</td>\n",
        "      <td> 62</td>\n",
        "      <td>  Massachusetts</td>\n",
        "      <td> Northeast</td>\n",
        "      <td> 4</td>\n",
        "      <td>  0</td>\n",
        "      <td>  1</td>\n",
        "      <td> 100.000000</td>\n",
        "      <td>  0</td>\n",
        "      <td>  0</td>\n",
        "      <td>  0</td>\n",
        "    </tr>\n",
        "    <tr>\n",
        "      <th>1</th>\n",
        "      <td> 1</td>\n",
        "      <td>  0</td>\n",
        "      <td>   Male</td>\n",
        "      <td> 45</td>\n",
        "      <td> South Carolina</td>\n",
        "      <td>     South</td>\n",
        "      <td> 1</td>\n",
        "      <td>  1</td>\n",
        "      <td>  0</td>\n",
        "      <td>   0.000000</td>\n",
        "      <td>  1</td>\n",
        "      <td>  0</td>\n",
        "      <td>  1</td>\n",
        "    </tr>\n",
        "    <tr>\n",
        "      <th>2</th>\n",
        "      <td> 0</td>\n",
        "      <td>  1</td>\n",
        "      <td> Female</td>\n",
        "      <td> 70</td>\n",
        "      <td>     New Jersey</td>\n",
        "      <td> Northeast</td>\n",
        "      <td> 4</td>\n",
        "      <td>  0</td>\n",
        "      <td>  0</td>\n",
        "      <td>        NaN</td>\n",
        "      <td>  0</td>\n",
        "      <td>  0</td>\n",
        "      <td>NaN</td>\n",
        "    </tr>\n",
        "    <tr>\n",
        "      <th>3</th>\n",
        "      <td> 1</td>\n",
        "      <td>  0</td>\n",
        "      <td>   Male</td>\n",
        "      <td> 70</td>\n",
        "      <td>        Georgia</td>\n",
        "      <td>     South</td>\n",
        "      <td> 4</td>\n",
        "      <td>  3</td>\n",
        "      <td>  1</td>\n",
        "      <td>  88.888889</td>\n",
        "      <td>  1</td>\n",
        "      <td>  0</td>\n",
        "      <td>  0</td>\n",
        "    </tr>\n",
        "    <tr>\n",
        "      <th>4</th>\n",
        "      <td> 0</td>\n",
        "      <td>NaN</td>\n",
        "      <td> Female</td>\n",
        "      <td> 80</td>\n",
        "      <td>        Georgia</td>\n",
        "      <td>     South</td>\n",
        "      <td> 4</td>\n",
        "      <td>NaN</td>\n",
        "      <td>NaN</td>\n",
        "      <td>        NaN</td>\n",
        "      <td>NaN</td>\n",
        "      <td>NaN</td>\n",
        "      <td>NaN</td>\n",
        "    </tr>\n",
        "    <tr>\n",
        "      <th>5</th>\n",
        "      <td> 1</td>\n",
        "      <td>  1</td>\n",
        "      <td>   Male</td>\n",
        "      <td> 49</td>\n",
        "      <td>      Tennessee</td>\n",
        "      <td>     South</td>\n",
        "      <td> 4</td>\n",
        "      <td>  6</td>\n",
        "      <td>  0</td>\n",
        "      <td>  88.888889</td>\n",
        "      <td>  1</td>\n",
        "      <td>  1</td>\n",
        "      <td>  0</td>\n",
        "    </tr>\n",
        "    <tr>\n",
        "      <th>6</th>\n",
        "      <td> 1</td>\n",
        "      <td>  0</td>\n",
        "      <td> Female</td>\n",
        "      <td> 52</td>\n",
        "      <td>       Michigan</td>\n",
        "      <td>   Midwest</td>\n",
        "      <td> 3</td>\n",
        "      <td>  3</td>\n",
        "      <td>  1</td>\n",
        "      <td>  33.333333</td>\n",
        "      <td>  0</td>\n",
        "      <td>  0</td>\n",
        "      <td>  1</td>\n",
        "    </tr>\n",
        "    <tr>\n",
        "      <th>7</th>\n",
        "      <td> 0</td>\n",
        "      <td>  0</td>\n",
        "      <td> Female</td>\n",
        "      <td> 76</td>\n",
        "      <td>       New York</td>\n",
        "      <td> Northeast</td>\n",
        "      <td> 3</td>\n",
        "      <td>NaN</td>\n",
        "      <td>NaN</td>\n",
        "      <td>        NaN</td>\n",
        "      <td>NaN</td>\n",
        "      <td>NaN</td>\n",
        "      <td>NaN</td>\n",
        "    </tr>\n",
        "    <tr>\n",
        "      <th>8</th>\n",
        "      <td> 0</td>\n",
        "      <td>NaN</td>\n",
        "      <td>   Male</td>\n",
        "      <td> 75</td>\n",
        "      <td> North Carolina</td>\n",
        "      <td>     South</td>\n",
        "      <td> 4</td>\n",
        "      <td>NaN</td>\n",
        "      <td>NaN</td>\n",
        "      <td>        NaN</td>\n",
        "      <td>NaN</td>\n",
        "      <td>NaN</td>\n",
        "      <td>  0</td>\n",
        "    </tr>\n",
        "    <tr>\n",
        "      <th>9</th>\n",
        "      <td> 1</td>\n",
        "      <td>  0</td>\n",
        "      <td> Female</td>\n",
        "      <td> 76</td>\n",
        "      <td> North Carolina</td>\n",
        "      <td>     South</td>\n",
        "      <td> 4</td>\n",
        "      <td>  0</td>\n",
        "      <td>  0</td>\n",
        "      <td>  56.250000</td>\n",
        "      <td>  1</td>\n",
        "      <td>  0</td>\n",
        "      <td>  1</td>\n",
        "    </tr>\n",
        "  </tbody>\n",
        "</table>\n",
        "<p>10 rows \u00d7 13 columns</p>\n",
        "</div>"
       ],
       "metadata": {},
       "output_type": "pyout",
       "prompt_number": 142,
       "text": [
        "   Internet.Use  Smartphone     Sex  Age           State     Region  \\\n",
        "0             1           0    Male   62   Massachusetts  Northeast   \n",
        "1             1           0    Male   45  South Carolina      South   \n",
        "2             0           1  Female   70      New Jersey  Northeast   \n",
        "3             1           0    Male   70         Georgia      South   \n",
        "4             0         NaN  Female   80         Georgia      South   \n",
        "5             1           1    Male   49       Tennessee      South   \n",
        "6             1           0  Female   52        Michigan    Midwest   \n",
        "7             0           0  Female   76        New York  Northeast   \n",
        "8             0         NaN    Male   75  North Carolina      South   \n",
        "9             1           0  Female   76  North Carolina      South   \n",
        "\n",
        "   Conservativeness  Info.On.Internet  Worry.About.Info  Privacy.Importance  \\\n",
        "0                 4                 0                 1          100.000000   \n",
        "1                 1                 1                 0            0.000000   \n",
        "2                 4                 0                 0                 NaN   \n",
        "3                 4                 3                 1           88.888889   \n",
        "4                 4               NaN               NaN                 NaN   \n",
        "5                 4                 6                 0           88.888889   \n",
        "6                 3                 3                 1           33.333333   \n",
        "7                 3               NaN               NaN                 NaN   \n",
        "8                 4               NaN               NaN                 NaN   \n",
        "9                 4                 0                 0           56.250000   \n",
        "\n",
        "   Anonymity.Possible  Tried.Masking.Identity  Privacy.Laws.Effective  \n",
        "0                   0                       0                       0  \n",
        "1                   1                       0                       1  \n",
        "2                   0                       0                     NaN  \n",
        "3                   1                       0                       0  \n",
        "4                 NaN                     NaN                     NaN  \n",
        "5                   1                       1                       0  \n",
        "6                   0                       0                       1  \n",
        "7                 NaN                     NaN                     NaN  \n",
        "8                 NaN                     NaN                       0  \n",
        "9                   1                       0                       1  \n",
        "\n",
        "[10 rows x 13 columns]"
       ]
      }
     ],
     "prompt_number": 142
    },
    {
     "cell_type": "code",
     "collapsed": false,
     "input": [
      "# See dimensions of poll data\n",
      "participants, variables = df.shape\n",
      "print \"There were %s participants in this research poll.\" % participants\n",
      "print \"There are %s variables in this research poll.\" % variables"
     ],
     "language": "python",
     "metadata": {},
     "outputs": [
      {
       "output_type": "stream",
       "stream": "stdout",
       "text": [
        "There were 1002 participants in this research poll.\n",
        "There are 13 variables in this research poll.\n"
       ]
      }
     ],
     "prompt_number": 143
    },
    {
     "cell_type": "code",
     "collapsed": false,
     "input": [
      "# Count the number of people with smartphones\n",
      "smartphone, no_smartphone = df['Smartphone'].value_counts()\n",
      "print \"%s people responded that they have a smartphone.\" % smartphone\n",
      "print \"%s people responded that they do not have a smartphone.\" % no_smartphone\n",
      "neither = participants - (smartphone + no_smartphone)\n",
      "print \"%s people didn't give a response to this question.\" % neither"
     ],
     "language": "python",
     "metadata": {},
     "outputs": [
      {
       "output_type": "stream",
       "stream": "stdout",
       "text": [
        "487 people responded that they have a smartphone.\n",
        "472 people responded that they do not have a smartphone.\n",
        "43 people didn't give a response to this question.\n"
       ]
      }
     ],
     "prompt_number": 144
    },
    {
     "cell_type": "code",
     "collapsed": false,
     "input": [
      "# Calculate how many people of either male or female gender are in the 4 regions in the dataframe\n",
      "df.groupby(['Sex'])['Region'].value_counts()"
     ],
     "language": "python",
     "metadata": {},
     "outputs": [
      {
       "metadata": {},
       "output_type": "pyout",
       "prompt_number": 145,
       "text": [
        "Sex              \n",
        "Female  South        176\n",
        "        Midwest      123\n",
        "        West         116\n",
        "        Northeast     90\n",
        "Male    South        183\n",
        "        West         122\n",
        "        Midwest      116\n",
        "        Northeast     76\n",
        "dtype: int64"
       ]
      }
     ],
     "prompt_number": 145
    },
    {
     "cell_type": "code",
     "collapsed": false,
     "input": [
      "# Find out which states belong to which region according to the dataframe\n",
      "region_states = df.groupby(['Region'])['State'].unique()\n",
      "region_states"
     ],
     "language": "python",
     "metadata": {},
     "outputs": [
      {
       "metadata": {},
       "output_type": "pyout",
       "prompt_number": 146,
       "text": [
        "Region\n",
        "Midwest      [Michigan, Ohio, Indiana, Minnesota, North Dak...\n",
        "Northeast    [Massachusetts, New Jersey, New York, Pennsylv...\n",
        "South        [South Carolina, Georgia, Tennessee, North Car...\n",
        "West         [Utah, Colorado, New Mexico, Arizona, Californ...\n",
        "dtype: object"
       ]
      }
     ],
     "prompt_number": 146
    },
    {
     "cell_type": "code",
     "collapsed": false,
     "input": [
      "# Midwestern states\n",
      "region_states['Midwest']"
     ],
     "language": "python",
     "metadata": {},
     "outputs": [
      {
       "metadata": {},
       "output_type": "pyout",
       "prompt_number": 147,
       "text": [
        "Midwest        Michigan\n",
        "Midwest            Ohio\n",
        "Midwest         Indiana\n",
        "Midwest       Minnesota\n",
        "Midwest    North Dakota\n",
        "Midwest       Wisconsin\n",
        "Midwest        Missouri\n",
        "Midwest        Illinois\n",
        "Midwest        Nebraska\n",
        "Midwest    South Dakota\n",
        "Midwest          Kansas\n",
        "Midwest            Iowa\n",
        "dtype: object"
       ]
      }
     ],
     "prompt_number": 147
    },
    {
     "cell_type": "code",
     "collapsed": false,
     "input": [
      "# Find the state in the South region with the most respondents\n",
      "southern_state_counts = df[df['State'].isin(region_states['South'])]['State'].value_counts()\n",
      "southern_state_counts"
     ],
     "language": "python",
     "metadata": {},
     "outputs": [
      {
       "metadata": {},
       "output_type": "pyout",
       "prompt_number": 148,
       "text": [
        "Texas                   72\n",
        "Florida                 42\n",
        "Georgia                 34\n",
        "North Carolina          32\n",
        "Virginia                31\n",
        "Kentucky                25\n",
        "Maryland                18\n",
        "Louisiana               17\n",
        "Tennessee               17\n",
        "Oklahoma                14\n",
        "South Carolina          12\n",
        "Mississippi             11\n",
        "Alabama                 11\n",
        "Arkansas                10\n",
        "Delaware                 6\n",
        "West Virginia            5\n",
        "District of Columbia     2\n",
        "dtype: int64"
       ]
      }
     ],
     "prompt_number": 148
    },
    {
     "cell_type": "code",
     "collapsed": false,
     "input": [
      "smartphone_and_internet = df.groupby(['Smartphone'])['Internet.Use'].value_counts()\n",
      "no_smartphone_no_internet = smartphone_and_internet[0][0]\n",
      "no_smartphone_have_internet = smartphone_and_internet[0][1]\n",
      "have_smartphone_no_internet = smartphone_and_internet[1][0]\n",
      "have_smartphone_have_internet = smartphone_and_internet[1][1]\n",
      "print \"%s people have neither a smartphone nor the internet.\"  % no_smartphone_no_internet\n",
      "print \"%s people don't have a smartphone but do have the internet.\"  % no_smartphone_have_internet\n",
      "print \"%s people have a smartphone but don't have the internet.\" %have_smartphone_no_internet\n",
      "print \"%s people have both a smartphone and the internet.\" % have_smartphone_have_internet"
     ],
     "language": "python",
     "metadata": {},
     "outputs": [
      {
       "output_type": "stream",
       "stream": "stdout",
       "text": [
        "186 people have neither a smartphone nor the internet.\n",
        "285 people don't have a smartphone but do have the internet.\n",
        "17 people have a smartphone but don't have the internet.\n",
        "470 people have both a smartphone and the internet.\n"
       ]
      }
     ],
     "prompt_number": 149
    },
    {
     "cell_type": "code",
     "collapsed": false,
     "input": [
      "# Find number of missing values for internet use\n",
      "nan_internet = df['Internet.Use'].notnull().value_counts()\n",
      "print \"Number of people who didn't answer internet use question: %s\" % nan_internet[0]"
     ],
     "language": "python",
     "metadata": {},
     "outputs": [
      {
       "output_type": "stream",
       "stream": "stdout",
       "text": [
        "Number of people who didn't answer internet use question: 1\n"
       ]
      }
     ],
     "prompt_number": 150
    },
    {
     "cell_type": "code",
     "collapsed": false,
     "input": [
      "# Find number of missing values for smartphone use\n",
      "nan_smartphone = df['Smartphone'].notnull().value_counts()\n",
      "print \"Number of people who didn't answer smartphone use question: %s\" % nan_smartphone[0]"
     ],
     "language": "python",
     "metadata": {},
     "outputs": [
      {
       "output_type": "stream",
       "stream": "stdout",
       "text": [
        "Number of people who didn't answer smartphone use question: 43\n"
       ]
      }
     ],
     "prompt_number": 151
    },
    {
     "cell_type": "code",
     "collapsed": false,
     "input": [
      "# Find number of respondents who reported internet or smartphone usage. \n",
      "have_smartphone = df['Smartphone'] == 1\n",
      "have_internet = df['Internet.Use'] == 1\n",
      "smartphone_internet_df = df[have_smartphone | have_internet]\n",
      "print \"%s people have a smartphone or have the internet.\" % smartphone_internet_df.shape[0]"
     ],
     "language": "python",
     "metadata": {},
     "outputs": [
      {
       "output_type": "stream",
       "stream": "stdout",
       "text": [
        "792 people have a smartphone or have the internet.\n"
       ]
      }
     ],
     "prompt_number": 155
    },
    {
     "cell_type": "code",
     "collapsed": false,
     "input": [],
     "language": "python",
     "metadata": {},
     "outputs": []
    }
   ],
   "metadata": {}
  }
 ]
}