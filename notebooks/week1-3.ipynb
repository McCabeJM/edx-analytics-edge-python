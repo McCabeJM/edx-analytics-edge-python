{
 "metadata": {
  "name": ""
 },
 "nbformat": 3,
 "nbformat_minor": 0,
 "worksheets": [
  {
   "cells": [
    {
     "cell_type": "code",
     "collapsed": false,
     "input": [
      "# Analytics Edge EdX course\n",
      "# Part 3: Analyzes Pew Research opinion poll data about internet privacy\n",
      "from pandas import DataFrame, read_csv\n",
      "import matplotlib.pyplot as plt\n",
      "import pandas as pd\n",
      "import numpy as np\n",
      "%matplotlib inline"
     ],
     "language": "python",
     "metadata": {},
     "outputs": [],
     "prompt_number": 123
    },
    {
     "cell_type": "code",
     "collapsed": false,
     "input": [
      "# Get csv file location\n",
      "# File location\n",
      "# Changed before commited to version control. Make sure to input the correct path to csv file\n",
      "location = r'../csvs/AnonymityPoll.csv'\n",
      "df = read_csv(location)\n",
      "\n",
      "# Check that csv was read into a dataframe correctly\n",
      "df.head(10)"
     ],
     "language": "python",
     "metadata": {},
     "outputs": [
      {
       "html": [
        "<div style=\"max-height:1000px;max-width:1500px;overflow:auto;\">\n",
        "<table border=\"1\" class=\"dataframe\">\n",
        "  <thead>\n",
        "    <tr style=\"text-align: right;\">\n",
        "      <th></th>\n",
        "      <th>Internet.Use</th>\n",
        "      <th>Smartphone</th>\n",
        "      <th>Sex</th>\n",
        "      <th>Age</th>\n",
        "      <th>State</th>\n",
        "      <th>Region</th>\n",
        "      <th>Conservativeness</th>\n",
        "      <th>Info.On.Internet</th>\n",
        "      <th>Worry.About.Info</th>\n",
        "      <th>Privacy.Importance</th>\n",
        "      <th>Anonymity.Possible</th>\n",
        "      <th>Tried.Masking.Identity</th>\n",
        "      <th>Privacy.Laws.Effective</th>\n",
        "    </tr>\n",
        "  </thead>\n",
        "  <tbody>\n",
        "    <tr>\n",
        "      <th>0</th>\n",
        "      <td> 1</td>\n",
        "      <td>  0</td>\n",
        "      <td>   Male</td>\n",
        "      <td> 62</td>\n",
        "      <td>  Massachusetts</td>\n",
        "      <td> Northeast</td>\n",
        "      <td> 4</td>\n",
        "      <td>  0</td>\n",
        "      <td>  1</td>\n",
        "      <td> 100.000000</td>\n",
        "      <td>  0</td>\n",
        "      <td>  0</td>\n",
        "      <td>  0</td>\n",
        "    </tr>\n",
        "    <tr>\n",
        "      <th>1</th>\n",
        "      <td> 1</td>\n",
        "      <td>  0</td>\n",
        "      <td>   Male</td>\n",
        "      <td> 45</td>\n",
        "      <td> South Carolina</td>\n",
        "      <td>     South</td>\n",
        "      <td> 1</td>\n",
        "      <td>  1</td>\n",
        "      <td>  0</td>\n",
        "      <td>   0.000000</td>\n",
        "      <td>  1</td>\n",
        "      <td>  0</td>\n",
        "      <td>  1</td>\n",
        "    </tr>\n",
        "    <tr>\n",
        "      <th>2</th>\n",
        "      <td> 0</td>\n",
        "      <td>  1</td>\n",
        "      <td> Female</td>\n",
        "      <td> 70</td>\n",
        "      <td>     New Jersey</td>\n",
        "      <td> Northeast</td>\n",
        "      <td> 4</td>\n",
        "      <td>  0</td>\n",
        "      <td>  0</td>\n",
        "      <td>        NaN</td>\n",
        "      <td>  0</td>\n",
        "      <td>  0</td>\n",
        "      <td>NaN</td>\n",
        "    </tr>\n",
        "    <tr>\n",
        "      <th>3</th>\n",
        "      <td> 1</td>\n",
        "      <td>  0</td>\n",
        "      <td>   Male</td>\n",
        "      <td> 70</td>\n",
        "      <td>        Georgia</td>\n",
        "      <td>     South</td>\n",
        "      <td> 4</td>\n",
        "      <td>  3</td>\n",
        "      <td>  1</td>\n",
        "      <td>  88.888889</td>\n",
        "      <td>  1</td>\n",
        "      <td>  0</td>\n",
        "      <td>  0</td>\n",
        "    </tr>\n",
        "    <tr>\n",
        "      <th>4</th>\n",
        "      <td> 0</td>\n",
        "      <td>NaN</td>\n",
        "      <td> Female</td>\n",
        "      <td> 80</td>\n",
        "      <td>        Georgia</td>\n",
        "      <td>     South</td>\n",
        "      <td> 4</td>\n",
        "      <td>NaN</td>\n",
        "      <td>NaN</td>\n",
        "      <td>        NaN</td>\n",
        "      <td>NaN</td>\n",
        "      <td>NaN</td>\n",
        "      <td>NaN</td>\n",
        "    </tr>\n",
        "    <tr>\n",
        "      <th>5</th>\n",
        "      <td> 1</td>\n",
        "      <td>  1</td>\n",
        "      <td>   Male</td>\n",
        "      <td> 49</td>\n",
        "      <td>      Tennessee</td>\n",
        "      <td>     South</td>\n",
        "      <td> 4</td>\n",
        "      <td>  6</td>\n",
        "      <td>  0</td>\n",
        "      <td>  88.888889</td>\n",
        "      <td>  1</td>\n",
        "      <td>  1</td>\n",
        "      <td>  0</td>\n",
        "    </tr>\n",
        "    <tr>\n",
        "      <th>6</th>\n",
        "      <td> 1</td>\n",
        "      <td>  0</td>\n",
        "      <td> Female</td>\n",
        "      <td> 52</td>\n",
        "      <td>       Michigan</td>\n",
        "      <td>   Midwest</td>\n",
        "      <td> 3</td>\n",
        "      <td>  3</td>\n",
        "      <td>  1</td>\n",
        "      <td>  33.333333</td>\n",
        "      <td>  0</td>\n",
        "      <td>  0</td>\n",
        "      <td>  1</td>\n",
        "    </tr>\n",
        "    <tr>\n",
        "      <th>7</th>\n",
        "      <td> 0</td>\n",
        "      <td>  0</td>\n",
        "      <td> Female</td>\n",
        "      <td> 76</td>\n",
        "      <td>       New York</td>\n",
        "      <td> Northeast</td>\n",
        "      <td> 3</td>\n",
        "      <td>NaN</td>\n",
        "      <td>NaN</td>\n",
        "      <td>        NaN</td>\n",
        "      <td>NaN</td>\n",
        "      <td>NaN</td>\n",
        "      <td>NaN</td>\n",
        "    </tr>\n",
        "    <tr>\n",
        "      <th>8</th>\n",
        "      <td> 0</td>\n",
        "      <td>NaN</td>\n",
        "      <td>   Male</td>\n",
        "      <td> 75</td>\n",
        "      <td> North Carolina</td>\n",
        "      <td>     South</td>\n",
        "      <td> 4</td>\n",
        "      <td>NaN</td>\n",
        "      <td>NaN</td>\n",
        "      <td>        NaN</td>\n",
        "      <td>NaN</td>\n",
        "      <td>NaN</td>\n",
        "      <td>  0</td>\n",
        "    </tr>\n",
        "    <tr>\n",
        "      <th>9</th>\n",
        "      <td> 1</td>\n",
        "      <td>  0</td>\n",
        "      <td> Female</td>\n",
        "      <td> 76</td>\n",
        "      <td> North Carolina</td>\n",
        "      <td>     South</td>\n",
        "      <td> 4</td>\n",
        "      <td>  0</td>\n",
        "      <td>  0</td>\n",
        "      <td>  56.250000</td>\n",
        "      <td>  1</td>\n",
        "      <td>  0</td>\n",
        "      <td>  1</td>\n",
        "    </tr>\n",
        "  </tbody>\n",
        "</table>\n",
        "<p>10 rows \u00d7 13 columns</p>\n",
        "</div>"
       ],
       "metadata": {},
       "output_type": "pyout",
       "prompt_number": 124,
       "text": [
        "   Internet.Use  Smartphone     Sex  Age           State     Region  \\\n",
        "0             1           0    Male   62   Massachusetts  Northeast   \n",
        "1             1           0    Male   45  South Carolina      South   \n",
        "2             0           1  Female   70      New Jersey  Northeast   \n",
        "3             1           0    Male   70         Georgia      South   \n",
        "4             0         NaN  Female   80         Georgia      South   \n",
        "5             1           1    Male   49       Tennessee      South   \n",
        "6             1           0  Female   52        Michigan    Midwest   \n",
        "7             0           0  Female   76        New York  Northeast   \n",
        "8             0         NaN    Male   75  North Carolina      South   \n",
        "9             1           0  Female   76  North Carolina      South   \n",
        "\n",
        "   Conservativeness  Info.On.Internet  Worry.About.Info  Privacy.Importance  \\\n",
        "0                 4                 0                 1          100.000000   \n",
        "1                 1                 1                 0            0.000000   \n",
        "2                 4                 0                 0                 NaN   \n",
        "3                 4                 3                 1           88.888889   \n",
        "4                 4               NaN               NaN                 NaN   \n",
        "5                 4                 6                 0           88.888889   \n",
        "6                 3                 3                 1           33.333333   \n",
        "7                 3               NaN               NaN                 NaN   \n",
        "8                 4               NaN               NaN                 NaN   \n",
        "9                 4                 0                 0           56.250000   \n",
        "\n",
        "   Anonymity.Possible  Tried.Masking.Identity  Privacy.Laws.Effective  \n",
        "0                   0                       0                       0  \n",
        "1                   1                       0                       1  \n",
        "2                   0                       0                     NaN  \n",
        "3                   1                       0                       0  \n",
        "4                 NaN                     NaN                     NaN  \n",
        "5                   1                       1                       0  \n",
        "6                   0                       0                       1  \n",
        "7                 NaN                     NaN                     NaN  \n",
        "8                 NaN                     NaN                       0  \n",
        "9                   1                       0                       1  \n",
        "\n",
        "[10 rows x 13 columns]"
       ]
      }
     ],
     "prompt_number": 124
    },
    {
     "cell_type": "code",
     "collapsed": false,
     "input": [
      "# See dimensions of poll data\n",
      "participants, variables = df.shape\n",
      "print \"There were %s participants in this research poll.\" % participants\n",
      "print \"There are %s variables in this research poll.\" % variables"
     ],
     "language": "python",
     "metadata": {},
     "outputs": [
      {
       "output_type": "stream",
       "stream": "stdout",
       "text": [
        "There were 1002 participants in this research poll.\n",
        "There are 13 variables in this research poll.\n"
       ]
      }
     ],
     "prompt_number": 125
    },
    {
     "cell_type": "code",
     "collapsed": false,
     "input": [
      "# Count the number of people with smartphones\n",
      "smartphone, no_smartphone = df['Smartphone'].value_counts()\n",
      "print \"%s people responded that they have a smartphone.\" % smartphone\n",
      "print \"%s people responded that they do not have a smartphone.\" % no_smartphone\n",
      "neither = participants - (smartphone + no_smartphone)\n",
      "print \"%s people didn't give a response to this question.\" % neither"
     ],
     "language": "python",
     "metadata": {},
     "outputs": [
      {
       "output_type": "stream",
       "stream": "stdout",
       "text": [
        "487 people responded that they have a smartphone.\n",
        "472 people responded that they do not have a smartphone.\n",
        "43 people didn't give a response to this question.\n"
       ]
      }
     ],
     "prompt_number": 126
    },
    {
     "cell_type": "code",
     "collapsed": false,
     "input": [
      "# Calculate how many people of either male or female gender are in the 4 regions in the dataframe\n",
      "df.groupby(['Sex'])['Region'].value_counts()"
     ],
     "language": "python",
     "metadata": {},
     "outputs": [
      {
       "metadata": {},
       "output_type": "pyout",
       "prompt_number": 127,
       "text": [
        "Sex              \n",
        "Female  South        176\n",
        "        Midwest      123\n",
        "        West         116\n",
        "        Northeast     90\n",
        "Male    South        183\n",
        "        West         122\n",
        "        Midwest      116\n",
        "        Northeast     76\n",
        "dtype: int64"
       ]
      }
     ],
     "prompt_number": 127
    },
    {
     "cell_type": "code",
     "collapsed": false,
     "input": [
      "# Find out which states belong to which region according to the dataframe\n",
      "region_states = df.groupby(['Region'])['State'].unique()\n",
      "region_states"
     ],
     "language": "python",
     "metadata": {},
     "outputs": [
      {
       "metadata": {},
       "output_type": "pyout",
       "prompt_number": 128,
       "text": [
        "Region\n",
        "Midwest      [Michigan, Ohio, Indiana, Minnesota, North Dak...\n",
        "Northeast    [Massachusetts, New Jersey, New York, Pennsylv...\n",
        "South        [South Carolina, Georgia, Tennessee, North Car...\n",
        "West         [Utah, Colorado, New Mexico, Arizona, Californ...\n",
        "dtype: object"
       ]
      }
     ],
     "prompt_number": 128
    },
    {
     "cell_type": "code",
     "collapsed": false,
     "input": [
      "# Midwestern states\n",
      "region_states['Midwest']"
     ],
     "language": "python",
     "metadata": {},
     "outputs": [
      {
       "metadata": {},
       "output_type": "pyout",
       "prompt_number": 129,
       "text": [
        "Midwest        Michigan\n",
        "Midwest            Ohio\n",
        "Midwest         Indiana\n",
        "Midwest       Minnesota\n",
        "Midwest    North Dakota\n",
        "Midwest       Wisconsin\n",
        "Midwest        Missouri\n",
        "Midwest        Illinois\n",
        "Midwest        Nebraska\n",
        "Midwest    South Dakota\n",
        "Midwest          Kansas\n",
        "Midwest            Iowa\n",
        "dtype: object"
       ]
      }
     ],
     "prompt_number": 129
    },
    {
     "cell_type": "code",
     "collapsed": false,
     "input": [
      "# Find the state in the South region with the most respondents\n",
      "southern_state_counts = df[df['State'].isin(region_states['South'])]['State'].value_counts()\n",
      "southern_state_counts"
     ],
     "language": "python",
     "metadata": {},
     "outputs": [
      {
       "metadata": {},
       "output_type": "pyout",
       "prompt_number": 130,
       "text": [
        "Texas                   72\n",
        "Florida                 42\n",
        "Georgia                 34\n",
        "North Carolina          32\n",
        "Virginia                31\n",
        "Kentucky                25\n",
        "Maryland                18\n",
        "Louisiana               17\n",
        "Tennessee               17\n",
        "Oklahoma                14\n",
        "South Carolina          12\n",
        "Mississippi             11\n",
        "Alabama                 11\n",
        "Arkansas                10\n",
        "Delaware                 6\n",
        "West Virginia            5\n",
        "District of Columbia     2\n",
        "dtype: int64"
       ]
      }
     ],
     "prompt_number": 130
    },
    {
     "cell_type": "code",
     "collapsed": false,
     "input": [
      "smartphone_and_internet = df.groupby(['Smartphone'])['Internet.Use'].value_counts()\n",
      "no_smartphone_no_internet = smartphone_and_internet[0][0]\n",
      "no_smartphone_have_internet = smartphone_and_internet[0][1]\n",
      "have_smartphone_no_internet = smartphone_and_internet[1][0]\n",
      "have_smartphone_have_internet = smartphone_and_internet[1][1]\n",
      "print \"%s people have neither a smartphone nor the internet.\"  % no_smartphone_no_internet\n",
      "print \"%s people don't have a smartphone but do have the internet.\"  % no_smartphone_have_internet\n",
      "print \"%s people have a smartphone but don't have the internet.\" %have_smartphone_no_internet\n",
      "print \"%s people have both a smartphone and the internet.\" % have_smartphone_have_internet"
     ],
     "language": "python",
     "metadata": {},
     "outputs": [
      {
       "output_type": "stream",
       "stream": "stdout",
       "text": [
        "186 people have neither a smartphone nor the internet.\n",
        "285 people don't have a smartphone but do have the internet.\n",
        "17 people have a smartphone but don't have the internet.\n",
        "470 people have both a smartphone and the internet.\n"
       ]
      }
     ],
     "prompt_number": 131
    },
    {
     "cell_type": "code",
     "collapsed": false,
     "input": [
      "# Find number of missing values for internet use\n",
      "nan_internet = df['Internet.Use'].notnull().value_counts()\n",
      "print \"Number of people who didn't answer internet use question: %s\" % nan_internet[0]"
     ],
     "language": "python",
     "metadata": {},
     "outputs": [
      {
       "output_type": "stream",
       "stream": "stdout",
       "text": [
        "Number of people who didn't answer internet use question: 1\n"
       ]
      }
     ],
     "prompt_number": 132
    },
    {
     "cell_type": "code",
     "collapsed": false,
     "input": [
      "# Find number of missing values for smartphone use\n",
      "nan_smartphone = df['Smartphone'].notnull().value_counts()\n",
      "print \"Number of people who didn't answer smartphone use question: %s\" % nan_smartphone[0]"
     ],
     "language": "python",
     "metadata": {},
     "outputs": [
      {
       "output_type": "stream",
       "stream": "stdout",
       "text": [
        "Number of people who didn't answer smartphone use question: 43\n"
       ]
      }
     ],
     "prompt_number": 133
    },
    {
     "cell_type": "code",
     "collapsed": false,
     "input": [
      "# Find number of respondents who reported internet or smartphone usage. \n",
      "have_smartphone = df['Smartphone'] == 1\n",
      "have_internet = df['Internet.Use'] == 1\n",
      "smartphone_internet_df = df[have_smartphone | have_internet]\n",
      "print \"%s people have a smartphone or have the internet.\" % smartphone_internet_df.shape[0]"
     ],
     "language": "python",
     "metadata": {},
     "outputs": [
      {
       "output_type": "stream",
       "stream": "stdout",
       "text": [
        "792 people have a smartphone or have the internet.\n"
       ]
      }
     ],
     "prompt_number": 134
    },
    {
     "cell_type": "code",
     "collapsed": false,
     "input": [
      "# Function to find which columns have NaN\n",
      "def nan_column_finder(df, columns):\n",
      "    valid = []\n",
      "    for col in columns:\n",
      "        if not all(df[col].notnull()):\n",
      "           valid.append(col)\n",
      "    return valid"
     ],
     "language": "python",
     "metadata": {},
     "outputs": [],
     "prompt_number": 135
    },
    {
     "cell_type": "code",
     "collapsed": false,
     "input": [
      "# Find columns in dataframe from previous problem with NaN values\n",
      "column_names = smartphone_internet_df.columns\n",
      "nan_list = nan_column_finder(smartphone_internet_df, column_names)\n",
      "nan_list"
     ],
     "language": "python",
     "metadata": {},
     "outputs": [
      {
       "metadata": {},
       "output_type": "pyout",
       "prompt_number": 136,
       "text": [
        "['Smartphone',\n",
        " 'Age',\n",
        " 'Conservativeness',\n",
        " 'Worry.About.Info',\n",
        " 'Privacy.Importance',\n",
        " 'Anonymity.Possible',\n",
        " 'Tried.Masking.Identity',\n",
        " 'Privacy.Laws.Effective']"
       ]
      }
     ],
     "prompt_number": 136
    },
    {
     "cell_type": "code",
     "collapsed": false,
     "input": [
      "# Find average number of pieces of personal information on the internet\n",
      "num_pieces_personal_info = df['Info.On.Internet'].mean()\n",
      "print \"The average number of pieces of personal information on the internet for the interviewees is %s\" % num_pieces_personal_info"
     ],
     "language": "python",
     "metadata": {},
     "outputs": [
      {
       "output_type": "stream",
       "stream": "stdout",
       "text": [
        "The average number of pieces of personal information on the internet for the interviewees is 3.79545454545\n"
       ]
      }
     ],
     "prompt_number": 137
    },
    {
     "cell_type": "code",
     "collapsed": false,
     "input": [
      "# Frequency table for pieces of personal information on the internet\n",
      "df['Info.On.Internet'].value_counts()"
     ],
     "language": "python",
     "metadata": {},
     "outputs": [
      {
       "metadata": {},
       "output_type": "pyout",
       "prompt_number": 138,
       "text": [
        "0     105\n",
        "4     104\n",
        "3     101\n",
        "2      95\n",
        "5      94\n",
        "1      84\n",
        "6      67\n",
        "7      63\n",
        "8      40\n",
        "9      18\n",
        "10     13\n",
        "11      8\n",
        "dtype: int64"
       ]
      }
     ],
     "prompt_number": 138
    },
    {
     "cell_type": "code",
     "collapsed": false,
     "input": [
      "# Find proportion of people who answered the worried about personal info on the internet question and do worry about this\n",
      "not_worried, worried = df['Worry.About.Info'].value_counts()\n",
      "total_answered_worry_question = sum([not_worried, worried])\n",
      "print \"Proportion who worry about their personal info on the internet: %s\" % (worried/float(total_answered_worry_question))"
     ],
     "language": "python",
     "metadata": {},
     "outputs": [
      {
       "output_type": "stream",
       "stream": "stdout",
       "text": [
        "Proportion who worry about their personal info on the internet: 0.488607594937\n"
       ]
      }
     ],
     "prompt_number": 139
    },
    {
     "cell_type": "code",
     "collapsed": false,
     "input": [
      "# Find proportion of interviewees who believe you can be completely anonymous on the internet\n",
      "not_anonymous, anonymous = df['Anonymity.Possible'].value_counts()\n",
      "total_answered_anonymous_question = sum([not_anonymous, anonymous])\n",
      "print \"Proportion of interviewees who believe you can be completely anonymous on the internet: %s\" % (anonymous/float(total_answered_anonymous_question))"
     ],
     "language": "python",
     "metadata": {},
     "outputs": [
      {
       "output_type": "stream",
       "stream": "stdout",
       "text": [
        "Proportion of interviewees who believe you can be completely anonymous on the internet: 0.369189907039\n"
       ]
      }
     ],
     "prompt_number": 140
    },
    {
     "cell_type": "code",
     "collapsed": false,
     "input": [
      "# Find proportion of interviewees who have tried masking their identity on the internet\n",
      "not_masked, masked = df['Tried.Masking.Identity'].value_counts()\n",
      "total_answered_masking_question = sum([not_masked, masked])\n",
      "print \"Proportion of interviewees who have tried masking their identity on the internet: %s\" % (masked/float(total_answered_masking_question))"
     ],
     "language": "python",
     "metadata": {},
     "outputs": [
      {
       "output_type": "stream",
       "stream": "stdout",
       "text": [
        "Proportion of interviewees who have tried masking their identity on the internet: 0.163265306122\n"
       ]
      }
     ],
     "prompt_number": 141
    },
    {
     "cell_type": "code",
     "collapsed": false,
     "input": [
      "# Find proportion of interviewees who believe America's privacy laws are effective\n",
      "# Discovered late that assignment required the use of limited dataframe from a few cells above about smartphones and internet use\n",
      "not_effective, effective = smartphone_internet_df['Privacy.Laws.Effective'].value_counts()\n",
      "total_answered_privacy_question = sum([not_effective, effective])\n",
      "print \"Proportion of interviewees who believe America's privacy laws are effective: %s\" % (effective/float(total_answered_privacy_question))"
     ],
     "language": "python",
     "metadata": {},
     "outputs": [
      {
       "output_type": "stream",
       "stream": "stdout",
       "text": [
        "Proportion of interviewees who believe America's privacy laws are effective: 0.255845942228\n"
       ]
      }
     ],
     "prompt_number": 142
    },
    {
     "cell_type": "code",
     "collapsed": false,
     "input": [
      "df['Age'].hist(bins=25)\n",
      "plt.title('Represented Age Groups', color='black')"
     ],
     "language": "python",
     "metadata": {},
     "outputs": [
      {
       "metadata": {},
       "output_type": "pyout",
       "prompt_number": 143,
       "text": [
        "<matplotlib.text.Text at 0x10ae33c10>"
       ]
      },
      {
       "metadata": {},
       "output_type": "display_data",
       "png": "[encoded data removed]",
       "text": [
        "<matplotlib.figure.Figure at 0x10a8c0310>"
       ]
      }
     ],
     "prompt_number": 143
    },
    {
     "cell_type": "code",
     "collapsed": false,
     "input": [
      "# Find how many times interviewees of the same age and chose the same item of personal info on the internet.\n",
      "overlaps = df['Age'].groupby(df['Info.On.Internet']).value_counts().max()\n",
      "# also this works\n",
      "#df.groupby('Age')['Info.On.Internet'].value_counts().max()\n",
      "print \"Maximum number of point overlaps due to people of same age have same personal item on internet: %s\" % overlaps"
     ],
     "language": "python",
     "metadata": {},
     "outputs": [
      {
       "output_type": "stream",
       "stream": "stdout",
       "text": [
        "Maximum number of point overlaps due to people of same age have same personal item on internet: 6\n"
       ]
      }
     ],
     "prompt_number": 159
    },
    {
     "cell_type": "code",
     "collapsed": false,
     "input": [
      "# Plot age against info on the internet to see if there is a connection between old age and lower\n",
      "# value personal items put on the internet\n",
      "plt.scatter(smartphone_internet_df['Age'], smartphone_internet_df['Info.On.Internet'])"
     ],
     "language": "python",
     "metadata": {},
     "outputs": [
      {
       "metadata": {},
       "output_type": "pyout",
       "prompt_number": 169,
       "text": [
        "<matplotlib.collections.PathCollection at 0x10ba932d0>"
       ]
      },
      {
       "metadata": {},
       "output_type": "display_data",
       "png": "[encoded data removed]",
       "text": [
        "<matplotlib.figure.Figure at 0x10baa9590>"
       ]
      }
     ],
     "prompt_number": 169
    },
    {
     "cell_type": "code",
     "collapsed": false,
     "input": [
      "# Find the average Info.On.Internet item for smartphone users\n",
      "# In limited, smartphon and internet dataframe from above\n",
      "smartphone_users = smartphone_internet_df[smartphone_internet_df['Smartphone'] == 1]\n",
      "average_info_item = smartphone_users['Info.On.Internet'].mean()\n",
      "average_info_item"
     ],
     "language": "python",
     "metadata": {},
     "outputs": [
      {
       "metadata": {},
       "output_type": "pyout",
       "prompt_number": 178,
       "text": [
        "4.3675564681724843"
       ]
      }
     ],
     "prompt_number": 178
    },
    {
     "cell_type": "code",
     "collapsed": false,
     "input": [
      "# Find the average Info.On.Internet item for non-smartphone users\n",
      "non_smartphone_users = smartphone_internet_df[smartphone_internet_df['Smartphone'] == 0]\n",
      "avg_info_item = non_smartphone_users['Info.On.Internet'].value()\n",
      "avg_info_item"
     ],
     "language": "python",
     "metadata": {},
     "outputs": [
      {
       "metadata": {},
       "output_type": "pyout",
       "prompt_number": 179,
       "text": [
        "2.9228070175438599"
       ]
      }
     ],
     "prompt_number": 179
    },
    {
     "cell_type": "code",
     "collapsed": false,
     "input": [
      "# Find the proportion of smartphone users who answered the Tried.Masking.Identity question \n",
      "# and have tried masking their identity when using the Internet.\n",
      "who_answered = smartphone_users[(smartphone_users['Tried.Masking.Identity'] == 1) | \\\n",
      "                                      (smartphone_users['Tried.Masking.Identity'] == 0)].shape[0]\n",
      "non_who_answered = non_smartphone_users[(non_smartphone_users['Tried.Masking.Identity'] == 1) | \\\n",
      "                                      (non_smartphone_users['Tried.Masking.Identity'] == 0)].shape[0]\n",
      "smartphone_masked = smartphone_users[smartphone_users['Tried.Masking.Identity'] == 1]\n",
      "non_smartphone_masked = non_smartphone_users[non_smartphone_users['Tried.Masking.Identity'] == 1]\n",
      "print \"Proportion of smartphone users that answered who have masked identity online: %s\" % (smartphone_masked.shape[0]/float(who_answered))\n",
      "print \"Proportion of non-smartphone users that answered who have masked identity online: %s\" % (non_smartphone_masked.shape[0]/float(non_who_answered))"
     ],
     "language": "python",
     "metadata": {},
     "outputs": [
      {
       "output_type": "stream",
       "stream": "stdout",
       "text": [
        "Proportion of smartphone users that answered who have masked identity online: 0.192546583851\n",
        "Proportion of non-smartphone users that answered who have masked identity online: 0.11743772242\n"
       ]
      }
     ],
     "prompt_number": 185
    },
    {
     "cell_type": "code",
     "collapsed": false,
     "input": [],
     "language": "python",
     "metadata": {},
     "outputs": []
    }
   ],
   "metadata": {}
  }
 ]
}