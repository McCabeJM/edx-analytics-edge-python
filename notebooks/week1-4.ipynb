{
 "metadata": {
  "name": ""
 },
 "nbformat": 3,
 "nbformat_minor": 0,
 "worksheets": [
  {
   "cells": [
    {
     "cell_type": "code",
     "collapsed": false,
     "input": [
      "# Analytics Edge EdX course\n",
      "# Part 4: Analyzes Current Population Survey (CPS) and demographic and employment data\n",
      "\n",
      "from pandas import DataFrame, read_csv\n",
      "import matplotlib.pyplot as plt\n",
      "import pandas as pd\n",
      "import numpy as np\n",
      "%matplotlib inline"
     ],
     "language": "python",
     "metadata": {},
     "outputs": [],
     "prompt_number": 1
    },
    {
     "cell_type": "code",
     "collapsed": false,
     "input": [
      "# Get csv file location\n",
      "# File location\n",
      "location = r'../csvs/CPSData.csv'\n",
      "CPS = read_csv(location)\n",
      "\n",
      "# Check that csv was read into a dataframe correctly\n",
      "CPS.head(10)"
     ],
     "language": "python",
     "metadata": {},
     "outputs": [
      {
       "html": [
        "<div style=\"max-height:1000px;max-width:1500px;overflow:auto;\">\n",
        "<table border=\"1\" class=\"dataframe\">\n",
        "  <thead>\n",
        "    <tr style=\"text-align: right;\">\n",
        "      <th></th>\n",
        "      <th>PeopleInHousehold</th>\n",
        "      <th>Region</th>\n",
        "      <th>State</th>\n",
        "      <th>MetroAreaCode</th>\n",
        "      <th>Age</th>\n",
        "      <th>Married</th>\n",
        "      <th>Sex</th>\n",
        "      <th>Education</th>\n",
        "      <th>Race</th>\n",
        "      <th>Hispanic</th>\n",
        "      <th>CountryOfBirthCode</th>\n",
        "      <th>Citizenship</th>\n",
        "      <th>EmploymentStatus</th>\n",
        "      <th>Industry</th>\n",
        "    </tr>\n",
        "  </thead>\n",
        "  <tbody>\n",
        "    <tr>\n",
        "      <th>0</th>\n",
        "      <td> 1</td>\n",
        "      <td> South</td>\n",
        "      <td> Alabama</td>\n",
        "      <td> 26620</td>\n",
        "      <td> 85</td>\n",
        "      <td>       Widowed</td>\n",
        "      <td> Female</td>\n",
        "      <td>       Associate degree</td>\n",
        "      <td> White</td>\n",
        "      <td> 0</td>\n",
        "      <td> 57</td>\n",
        "      <td> Citizen, Native</td>\n",
        "      <td>            Retired</td>\n",
        "      <td>                                NaN</td>\n",
        "    </tr>\n",
        "    <tr>\n",
        "      <th>1</th>\n",
        "      <td> 3</td>\n",
        "      <td> South</td>\n",
        "      <td> Alabama</td>\n",
        "      <td> 13820</td>\n",
        "      <td> 21</td>\n",
        "      <td> Never Married</td>\n",
        "      <td>   Male</td>\n",
        "      <td>            High school</td>\n",
        "      <td> Black</td>\n",
        "      <td> 0</td>\n",
        "      <td> 57</td>\n",
        "      <td> Citizen, Native</td>\n",
        "      <td>         Unemployed</td>\n",
        "      <td> Professional and business services</td>\n",
        "    </tr>\n",
        "    <tr>\n",
        "      <th>2</th>\n",
        "      <td> 3</td>\n",
        "      <td> South</td>\n",
        "      <td> Alabama</td>\n",
        "      <td> 13820</td>\n",
        "      <td> 37</td>\n",
        "      <td> Never Married</td>\n",
        "      <td> Female</td>\n",
        "      <td>            High school</td>\n",
        "      <td> Black</td>\n",
        "      <td> 0</td>\n",
        "      <td> 57</td>\n",
        "      <td> Citizen, Native</td>\n",
        "      <td>           Disabled</td>\n",
        "      <td>                                NaN</td>\n",
        "    </tr>\n",
        "    <tr>\n",
        "      <th>3</th>\n",
        "      <td> 3</td>\n",
        "      <td> South</td>\n",
        "      <td> Alabama</td>\n",
        "      <td> 13820</td>\n",
        "      <td> 18</td>\n",
        "      <td> Never Married</td>\n",
        "      <td>   Male</td>\n",
        "      <td> No high school diploma</td>\n",
        "      <td> Black</td>\n",
        "      <td> 0</td>\n",
        "      <td> 57</td>\n",
        "      <td> Citizen, Native</td>\n",
        "      <td> Not in Labor Force</td>\n",
        "      <td>                                NaN</td>\n",
        "    </tr>\n",
        "    <tr>\n",
        "      <th>4</th>\n",
        "      <td> 3</td>\n",
        "      <td> South</td>\n",
        "      <td> Alabama</td>\n",
        "      <td> 26620</td>\n",
        "      <td> 52</td>\n",
        "      <td>       Widowed</td>\n",
        "      <td> Female</td>\n",
        "      <td>       Associate degree</td>\n",
        "      <td> White</td>\n",
        "      <td> 0</td>\n",
        "      <td> 57</td>\n",
        "      <td> Citizen, Native</td>\n",
        "      <td>           Employed</td>\n",
        "      <td> Professional and business services</td>\n",
        "    </tr>\n",
        "    <tr>\n",
        "      <th>5</th>\n",
        "      <td> 3</td>\n",
        "      <td> South</td>\n",
        "      <td> Alabama</td>\n",
        "      <td> 26620</td>\n",
        "      <td> 24</td>\n",
        "      <td> Never Married</td>\n",
        "      <td>   Male</td>\n",
        "      <td>      Bachelor's degree</td>\n",
        "      <td> White</td>\n",
        "      <td> 0</td>\n",
        "      <td> 57</td>\n",
        "      <td> Citizen, Native</td>\n",
        "      <td>           Employed</td>\n",
        "      <td>    Educational and health services</td>\n",
        "    </tr>\n",
        "    <tr>\n",
        "      <th>6</th>\n",
        "      <td> 3</td>\n",
        "      <td> South</td>\n",
        "      <td> Alabama</td>\n",
        "      <td> 26620</td>\n",
        "      <td> 26</td>\n",
        "      <td> Never Married</td>\n",
        "      <td>   Male</td>\n",
        "      <td>            High school</td>\n",
        "      <td> White</td>\n",
        "      <td> 0</td>\n",
        "      <td> 57</td>\n",
        "      <td> Citizen, Native</td>\n",
        "      <td>           Employed</td>\n",
        "      <td>       Transportation and utilities</td>\n",
        "    </tr>\n",
        "    <tr>\n",
        "      <th>7</th>\n",
        "      <td> 2</td>\n",
        "      <td> South</td>\n",
        "      <td> Alabama</td>\n",
        "      <td> 33660</td>\n",
        "      <td> 71</td>\n",
        "      <td>      Divorced</td>\n",
        "      <td> Female</td>\n",
        "      <td>            High school</td>\n",
        "      <td> White</td>\n",
        "      <td> 0</td>\n",
        "      <td> 57</td>\n",
        "      <td> Citizen, Native</td>\n",
        "      <td>           Employed</td>\n",
        "      <td>    Educational and health services</td>\n",
        "    </tr>\n",
        "    <tr>\n",
        "      <th>8</th>\n",
        "      <td> 2</td>\n",
        "      <td> South</td>\n",
        "      <td> Alabama</td>\n",
        "      <td> 33660</td>\n",
        "      <td> 43</td>\n",
        "      <td>      Divorced</td>\n",
        "      <td>   Male</td>\n",
        "      <td>            High school</td>\n",
        "      <td> White</td>\n",
        "      <td> 0</td>\n",
        "      <td> 57</td>\n",
        "      <td> Citizen, Native</td>\n",
        "      <td> Not in Labor Force</td>\n",
        "      <td>                                NaN</td>\n",
        "    </tr>\n",
        "    <tr>\n",
        "      <th>9</th>\n",
        "      <td> 2</td>\n",
        "      <td> South</td>\n",
        "      <td> Alabama</td>\n",
        "      <td> 26620</td>\n",
        "      <td> 52</td>\n",
        "      <td> Never Married</td>\n",
        "      <td>   Male</td>\n",
        "      <td>      Bachelor's degree</td>\n",
        "      <td> White</td>\n",
        "      <td> 0</td>\n",
        "      <td> 57</td>\n",
        "      <td> Citizen, Native</td>\n",
        "      <td>           Employed</td>\n",
        "      <td>              Public administration</td>\n",
        "    </tr>\n",
        "  </tbody>\n",
        "</table>\n",
        "<p>10 rows \u00d7 14 columns</p>\n",
        "</div>"
       ],
       "metadata": {},
       "output_type": "pyout",
       "prompt_number": 2,
       "text": [
        "   PeopleInHousehold Region    State  MetroAreaCode  Age        Married  \\\n",
        "0                  1  South  Alabama          26620   85        Widowed   \n",
        "1                  3  South  Alabama          13820   21  Never Married   \n",
        "2                  3  South  Alabama          13820   37  Never Married   \n",
        "3                  3  South  Alabama          13820   18  Never Married   \n",
        "4                  3  South  Alabama          26620   52        Widowed   \n",
        "5                  3  South  Alabama          26620   24  Never Married   \n",
        "6                  3  South  Alabama          26620   26  Never Married   \n",
        "7                  2  South  Alabama          33660   71       Divorced   \n",
        "8                  2  South  Alabama          33660   43       Divorced   \n",
        "9                  2  South  Alabama          26620   52  Never Married   \n",
        "\n",
        "      Sex               Education   Race  Hispanic  CountryOfBirthCode  \\\n",
        "0  Female        Associate degree  White         0                  57   \n",
        "1    Male             High school  Black         0                  57   \n",
        "2  Female             High school  Black         0                  57   \n",
        "3    Male  No high school diploma  Black         0                  57   \n",
        "4  Female        Associate degree  White         0                  57   \n",
        "5    Male       Bachelor's degree  White         0                  57   \n",
        "6    Male             High school  White         0                  57   \n",
        "7  Female             High school  White         0                  57   \n",
        "8    Male             High school  White         0                  57   \n",
        "9    Male       Bachelor's degree  White         0                  57   \n",
        "\n",
        "       Citizenship    EmploymentStatus                            Industry  \n",
        "0  Citizen, Native             Retired                                 NaN  \n",
        "1  Citizen, Native          Unemployed  Professional and business services  \n",
        "2  Citizen, Native            Disabled                                 NaN  \n",
        "3  Citizen, Native  Not in Labor Force                                 NaN  \n",
        "4  Citizen, Native            Employed  Professional and business services  \n",
        "5  Citizen, Native            Employed     Educational and health services  \n",
        "6  Citizen, Native            Employed        Transportation and utilities  \n",
        "7  Citizen, Native            Employed     Educational and health services  \n",
        "8  Citizen, Native  Not in Labor Force                                 NaN  \n",
        "9  Citizen, Native            Employed               Public administration  \n",
        "\n",
        "[10 rows x 14 columns]"
       ]
      }
     ],
     "prompt_number": 2
    },
    {
     "cell_type": "code",
     "collapsed": false,
     "input": [
      "print \"There are %s interviewees in the CPS dataset.\" % (CPS.shape[0])"
     ],
     "language": "python",
     "metadata": {},
     "outputs": [
      {
       "output_type": "stream",
       "stream": "stdout",
       "text": [
        "There are 131302 interviewees in the CPS dataset.\n"
       ]
      }
     ],
     "prompt_number": 3
    },
    {
     "cell_type": "code",
     "collapsed": false,
     "input": [
      "# Find the number of intervieweess in different industries\n",
      "industries = CPS['Industry'].value_counts()\n",
      "industries"
     ],
     "language": "python",
     "metadata": {},
     "outputs": [
      {
       "metadata": {},
       "output_type": "pyout",
       "prompt_number": 4,
       "text": [
        "Educational and health services                15017\n",
        "Trade                                           8933\n",
        "Professional and business services              7519\n",
        "Manufacturing                                   6791\n",
        "Leisure and hospitality                         6364\n",
        "Construction                                    4387\n",
        "Financial                                       4347\n",
        "Transportation and utilities                    3260\n",
        "Other services                                  3224\n",
        "Public administration                           3186\n",
        "Information                                     1328\n",
        "Agriculture, forestry, fishing, and hunting     1307\n",
        "Mining                                           550\n",
        "Armed forces                                      29\n",
        "dtype: int64"
       ]
      }
     ],
     "prompt_number": 4
    },
    {
     "cell_type": "code",
     "collapsed": false,
     "input": [
      "# Find numbers of interviewees by state\n",
      "interviewees_by_state = CPS['State'].value_counts()\n",
      "interviewees_by_state"
     ],
     "language": "python",
     "metadata": {},
     "outputs": [
      {
       "metadata": {},
       "output_type": "pyout",
       "prompt_number": 5,
       "text": [
        "California              11570\n",
        "Texas                    7077\n",
        "New York                 5595\n",
        "Florida                  5149\n",
        "Pennsylvania             3930\n",
        "Illinois                 3912\n",
        "Ohio                     3678\n",
        "Maryland                 3200\n",
        "Minnesota                3139\n",
        "Michigan                 3063\n",
        "Virginia                 2953\n",
        "Colorado                 2925\n",
        "Connecticut              2836\n",
        "Georgia                  2807\n",
        "Wisconsin                2686\n",
        "New Hampshire            2662\n",
        "North Carolina           2619\n",
        "New Jersey               2567\n",
        "Iowa                     2528\n",
        "Washington               2366\n",
        "Maine                    2263\n",
        "Delaware                 2214\n",
        "Rhode Island             2209\n",
        "Missouri                 2145\n",
        "Hawaii                   2099\n",
        "Indiana                  2004\n",
        "South Dakota             2000\n",
        "Massachusetts            1987\n",
        "Nebraska                 1949\n",
        "Oregon                   1943\n",
        "Kansas                   1935\n",
        "Vermont                  1890\n",
        "Nevada                   1856\n",
        "Utah                     1842\n",
        "Kentucky                 1841\n",
        "District of Columbia     1791\n",
        "Tennessee                1784\n",
        "South Carolina           1658\n",
        "North Dakota             1645\n",
        "Wyoming                  1624\n",
        "Alaska                   1590\n",
        "Arizona                  1528\n",
        "Oklahoma                 1523\n",
        "Idaho                    1518\n",
        "Louisiana                1450\n",
        "Arkansas                 1421\n",
        "West Virginia            1409\n",
        "Alabama                  1376\n",
        "Mississippi              1230\n",
        "Montana                  1214\n",
        "New Mexico               1102\n",
        "Length: 51, dtype: int64"
       ]
      }
     ],
     "prompt_number": 5
    },
    {
     "cell_type": "code",
     "collapsed": false,
     "input": [
      "# Find what proportion of interviewees are US citizens\n",
      "citizens_native, non_citizens, naturalized = CPS['Citizenship'].value_counts()\n",
      "citizens = citizens_native + naturalized\n",
      "print \"Proportion of = interviewees who are U.S. citizens: %s\" % (citizens/float(CPS.shape[0]))"
     ],
     "language": "python",
     "metadata": {},
     "outputs": [
      {
       "output_type": "stream",
       "stream": "stdout",
       "text": [
        "Proportion of = interviewees who are U.S. citizens: 0.942194330627\n"
       ]
      }
     ],
     "prompt_number": 6
    },
    {
     "cell_type": "code",
     "collapsed": false,
     "input": [
      "# Find out for which races there are at least 250 interviewees in the CPS dataset of Hispanic ethnicity\n",
      "hispanic = CPS[CPS['Hispanic'] == 1]\n",
      "hispanic_races = hispanic['Race'].value_counts()\n",
      "hispanic_races"
     ],
     "language": "python",
     "metadata": {},
     "outputs": [
      {
       "metadata": {},
       "output_type": "pyout",
       "prompt_number": 7,
       "text": [
        "White               16731\n",
        "Black                 621\n",
        "Multiracial           448\n",
        "American Indian       304\n",
        "Asian                 113\n",
        "Pacific Islander       77\n",
        "dtype: int64"
       ]
      }
     ],
     "prompt_number": 7
    },
    {
     "cell_type": "code",
     "collapsed": false,
     "input": [
      "# Find which variables contain at least one NaN value\n",
      "# Function below is copied from week1-3.ipynb\n",
      "# Have yet to figure out how to do imports from other ipython notebooks\n",
      "def nan_column_finder(df, columns):\n",
      "    valid = []\n",
      "    for col in columns:\n",
      "        if not all(df[col].notnull()):\n",
      "           valid.append(col)\n",
      "    return valid\n",
      "\n",
      "column_variables = CPS.columns\n",
      "columns_with_nan = nan_column_finder(CPS, column_variables)\n",
      "print \"Columns with a missing value: \"\n",
      "columns_with_nan"
     ],
     "language": "python",
     "metadata": {},
     "outputs": [
      {
       "output_type": "stream",
       "stream": "stdout",
       "text": [
        "Columns with a missing value: \n"
       ]
      },
      {
       "metadata": {},
       "output_type": "pyout",
       "prompt_number": 8,
       "text": [
        "['MetroAreaCode', 'Married', 'Education', 'EmploymentStatus', 'Industry']"
       ]
      }
     ],
     "prompt_number": 8
    },
    {
     "cell_type": "code",
     "collapsed": false,
     "input": [
      "# Find NaN cells in 'Married' column\n",
      "nan_married = pd.isnull(CPS['Married'])\n",
      "print \"%s interviewees didn't answer the question about their marital status.\" % (nan_married.sum())"
     ],
     "language": "python",
     "metadata": {},
     "outputs": [
      {
       "output_type": "stream",
       "stream": "stdout",
       "text": [
        "25338 interviewees didn't answer the question about their marital status.\n"
       ]
      }
     ],
     "prompt_number": 9
    },
    {
     "cell_type": "code",
     "collapsed": false,
     "input": [
      "# Data relating interviewee Region to not answering the marriage question\n",
      "region_nan_married = CPS['Region'].groupby(nan_married).value_counts()\n",
      "region_nan_married"
     ],
     "language": "python",
     "metadata": {},
     "outputs": [
      {
       "metadata": {},
       "output_type": "pyout",
       "prompt_number": 10,
       "text": [
        "Married           \n",
        "False    South        33535\n",
        "         West         26388\n",
        "         Midwest      24609\n",
        "         Northeast    21432\n",
        "True     South         7967\n",
        "         West          6789\n",
        "         Midwest       6075\n",
        "         Northeast     4507\n",
        "dtype: int64"
       ]
      }
     ],
     "prompt_number": 10
    },
    {
     "cell_type": "code",
     "collapsed": false,
     "input": [
      "# Data relating interviewee Sex(gender) to not answering the marriage question\n",
      "sex_nan_married = CPS['Sex'].groupby(nan_married).value_counts()\n",
      "sex_nan_married"
     ],
     "language": "python",
     "metadata": {},
     "outputs": [
      {
       "metadata": {},
       "output_type": "pyout",
       "prompt_number": 11,
       "text": [
        "Married        \n",
        "False    Female    55264\n",
        "         Male      50700\n",
        "True     Male      13121\n",
        "         Female    12217\n",
        "dtype: int64"
       ]
      }
     ],
     "prompt_number": 11
    },
    {
     "cell_type": "code",
     "collapsed": false,
     "input": [
      "# Data relating interviewee Age to not answering the marriage question\n",
      "# From the output data, there seems to be a relationship between interviewee age\n",
      "# and not answering the marriage question. Age groups represented in the 'answered \n",
      "# the marriage question' section are not also predominantly represented in the \n",
      "# 'did not answer the marriage question' section of the dataset.\n",
      "age_nan_married = CPS['Age'].groupby(nan_married).value_counts()\n",
      "age_nan_married"
     ],
     "language": "python",
     "metadata": {},
     "outputs": [
      {
       "metadata": {},
       "output_type": "pyout",
       "prompt_number": 12,
       "text": [
        "Married    \n",
        "False    80    2664\n",
        "         85    2446\n",
        "         53    1994\n",
        "         49    1989\n",
        "         50    1966\n",
        "         56    1935\n",
        "         52    1935\n",
        "         51    1931\n",
        "         54    1912\n",
        "         55    1895\n",
        "         58    1874\n",
        "         30    1854\n",
        "         57    1827\n",
        "         43    1819\n",
        "         33    1804\n",
        "...\n",
        "True     13    1802\n",
        "         12    1797\n",
        "         5     1795\n",
        "         14    1790\n",
        "         10    1750\n",
        "         9     1748\n",
        "         8     1729\n",
        "         11    1721\n",
        "         6     1721\n",
        "         4     1695\n",
        "         3     1693\n",
        "         7     1681\n",
        "         2     1574\n",
        "         1     1559\n",
        "         0     1283\n",
        "Length: 82, dtype: int64"
       ]
      }
     ],
     "prompt_number": 12
    },
    {
     "cell_type": "code",
     "collapsed": false,
     "input": [
      "# Data relating interviewee Citizenship to not answering the marriage question\n",
      "citizen_nan_married = CPS['Citizenship'].groupby(nan_married).value_counts()\n",
      "citizen_nan_married"
     ],
     "language": "python",
     "metadata": {},
     "outputs": [
      {
       "metadata": {},
       "output_type": "pyout",
       "prompt_number": 13,
       "text": [
        "Married                      \n",
        "False    Citizen, Native         91956\n",
        "         Non-Citizen              7098\n",
        "         Citizen, Naturalized     6910\n",
        "True     Citizen, Native         24683\n",
        "         Non-Citizen               492\n",
        "         Citizen, Naturalized      163\n",
        "dtype: int64"
       ]
      }
     ],
     "prompt_number": 13
    },
    {
     "cell_type": "code",
     "collapsed": false,
     "input": [
      "# Find which had all interviewees living in a non-metropolitan area\n",
      "# If an interviewee does not live in a metro area, then NaN will be placed\n",
      "# in the cell for MetroAreaCode for that interviewee.\n",
      "nan_metro = pd.isnull(CPS['MetroAreaCode'])\n",
      "residents_by_state = CPS['State'].groupby(nan_metro).value_counts()\n",
      "metro_residents_by_state = residents_by_state[0]\n",
      "non_metro_residents_by_state = residents_by_state[1]\n",
      "states_with_non_metro_interviewees = set(non_metro_residents_by_state.keys())\n",
      "states_with_metro_interviewees = set(metro_residents_by_state.keys())\n",
      "print \"States with all interviewees living in a metro area:\"\n",
      "print \"\\t\", list(states_with_metro_interviewees - states_with_non_metro_interviewees), \"\\n\"\n",
      "print \"States with all interviewees living in a non-metro area: \"\n",
      "print \"\\t\", list(states_with_non_metro_interviewees - states_with_metro_interviewees)"
     ],
     "language": "python",
     "metadata": {},
     "outputs": [
      {
       "output_type": "stream",
       "stream": "stdout",
       "text": [
        "States with all interviewees living in a metro area:\n",
        "\t['New Jersey', 'District of Columbia', 'Rhode Island'] \n",
        "\n",
        "States with all interviewees living in a non-metro area: \n",
        "\t['Wyoming', 'Alaska']\n"
       ]
      }
     ],
     "prompt_number": 14
    },
    {
     "cell_type": "code",
     "collapsed": false,
     "input": [
      "# Find which region has the most non-metro interviewees\n",
      "region_non_metro = CPS['Region'].groupby(nan_metro).value_counts()\n",
      "region_non_metro"
     ],
     "language": "python",
     "metadata": {},
     "outputs": [
      {
       "metadata": {},
       "output_type": "pyout",
       "prompt_number": 15,
       "text": [
        "MetroAreaCode           \n",
        "False          South        31631\n",
        "               West         25093\n",
        "               Northeast    20330\n",
        "               Midwest      20010\n",
        "True           Midwest      10674\n",
        "               South         9871\n",
        "               West          8084\n",
        "               Northeast     5609\n",
        "dtype: int64"
       ]
      }
     ],
     "prompt_number": 15
    },
    {
     "cell_type": "code",
     "collapsed": false,
     "input": [
      "# Find state with proportion of non-metro residents closest 30%\n",
      "# and which state has the highest proportion of non-metro residents\n",
      "# exluding states with no metro residents\n",
      "non_metro_proportions = nan_metro.groupby(CPS['State']).mean()\n",
      "non_metro_proportions"
     ],
     "language": "python",
     "metadata": {},
     "outputs": [
      {
       "metadata": {},
       "output_type": "pyout",
       "prompt_number": 16,
       "text": [
        "State\n",
        "Alabama                 0.258721\n",
        "Alaska                  1.000000\n",
        "Arizona                 0.131545\n",
        "Arkansas                0.490500\n",
        "California              0.020484\n",
        "Colorado                0.129915\n",
        "Connecticut             0.085684\n",
        "Delaware                0.233966\n",
        "District of Columbia    0.000000\n",
        "Florida                 0.039231\n",
        "Georgia                 0.198432\n",
        "Hawaii                  0.249166\n",
        "Idaho                   0.498682\n",
        "Illinois                0.112219\n",
        "Indiana                 0.291417\n",
        "Iowa                    0.486946\n",
        "Kansas                  0.362274\n",
        "Kentucky                0.506790\n",
        "Louisiana               0.161379\n",
        "Maine                   0.598321\n",
        "Maryland                0.069375\n",
        "Massachusetts           0.064922\n",
        "Michigan                0.178257\n",
        "Minnesota               0.315068\n",
        "Mississippi             0.694309\n",
        "Missouri                0.328671\n",
        "Montana                 0.836079\n",
        "Nebraska                0.581324\n",
        "Nevada                  0.133082\n",
        "New Hampshire           0.568745\n",
        "New Jersey              0.000000\n",
        "New Mexico              0.245009\n",
        "New York                0.080608\n",
        "North Carolina          0.373043\n",
        "North Dakota            0.737386\n",
        "Ohio                    0.251223\n",
        "Oklahoma                0.327643\n",
        "Oregon                  0.218219\n",
        "Pennsylvania            0.174300\n",
        "Rhode Island            0.000000\n",
        "South Carolina          0.313028\n",
        "South Dakota            0.702500\n",
        "Tennessee               0.355942\n",
        "Texas                   0.143705\n",
        "Utah                    0.210098\n",
        "Vermont                 0.652381\n",
        "Virginia                0.198442\n",
        "Washington              0.181319\n",
        "West Virginia           0.755855\n",
        "Wisconsin               0.299330\n",
        "Wyoming                 1.000000\n",
        "Length: 51, dtype: float64"
       ]
      }
     ],
     "prompt_number": 16
    },
    {
     "cell_type": "code",
     "collapsed": false,
     "input": [
      "# Read MetroAreaCodes.csv and CountryCodes.csv into dataframes\n",
      "# examines their dimensions\n",
      "mac_location = r'../csvs/MetroAreaCodes.csv'\n",
      "cc_location = r'../csvs/CountryCodes.csv'\n",
      "MetroAreaMap = read_csv(mac_location)\n",
      "CountryMap = read_csv(cc_location)\n",
      "\n",
      "print \"The MetroAreaCodes dataset stores %s metropolitan areas.\" % (MetroAreaMap.shape[0])\n",
      "print \"The CountryCodes dataset stores %s countries.\" % (CountryMap.shape[0])"
     ],
     "language": "python",
     "metadata": {},
     "outputs": [
      {
       "output_type": "stream",
       "stream": "stdout",
       "text": [
        "The MetroAreaCodes dataset stores 271 metropolitan areas.\n",
        "The CountryCodes dataset stores 149 countries.\n"
       ]
      }
     ],
     "prompt_number": 17
    },
    {
     "cell_type": "code",
     "collapsed": false,
     "input": [
      "print \"There are %s metro areas listed in the MetroAreaMap dataframe.\" % (MetroAreaMap.shape[0])\n",
      "MetroAreaMap.head()"
     ],
     "language": "python",
     "metadata": {},
     "outputs": [
      {
       "output_type": "stream",
       "stream": "stdout",
       "text": [
        "There are 271 metro areas listed in the MetroAreaMap dataframe.\n"
       ]
      },
      {
       "html": [
        "<div style=\"max-height:1000px;max-width:1500px;overflow:auto;\">\n",
        "<table border=\"1\" class=\"dataframe\">\n",
        "  <thead>\n",
        "    <tr style=\"text-align: right;\">\n",
        "      <th></th>\n",
        "      <th>Code</th>\n",
        "      <th>MetroArea</th>\n",
        "    </tr>\n",
        "  </thead>\n",
        "  <tbody>\n",
        "    <tr>\n",
        "      <th>0</th>\n",
        "      <td>  460</td>\n",
        "      <td>         Appleton-Oshkosh-Neenah, WI</td>\n",
        "    </tr>\n",
        "    <tr>\n",
        "      <th>1</th>\n",
        "      <td> 3000</td>\n",
        "      <td>   Grand Rapids-Muskegon-Holland, MI</td>\n",
        "    </tr>\n",
        "    <tr>\n",
        "      <th>2</th>\n",
        "      <td> 3160</td>\n",
        "      <td> Greenville-Spartanburg-Anderson, SC</td>\n",
        "    </tr>\n",
        "    <tr>\n",
        "      <th>3</th>\n",
        "      <td> 3610</td>\n",
        "      <td>                       Jamestown, NY</td>\n",
        "    </tr>\n",
        "    <tr>\n",
        "      <th>4</th>\n",
        "      <td> 3720</td>\n",
        "      <td>          Kalamazoo-Battle Creek, MI</td>\n",
        "    </tr>\n",
        "  </tbody>\n",
        "</table>\n",
        "<p>5 rows \u00d7 2 columns</p>\n",
        "</div>"
       ],
       "metadata": {},
       "output_type": "pyout",
       "prompt_number": 18,
       "text": [
        "   Code                            MetroArea\n",
        "0   460          Appleton-Oshkosh-Neenah, WI\n",
        "1  3000    Grand Rapids-Muskegon-Holland, MI\n",
        "2  3160  Greenville-Spartanburg-Anderson, SC\n",
        "3  3610                        Jamestown, NY\n",
        "4  3720           Kalamazoo-Battle Creek, MI\n",
        "\n",
        "[5 rows x 2 columns]"
       ]
      }
     ],
     "prompt_number": 18
    },
    {
     "cell_type": "code",
     "collapsed": false,
     "input": [
      "print \"There are %s countries listed in the CountryMap dataframe.\" % (CountryMap.shape[0])\n",
      "CountryMap.head()"
     ],
     "language": "python",
     "metadata": {},
     "outputs": [
      {
       "output_type": "stream",
       "stream": "stdout",
       "text": [
        "There are 149 countries listed in the CountryMap dataframe.\n"
       ]
      },
      {
       "html": [
        "<div style=\"max-height:1000px;max-width:1500px;overflow:auto;\">\n",
        "<table border=\"1\" class=\"dataframe\">\n",
        "  <thead>\n",
        "    <tr style=\"text-align: right;\">\n",
        "      <th></th>\n",
        "      <th>Code</th>\n",
        "      <th>Country</th>\n",
        "    </tr>\n",
        "  </thead>\n",
        "  <tbody>\n",
        "    <tr>\n",
        "      <th>0</th>\n",
        "      <td> 57</td>\n",
        "      <td>            United States</td>\n",
        "    </tr>\n",
        "    <tr>\n",
        "      <th>1</th>\n",
        "      <td> 66</td>\n",
        "      <td>                     Guam</td>\n",
        "    </tr>\n",
        "    <tr>\n",
        "      <th>2</th>\n",
        "      <td> 73</td>\n",
        "      <td>              Puerto Rico</td>\n",
        "    </tr>\n",
        "    <tr>\n",
        "      <th>3</th>\n",
        "      <td> 78</td>\n",
        "      <td>     U. S. Virgin Islands</td>\n",
        "    </tr>\n",
        "    <tr>\n",
        "      <th>4</th>\n",
        "      <td> 96</td>\n",
        "      <td> Other U. S. Island Areas</td>\n",
        "    </tr>\n",
        "  </tbody>\n",
        "</table>\n",
        "<p>5 rows \u00d7 2 columns</p>\n",
        "</div>"
       ],
       "metadata": {},
       "output_type": "pyout",
       "prompt_number": 19,
       "text": [
        "   Code                   Country\n",
        "0    57             United States\n",
        "1    66                      Guam\n",
        "2    73               Puerto Rico\n",
        "3    78      U. S. Virgin Islands\n",
        "4    96  Other U. S. Island Areas\n",
        "\n",
        "[5 rows x 2 columns]"
       ]
      }
     ],
     "prompt_number": 19
    },
    {
     "cell_type": "code",
     "collapsed": false,
     "input": [
      "# Merge the CPS and MetroAreaMap dataframes so the MetroArea column will line up with metro code\n",
      "# Doesn't have same expected output as (what I think) is the equivalent call in R.\n",
      "# Instead of just adding MetroArea column to dataframe, column for code is added as well. \n",
      "CPS = pd.merge(CPS, MetroAreaMap, left_on='MetroAreaCode', right_on='Code', how='outer')\n",
      "CPS.columns"
     ],
     "language": "python",
     "metadata": {},
     "outputs": [
      {
       "metadata": {},
       "output_type": "pyout",
       "prompt_number": 20,
       "text": [
        "Index([u'PeopleInHousehold', u'Region', u'State', u'MetroAreaCode', u'Age', u'Married', u'Sex', u'Education', u'Race', u'Hispanic', u'CountryOfBirthCode', u'Citizenship', u'EmploymentStatus', u'Industry', u'Code', u'MetroArea'], dtype='object')"
       ]
      }
     ],
     "prompt_number": 20
    },
    {
     "cell_type": "code",
     "collapsed": false,
     "input": [
      "# Check that it worked\n",
      "CPS.head()"
     ],
     "language": "python",
     "metadata": {},
     "outputs": [
      {
       "html": [
        "<div style=\"max-height:1000px;max-width:1500px;overflow:auto;\">\n",
        "<table border=\"1\" class=\"dataframe\">\n",
        "  <thead>\n",
        "    <tr style=\"text-align: right;\">\n",
        "      <th></th>\n",
        "      <th>PeopleInHousehold</th>\n",
        "      <th>Region</th>\n",
        "      <th>State</th>\n",
        "      <th>MetroAreaCode</th>\n",
        "      <th>Age</th>\n",
        "      <th>Married</th>\n",
        "      <th>Sex</th>\n",
        "      <th>Education</th>\n",
        "      <th>Race</th>\n",
        "      <th>Hispanic</th>\n",
        "      <th>CountryOfBirthCode</th>\n",
        "      <th>Citizenship</th>\n",
        "      <th>EmploymentStatus</th>\n",
        "      <th>Industry</th>\n",
        "      <th>Code</th>\n",
        "      <th>MetroArea</th>\n",
        "    </tr>\n",
        "  </thead>\n",
        "  <tbody>\n",
        "    <tr>\n",
        "      <th>0</th>\n",
        "      <td> 1</td>\n",
        "      <td> South</td>\n",
        "      <td> Alabama</td>\n",
        "      <td> 26620</td>\n",
        "      <td> 85</td>\n",
        "      <td>       Widowed</td>\n",
        "      <td> Female</td>\n",
        "      <td>  Associate degree</td>\n",
        "      <td> White</td>\n",
        "      <td> 0</td>\n",
        "      <td> 57</td>\n",
        "      <td> Citizen, Native</td>\n",
        "      <td>  Retired</td>\n",
        "      <td>                                NaN</td>\n",
        "      <td> 26620</td>\n",
        "      <td> Huntsville, AL</td>\n",
        "    </tr>\n",
        "    <tr>\n",
        "      <th>1</th>\n",
        "      <td> 3</td>\n",
        "      <td> South</td>\n",
        "      <td> Alabama</td>\n",
        "      <td> 26620</td>\n",
        "      <td> 52</td>\n",
        "      <td>       Widowed</td>\n",
        "      <td> Female</td>\n",
        "      <td>  Associate degree</td>\n",
        "      <td> White</td>\n",
        "      <td> 0</td>\n",
        "      <td> 57</td>\n",
        "      <td> Citizen, Native</td>\n",
        "      <td> Employed</td>\n",
        "      <td> Professional and business services</td>\n",
        "      <td> 26620</td>\n",
        "      <td> Huntsville, AL</td>\n",
        "    </tr>\n",
        "    <tr>\n",
        "      <th>2</th>\n",
        "      <td> 3</td>\n",
        "      <td> South</td>\n",
        "      <td> Alabama</td>\n",
        "      <td> 26620</td>\n",
        "      <td> 24</td>\n",
        "      <td> Never Married</td>\n",
        "      <td>   Male</td>\n",
        "      <td> Bachelor's degree</td>\n",
        "      <td> White</td>\n",
        "      <td> 0</td>\n",
        "      <td> 57</td>\n",
        "      <td> Citizen, Native</td>\n",
        "      <td> Employed</td>\n",
        "      <td>    Educational and health services</td>\n",
        "      <td> 26620</td>\n",
        "      <td> Huntsville, AL</td>\n",
        "    </tr>\n",
        "    <tr>\n",
        "      <th>3</th>\n",
        "      <td> 3</td>\n",
        "      <td> South</td>\n",
        "      <td> Alabama</td>\n",
        "      <td> 26620</td>\n",
        "      <td> 26</td>\n",
        "      <td> Never Married</td>\n",
        "      <td>   Male</td>\n",
        "      <td>       High school</td>\n",
        "      <td> White</td>\n",
        "      <td> 0</td>\n",
        "      <td> 57</td>\n",
        "      <td> Citizen, Native</td>\n",
        "      <td> Employed</td>\n",
        "      <td>       Transportation and utilities</td>\n",
        "      <td> 26620</td>\n",
        "      <td> Huntsville, AL</td>\n",
        "    </tr>\n",
        "    <tr>\n",
        "      <th>4</th>\n",
        "      <td> 2</td>\n",
        "      <td> South</td>\n",
        "      <td> Alabama</td>\n",
        "      <td> 26620</td>\n",
        "      <td> 52</td>\n",
        "      <td> Never Married</td>\n",
        "      <td>   Male</td>\n",
        "      <td> Bachelor's degree</td>\n",
        "      <td> White</td>\n",
        "      <td> 0</td>\n",
        "      <td> 57</td>\n",
        "      <td> Citizen, Native</td>\n",
        "      <td> Employed</td>\n",
        "      <td>              Public administration</td>\n",
        "      <td> 26620</td>\n",
        "      <td> Huntsville, AL</td>\n",
        "    </tr>\n",
        "  </tbody>\n",
        "</table>\n",
        "<p>5 rows \u00d7 16 columns</p>\n",
        "</div>"
       ],
       "metadata": {},
       "output_type": "pyout",
       "prompt_number": 21,
       "text": [
        "   PeopleInHousehold Region    State  MetroAreaCode  Age        Married  \\\n",
        "0                  1  South  Alabama          26620   85        Widowed   \n",
        "1                  3  South  Alabama          26620   52        Widowed   \n",
        "2                  3  South  Alabama          26620   24  Never Married   \n",
        "3                  3  South  Alabama          26620   26  Never Married   \n",
        "4                  2  South  Alabama          26620   52  Never Married   \n",
        "\n",
        "      Sex          Education   Race  Hispanic  CountryOfBirthCode  \\\n",
        "0  Female   Associate degree  White         0                  57   \n",
        "1  Female   Associate degree  White         0                  57   \n",
        "2    Male  Bachelor's degree  White         0                  57   \n",
        "3    Male        High school  White         0                  57   \n",
        "4    Male  Bachelor's degree  White         0                  57   \n",
        "\n",
        "       Citizenship EmploymentStatus                            Industry  \\\n",
        "0  Citizen, Native          Retired                                 NaN   \n",
        "1  Citizen, Native         Employed  Professional and business services   \n",
        "2  Citizen, Native         Employed     Educational and health services   \n",
        "3  Citizen, Native         Employed        Transportation and utilities   \n",
        "4  Citizen, Native         Employed               Public administration   \n",
        "\n",
        "    Code       MetroArea  \n",
        "0  26620  Huntsville, AL  \n",
        "1  26620  Huntsville, AL  \n",
        "2  26620  Huntsville, AL  \n",
        "3  26620  Huntsville, AL  \n",
        "4  26620  Huntsville, AL  \n",
        "\n",
        "[5 rows x 16 columns]"
       ]
      }
     ],
     "prompt_number": 21
    },
    {
     "cell_type": "code",
     "collapsed": false,
     "input": [
      "# Find number of NaN areas in the MetroArea column\n",
      "pd.isnull(CPS['MetroArea']).sum()"
     ],
     "language": "python",
     "metadata": {},
     "outputs": [
      {
       "metadata": {},
       "output_type": "pyout",
       "prompt_number": 22,
       "text": [
        "34238"
       ]
      }
     ],
     "prompt_number": 22
    },
    {
     "cell_type": "code",
     "collapsed": false,
     "input": [
      "# Find the metropolitan area with the most interviewees\n",
      "metro_area_interviewees = CPS['MetroArea'].value_counts()\n",
      "metro_area_interviewees"
     ],
     "language": "python",
     "metadata": {},
     "outputs": [
      {
       "metadata": {},
       "output_type": "pyout",
       "prompt_number": 23,
       "text": [
        "New York-Northern New Jersey-Long Island, NY-NJ-PA    5409\n",
        "Washington-Arlington-Alexandria, DC-VA-MD-WV          4177\n",
        "Los Angeles-Long Beach-Santa Ana, CA                  4102\n",
        "Philadelphia-Camden-Wilmington, PA-NJ-DE              2855\n",
        "Chicago-Naperville-Joliet, IN-IN-WI                   2772\n",
        "Providence-Fall River-Warwick, MA-RI                  2284\n",
        "Boston-Cambridge-Quincy, MA-NH                        2229\n",
        "Minneapolis-St Paul-Bloomington, MN-WI                1942\n",
        "Dallas-Fort Worth-Arlington, TX                       1863\n",
        "Houston-Baytown-Sugar Land, TX                        1649\n",
        "Honolulu, HI                                          1576\n",
        "Miami-Fort Lauderdale-Miami Beach, FL                 1554\n",
        "Atlanta-Sandy Springs-Marietta, GA                    1552\n",
        "Denver-Aurora, CO                                     1504\n",
        "Baltimore-Towson, MD                                  1483\n",
        "...\n",
        "Columbia, MO                           47\n",
        "Tallahassee, FL                        43\n",
        "Warner Robins, GA                      42\n",
        "Valdosta, GA                           42\n",
        "Bloomington-Normal IL                  40\n",
        "Springfield, OH                        34\n",
        "Ocean City, NJ                         30\n",
        "Bowling Green, KY                      29\n",
        "Kalamazoo-Battle Creek, MI              1\n",
        "Hinesville-Fort Stewart, GA             1\n",
        "Jamestown, NY                           1\n",
        "Appleton-Oshkosh-Neenah, WI             1\n",
        "Grand Rapids-Muskegon-Holland, MI       1\n",
        "Greenville-Spartanburg-Anderson, SC     1\n",
        "Portsmouth-Rochester, NH-ME             1\n",
        "Length: 271, dtype: int64"
       ]
      }
     ],
     "prompt_number": 23
    },
    {
     "cell_type": "code",
     "collapsed": false,
     "input": [
      "metro_hispanic = CPS['Hispanic'] == 1\n",
      "hispanic_metro_proportions = metro_hispanic.groupby(CPS['MetroArea']).mean()\n",
      "max_hispanic_metro_area = hispanic_metro_proportions.idxmax()\n",
      "print \"The metropolitan area with the highest proportion of Hispanic interviewees is %s\" % max_hispanic_metro_area"
     ],
     "language": "python",
     "metadata": {},
     "outputs": [
      {
       "output_type": "stream",
       "stream": "stdout",
       "text": [
        "The metropolitan area with the highest proportion of Hispanic interviewees is Laredo, TX\n"
       ]
      }
     ],
     "prompt_number": 24
    },
    {
     "cell_type": "code",
     "collapsed": false,
     "input": [
      "# Find metro areas where at least 20% of interviewees are Asian.\n",
      "asian_interviewees = CPS['Race'] == 'Asian'\n",
      "asian_metro_proportions = asian_interviewees.groupby(CPS['MetroArea']).mean()\n",
      "metro_areas = list(CPS['MetroArea'].dropna().unique())\n",
      "candidate_metro_areas = [area for area in metro_areas if asian_metro_proportions[area] >= 0.2]\n",
      "candidate_metro_areas"
     ],
     "language": "python",
     "metadata": {},
     "outputs": [
      {
       "metadata": {},
       "output_type": "pyout",
       "prompt_number": 25,
       "text": [
        "['San Francisco-Oakland-Fremont, CA',\n",
        " 'San Jose-Sunnyvale-Santa Clara, CA',\n",
        " 'Vallejo-Fairfield, CA',\n",
        " 'Honolulu, HI']"
       ]
      }
     ],
     "prompt_number": 25
    },
    {
     "cell_type": "code",
     "collapsed": false,
     "input": [
      "# Find which metropolitan area has the smallest proportion of interviewees who have received no high school diploma.\n",
      "# *** This answer is not correct ***\n",
      "# The correct asnwer is Iowa City, IA, but (I believe) the merge function from above has affected the\n",
      "# dataframe somehow. Trying to resolve at the moment\n",
      "no_hs_diploma = CPS['Education'] == 'No high school diploma'\n",
      "hs_metro_proportions = no_hs_diploma.groupby(CPS['MetroArea']).mean()\n",
      "hs_metro_proportions.idxmin()"
     ],
     "language": "python",
     "metadata": {},
     "outputs": [
      {
       "metadata": {},
       "output_type": "pyout",
       "prompt_number": 26,
       "text": [
        "'Appleton-Oshkosh-Neenah, WI'"
       ]
      }
     ],
     "prompt_number": 26
    },
    {
     "cell_type": "code",
     "collapsed": false,
     "input": [
      "# Merge the CPS and CountryMap dataframes so the CountryOfBirth column will line up with CountryCode column\n",
      "# Similar problems involving merge.\n",
      "# Most of the data that follows is correct.\n",
      "CPS = pd.merge(CPS, CountryMap, left_on='CountryOfBirthCode', right_on='Code', how='outer')\n",
      "CPS.columns"
     ],
     "language": "python",
     "metadata": {},
     "outputs": [
      {
       "metadata": {},
       "output_type": "pyout",
       "prompt_number": 27,
       "text": [
        "Index([u'PeopleInHousehold', u'Region', u'State', u'MetroAreaCode', u'Age', u'Married', u'Sex', u'Education', u'Race', u'Hispanic', u'CountryOfBirthCode', u'Citizenship', u'EmploymentStatus', u'Industry', u'Code_x', u'MetroArea', u'Code_y', u'Country'], dtype='object')"
       ]
      }
     ],
     "prompt_number": 27
    },
    {
     "cell_type": "code",
     "collapsed": false,
     "input": [
      "# Find how many NaN values in Country Column\n",
      "# Didn't find the same answer here as I did with R.\n",
      "pd.isnull(CPS['Country']).sum()"
     ],
     "language": "python",
     "metadata": {},
     "outputs": [
      {
       "metadata": {},
       "output_type": "pyout",
       "prompt_number": 28,
       "text": [
        "183"
       ]
      }
     ],
     "prompt_number": 28
    },
    {
     "cell_type": "code",
     "collapsed": false,
     "input": [
      "# Find counts for country of birth\n",
      "CPS['Country'].value_counts()"
     ],
     "language": "python",
     "metadata": {},
     "outputs": [
      {
       "metadata": {},
       "output_type": "pyout",
       "prompt_number": 29,
       "text": [
        "United States         115063\n",
        "Mexico                  3921\n",
        "Philippines              839\n",
        "India                    770\n",
        "China                    581\n",
        "Puerto Rico              518\n",
        "El Salvador              477\n",
        "Vietnam                  458\n",
        "Germany                  438\n",
        "Cuba                     426\n",
        "Canada                   410\n",
        "Korea                    334\n",
        "Dominican Republic       330\n",
        "Guatemala                309\n",
        "Jamaica                  217\n",
        "...\n",
        "Latvia                      6\n",
        "Zimbabwe                    6\n",
        "Senegal                     6\n",
        "Singapore                   6\n",
        "Georgia                     5\n",
        "Azerbaijan                  3\n",
        "St. Kitts--Nevis            3\n",
        "Czechoslovakia              3\n",
        "Northern Ireland            2\n",
        "Tanzania                    2\n",
        "Other U. S. Island Areas    1\n",
        "Oceania, not specified      1\n",
        "Kosovo                      1\n",
        "Cyprus                      1\n",
        "Wales                       1\n",
        "Length: 149, dtype: int64"
       ]
      }
     ],
     "prompt_number": 29
    },
    {
     "cell_type": "code",
     "collapsed": false,
     "input": [
      "# Find the proportion of interviewees from the \"New York-Northern New Jersey-Long Island, NY-NJ-PA\" \n",
      "# metropolitan area who have a country of birth that is not the United States.\n",
      "interviewees_from_NY_NJ = CPS[CPS['MetroArea'] == 'New York-Northern New Jersey-Long Island, NY-NJ-PA']\n",
      "non_US_born_NY_NJ = interviewees_from_NY_NJ[interviewees_from_NY_NJ['Country'] != 'United States']\n",
      "print \"There were %s interviewees from NY, NJ, and Long Island.\" % (interviewees_from_NY_NJ.shape[0])\n",
      "print \"Of those interviewees, %s were not born in the U.S.\" % (non_US_born_NY_NJ.shape[0])\n",
      "print \"Proportion: %s\" % (non_US_born_NY_NJ.shape[0]/float(interviewees_from_NY_NJ.shape[0]))"
     ],
     "language": "python",
     "metadata": {},
     "outputs": [
      {
       "output_type": "stream",
       "stream": "stdout",
       "text": [
        "There were 5409 interviewees from NY, NJ, and Long Island.\n",
        "Of those interviewees, 1673 were not born in the U.S.\n",
        "Proportion: 0.309299315955\n"
       ]
      }
     ],
     "prompt_number": 30
    },
    {
     "cell_type": "code",
     "collapsed": false,
     "input": [
      "# Find which metropolitan area has the largest number of interviewees with a country of birth in India\n",
      "born_in_India = CPS['Country'] == 'India'\n",
      "regional_Indian_Americans = born_in_India.groupby(CPS['MetroArea']).sum()\n",
      "regional_Indian_Americans.idxmax()"
     ],
     "language": "python",
     "metadata": {},
     "outputs": [
      {
       "metadata": {},
       "output_type": "pyout",
       "prompt_number": 31,
       "text": [
        "'New York-Northern New Jersey-Long Island, NY-NJ-PA'"
       ]
      }
     ],
     "prompt_number": 31
    },
    {
     "cell_type": "code",
     "collapsed": false,
     "input": [
      "# Find which metropolitan area has the largest number of interviewees with a country of birth in Brazil\n",
      "born_in_Brazil = CPS['Country'] == 'Brazil'\n",
      "regional_Brazilian_Americans = born_in_Brazil.groupby(CPS['MetroArea']).sum()\n",
      "regional_Brazilian_Americans.idxmax()"
     ],
     "language": "python",
     "metadata": {},
     "outputs": [
      {
       "metadata": {},
       "output_type": "pyout",
       "prompt_number": 32,
       "text": [
        "'Boston-Cambridge-Quincy, MA-NH'"
       ]
      }
     ],
     "prompt_number": 32
    },
    {
     "cell_type": "code",
     "collapsed": false,
     "input": [
      "# Find which metropolitan area has the largest number of interviewees with a country of birth in Somalia\n",
      "born_in_Somalia = CPS['Country'] == 'Somalia'\n",
      "regional_Somalian_Americans = born_in_Somalia.groupby(CPS['MetroArea']).sum()\n",
      "regional_Somalian_Americans.idxmax()"
     ],
     "language": "python",
     "metadata": {},
     "outputs": [
      {
       "metadata": {},
       "output_type": "pyout",
       "prompt_number": 33,
       "text": [
        "'Minneapolis-St Paul-Bloomington, MN-WI'"
       ]
      }
     ],
     "prompt_number": 33
    }
   ],
   "metadata": {}
  }
 ]
}