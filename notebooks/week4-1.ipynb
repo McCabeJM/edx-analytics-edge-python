{
 "metadata": {
  "name": "",
  "signature": "sha256:fbe38282a5f48d12a58c937fae1bc227c3a1145949738dd9c92b81e2ca825e04"
 },
 "nbformat": 3,
 "nbformat_minor": 0,
 "worksheets": [
  {
   "cells": [
    {
     "cell_type": "code",
     "collapsed": false,
     "input": [
      "# Analytics Edge course from MITx on EdX.org\n",
      "# Week 4 - Part 1\n",
      "# Analysis of voting data from Alan Gerber and Donald Green of Yale University, \n",
      "# and Christopher Larimer of the University of Northern Iowa's study of voting \n",
      "# behavior in Michigan\n",
      "import pandas as pd\n",
      "import statsmodels.api as sm\n",
      "import numpy as np\n",
      "import matplotlib.pyplot as plt\n",
      "%matplotlib inline"
     ],
     "language": "python",
     "metadata": {},
     "outputs": [],
     "prompt_number": 1
    },
    {
     "cell_type": "code",
     "collapsed": false,
     "input": [
      "# Read the data into a datafra\n",
      "file_path = r'../csvs/gerber.csv'\n",
      "gerber = pd.read_csv(file_path)\n",
      "gerber.head()"
     ],
     "language": "python",
     "metadata": {},
     "outputs": [
      {
       "html": [
        "<div style=\"max-height:1000px;max-width:1500px;overflow:auto;\">\n",
        "<table border=\"1\" class=\"dataframe\">\n",
        "  <thead>\n",
        "    <tr style=\"text-align: right;\">\n",
        "      <th></th>\n",
        "      <th>sex</th>\n",
        "      <th>yob</th>\n",
        "      <th>voting</th>\n",
        "      <th>hawthorne</th>\n",
        "      <th>civicduty</th>\n",
        "      <th>neighbors</th>\n",
        "      <th>self</th>\n",
        "      <th>control</th>\n",
        "    </tr>\n",
        "  </thead>\n",
        "  <tbody>\n",
        "    <tr>\n",
        "      <th>0</th>\n",
        "      <td> 0</td>\n",
        "      <td> 1941</td>\n",
        "      <td> 0</td>\n",
        "      <td> 0</td>\n",
        "      <td> 1</td>\n",
        "      <td> 0</td>\n",
        "      <td> 0</td>\n",
        "      <td> 0</td>\n",
        "    </tr>\n",
        "    <tr>\n",
        "      <th>1</th>\n",
        "      <td> 1</td>\n",
        "      <td> 1947</td>\n",
        "      <td> 0</td>\n",
        "      <td> 0</td>\n",
        "      <td> 1</td>\n",
        "      <td> 0</td>\n",
        "      <td> 0</td>\n",
        "      <td> 0</td>\n",
        "    </tr>\n",
        "    <tr>\n",
        "      <th>2</th>\n",
        "      <td> 1</td>\n",
        "      <td> 1982</td>\n",
        "      <td> 1</td>\n",
        "      <td> 1</td>\n",
        "      <td> 0</td>\n",
        "      <td> 0</td>\n",
        "      <td> 0</td>\n",
        "      <td> 0</td>\n",
        "    </tr>\n",
        "    <tr>\n",
        "      <th>3</th>\n",
        "      <td> 1</td>\n",
        "      <td> 1950</td>\n",
        "      <td> 1</td>\n",
        "      <td> 1</td>\n",
        "      <td> 0</td>\n",
        "      <td> 0</td>\n",
        "      <td> 0</td>\n",
        "      <td> 0</td>\n",
        "    </tr>\n",
        "    <tr>\n",
        "      <th>4</th>\n",
        "      <td> 0</td>\n",
        "      <td> 1951</td>\n",
        "      <td> 1</td>\n",
        "      <td> 1</td>\n",
        "      <td> 0</td>\n",
        "      <td> 0</td>\n",
        "      <td> 0</td>\n",
        "      <td> 0</td>\n",
        "    </tr>\n",
        "  </tbody>\n",
        "</table>\n",
        "<p>5 rows \u00d7 8 columns</p>\n",
        "</div>"
       ],
       "metadata": {},
       "output_type": "pyout",
       "prompt_number": 2,
       "text": [
        "   sex   yob  voting  hawthorne  civicduty  neighbors  self  control\n",
        "0    0  1941       0          0          1          0     0        0\n",
        "1    1  1947       0          0          1          0     0        0\n",
        "2    1  1982       1          1          0          0     0        0\n",
        "3    1  1950       1          1          0          0     0        0\n",
        "4    0  1951       1          1          0          0     0        0\n",
        "\n",
        "[5 rows x 8 columns]"
       ]
      }
     ],
     "prompt_number": 2
    },
    {
     "cell_type": "code",
     "collapsed": false,
     "input": [
      "# Find proportion of observations in the dataset that voted (voting == 1)\n",
      "voted = gerber['voting'].sum()\n",
      "voted/float(gerber.shape[0])"
     ],
     "language": "python",
     "metadata": {},
     "outputs": [
      {
       "metadata": {},
       "output_type": "pyout",
       "prompt_number": 3,
       "text": [
        "0.31589960591018473"
       ]
      }
     ],
     "prompt_number": 3
    },
    {
     "cell_type": "code",
     "collapsed": false,
     "input": [
      "# Find which group has the largest fraction of voters\n",
      "for col in gerber.columns[3:7].tolist():\n",
      "   print pd.crosstab(gerber['voting'], gerber[col], rownames=['voting'])"
     ],
     "language": "python",
     "metadata": {},
     "outputs": [
      {
       "output_type": "stream",
       "stream": "stdout",
       "text": [
        "hawthorne       0      1\n",
        "voting                  \n",
        "0          209500  25888\n",
        "1           96380  12316\n",
        "\n",
        "[2 rows x 2 columns]\n",
        "civicduty       0      1\n",
        "voting                  \n",
        "0          209191  26197\n",
        "1           96675  12021\n",
        "\n",
        "[2 rows x 2 columns]"
       ]
      },
      {
       "output_type": "stream",
       "stream": "stdout",
       "text": [
        "\n",
        "neighbors       0      1\n",
        "voting                  \n",
        "0          211625  23763\n",
        "1           94258  14438\n",
        "\n",
        "[2 rows x 2 columns]"
       ]
      },
      {
       "output_type": "stream",
       "stream": "stdout",
       "text": [
        "\n",
        "self         0      1\n",
        "voting               \n",
        "0       210361  25027\n",
        "1        95505  13191\n",
        "\n",
        "[2 rows x 2 columns]"
       ]
      },
      {
       "output_type": "stream",
       "stream": "stdout",
       "text": [
        "\n"
       ]
      }
     ],
     "prompt_number": 4
    },
    {
     "cell_type": "code",
     "collapsed": false,
     "input": [
      "# Perform a logistic regression\n",
      "gerberLog = sm.Logit.from_formula(formula='voting ~ civicduty + hawthorne + self + neighbors', data=gerber).fit()\n",
      "print gerberLog.summary()"
     ],
     "language": "python",
     "metadata": {},
     "outputs": [
      {
       "output_type": "stream",
       "stream": "stdout",
       "text": [
        "Optimization terminated successfully.\n",
        "         Current function value: 0.622071\n",
        "         Iterations 5\n",
        "                           Logit Regression Results                           \n",
        "==============================================================================\n",
        "Dep. Variable:                 voting   No. Observations:               344084\n",
        "Model:                          Logit   Df Residuals:                   344079\n",
        "Method:                           MLE   Df Model:                            4\n",
        "Date:                Wed, 02 Apr 2014   Pseudo R-squ.:                0.002675\n",
        "Time:                        10:40:57   Log-Likelihood:            -2.1404e+05\n",
        "converged:                       True   LL-Null:                   -2.1462e+05\n",
        "                                        LLR p-value:                2.547e-247\n",
        "==============================================================================\n",
        "                 coef    std err          z      P>|z|      [95.0% Conf. Int.]\n",
        "------------------------------------------------------------------------------\n",
        "Intercept     -0.8634      0.005   -172.459      0.000        -0.873    -0.854\n",
        "civicduty      0.0844      0.012      6.972      0.000         0.061     0.108\n",
        "hawthorne      0.1205      0.012     10.009      0.000         0.097     0.144\n",
        "self           0.2229      0.012     18.786      0.000         0.200     0.246\n",
        "neighbors      0.3651      0.012     31.260      0.000         0.342     0.388\n",
        "=============================================================================="
       ]
      },
      {
       "output_type": "stream",
       "stream": "stdout",
       "text": [
        "\n"
       ]
      }
     ],
     "prompt_number": 5
    },
    {
     "cell_type": "code",
     "collapsed": false,
     "input": [
      "# Make predictions using the model above\n",
      "predict_gerber = gerberLog.predict(gerber)"
     ],
     "language": "python",
     "metadata": {},
     "outputs": [],
     "prompt_number": 6
    },
    {
     "cell_type": "code",
     "collapsed": false,
     "input": [
      "gerber_conf_matrix30 = pd.crosstab(gerber.voting, predict_gerber > 0.3)"
     ],
     "language": "python",
     "metadata": {},
     "outputs": [],
     "prompt_number": 7
    },
    {
     "cell_type": "code",
     "collapsed": false,
     "input": [
      "gerber_accuracy30 = (gerber_conf_matrix30[0][0] + gerber_conf_matrix30[1][1])/float(gerber_conf_matrix30.sum().sum())\n",
      "print gerber_accuracy30"
     ],
     "language": "python",
     "metadata": {},
     "outputs": [
      {
       "output_type": "stream",
       "stream": "stdout",
       "text": [
        "0.541957777752\n"
       ]
      }
     ],
     "prompt_number": 8
    },
    {
     "cell_type": "code",
     "collapsed": false,
     "input": [
      "gerber_conf_matrix50 = pd.crosstab(gerber.voting, predict_gerber > 0.5)"
     ],
     "language": "python",
     "metadata": {},
     "outputs": [],
     "prompt_number": 9
    },
    {
     "cell_type": "code",
     "collapsed": false,
     "input": [
      "# Calculate the accuracy\n",
      "gerber_accuracy50 = 235388/float(235388 + 108696)\n",
      "print gerber_accuracy50"
     ],
     "language": "python",
     "metadata": {},
     "outputs": [
      {
       "output_type": "stream",
       "stream": "stdout",
       "text": [
        "0.68410039409\n"
       ]
      }
     ],
     "prompt_number": 10
    },
    {
     "cell_type": "code",
     "collapsed": false,
     "input": [
      "# Import scikit-learn module to help calculate AUC\n",
      "from sklearn.metrics import roc_curve, auc"
     ],
     "language": "python",
     "metadata": {},
     "outputs": [],
     "prompt_number": 11
    },
    {
     "cell_type": "code",
     "collapsed": false,
     "input": [
      "fpr, tpr, thresholds = roc_curve(gerber.voting, predict_gerber)"
     ],
     "language": "python",
     "metadata": {},
     "outputs": [],
     "prompt_number": 12
    },
    {
     "cell_type": "code",
     "collapsed": false,
     "input": [
      "auc(fpr, tpr)"
     ],
     "language": "python",
     "metadata": {},
     "outputs": [
      {
       "metadata": {},
       "output_type": "pyout",
       "prompt_number": 13,
       "text": [
        "0.53084614920640483"
       ]
      }
     ],
     "prompt_number": 13
    }
   ],
   "metadata": {}
  }
 ]
}