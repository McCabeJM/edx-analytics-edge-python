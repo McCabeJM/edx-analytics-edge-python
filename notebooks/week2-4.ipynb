{
 "metadata": {
  "name": ""
 },
 "nbformat": 3,
 "nbformat_minor": 0,
 "worksheets": [
  {
   "cells": [
    {
     "cell_type": "code",
     "collapsed": false,
     "input": [
      "# Analytics Edge course from EdX\n",
      "# Week 2 - Part 4\n",
      "# Analysis of Flu Data \n",
      "\n",
      "from pandas import DataFrame, read_csv\n",
      "import pandas as pd\n",
      "import matplotlib.pyplot as plt\n",
      "import numpy as np\n",
      "import statsmodels.formula.api as sm\n",
      "import math\n",
      "%matplotlib inline"
     ],
     "language": "python",
     "metadata": {},
     "outputs": [],
     "prompt_number": 114
    },
    {
     "cell_type": "code",
     "collapsed": false,
     "input": [
      "# Load data from the file into a data frame\n",
      "flu_path = r'../csvs/FluTrain.csv'\n",
      "flu_train = read_csv(flu_path)\n",
      "flu_train.head()"
     ],
     "language": "python",
     "metadata": {},
     "outputs": [
      {
       "html": [
        "<div style=\"max-height:1000px;max-width:1500px;overflow:auto;\">\n",
        "<table border=\"1\" class=\"dataframe\">\n",
        "  <thead>\n",
        "    <tr style=\"text-align: right;\">\n",
        "      <th></th>\n",
        "      <th>Week</th>\n",
        "      <th>ILI</th>\n",
        "      <th>Queries</th>\n",
        "    </tr>\n",
        "  </thead>\n",
        "  <tbody>\n",
        "    <tr>\n",
        "      <th>0</th>\n",
        "      <td> 2004-01-04 - 2004-01-10</td>\n",
        "      <td> 2.418331</td>\n",
        "      <td> 0.237716</td>\n",
        "    </tr>\n",
        "    <tr>\n",
        "      <th>1</th>\n",
        "      <td> 2004-01-11 - 2004-01-17</td>\n",
        "      <td> 1.809056</td>\n",
        "      <td> 0.220452</td>\n",
        "    </tr>\n",
        "    <tr>\n",
        "      <th>2</th>\n",
        "      <td> 2004-01-18 - 2004-01-24</td>\n",
        "      <td> 1.712024</td>\n",
        "      <td> 0.225764</td>\n",
        "    </tr>\n",
        "    <tr>\n",
        "      <th>3</th>\n",
        "      <td> 2004-01-25 - 2004-01-31</td>\n",
        "      <td> 1.542495</td>\n",
        "      <td> 0.237716</td>\n",
        "    </tr>\n",
        "    <tr>\n",
        "      <th>4</th>\n",
        "      <td> 2004-02-01 - 2004-02-07</td>\n",
        "      <td> 1.437868</td>\n",
        "      <td> 0.224436</td>\n",
        "    </tr>\n",
        "  </tbody>\n",
        "</table>\n",
        "<p>5 rows \u00d7 3 columns</p>\n",
        "</div>"
       ],
       "metadata": {},
       "output_type": "pyout",
       "prompt_number": 115,
       "text": [
        "                      Week       ILI   Queries\n",
        "0  2004-01-04 - 2004-01-10  2.418331  0.237716\n",
        "1  2004-01-11 - 2004-01-17  1.809056  0.220452\n",
        "2  2004-01-18 - 2004-01-24  1.712024  0.225764\n",
        "3  2004-01-25 - 2004-01-31  1.542495  0.237716\n",
        "4  2004-02-01 - 2004-02-07  1.437868  0.224436\n",
        "\n",
        "[5 rows x 3 columns]"
       ]
      }
     ],
     "prompt_number": 115
    },
    {
     "cell_type": "code",
     "collapsed": false,
     "input": [
      "# Find which week had the highest percentage of ILI-related physician visits. \n",
      "max_ILI_index = flu_train.ILI.idxmax()\n",
      "max_ILI_week = flu_train['Week'][max_ILI_index]\n",
      "max_ILI = flu_train['ILI'][max_ILI_index]\n",
      "print \"The week of %s had the highest ILI-related physician visits percentage of %s.\" % (max_ILI_week, max_ILI)"
     ],
     "language": "python",
     "metadata": {},
     "outputs": [
      {
       "output_type": "stream",
       "stream": "stdout",
       "text": [
        "The week of 2009-10-18 - 2009-10-24 had the highest ILI-related physician visits percentage of 7.618892134.\n"
       ]
      }
     ],
     "prompt_number": 116
    },
    {
     "cell_type": "code",
     "collapsed": false,
     "input": [
      "# Find which week had the highest ILI-related query fraction.\n",
      "max_query_index = flu_train.Queries.idxmax()\n",
      "max_query_week = flu_train['Week'][max_query_index]\n",
      "max_query = flu_train['Queries'][max_query_index]\n",
      "print \"The week of %s had the highest ILI-related related query fraction of %s.\" % (max_query_week, max_query)"
     ],
     "language": "python",
     "metadata": {},
     "outputs": [
      {
       "output_type": "stream",
       "stream": "stdout",
       "text": [
        "The week of 2009-10-18 - 2009-10-24 had the highest ILI-related related query fraction of 1.0.\n"
       ]
      }
     ],
     "prompt_number": 117
    },
    {
     "cell_type": "code",
     "collapsed": false,
     "input": [
      "# Plot a histogram of the ILI variable\n",
      "# The data is right-skewed\n",
      "flu_train['ILI'].hist()"
     ],
     "language": "python",
     "metadata": {},
     "outputs": [
      {
       "metadata": {},
       "output_type": "pyout",
       "prompt_number": 118,
       "text": [
        "<matplotlib.axes.AxesSubplot at 0x1059ecd50>"
       ]
      },
      {
       "metadata": {},
       "output_type": "display_data",
       "png": "[encoded data removed]",
       "text": [
        "<matplotlib.figure.Figure at 0x1059a1b10>"
       ]
      }
     ],
     "prompt_number": 118
    },
    {
     "cell_type": "code",
     "collapsed": false,
     "input": [
      "complete_flu_df = flu_train.copy()\n",
      "complete_flu_df['ILIlog'] = np.log(complete_flu_df['ILI'])\n",
      "complete_flu_df.plot(x='Queries', y='ILIlog', color='blue', kind='scatter')"
     ],
     "language": "python",
     "metadata": {},
     "outputs": [
      {
       "metadata": {},
       "output_type": "pyout",
       "prompt_number": 119,
       "text": [
        "<matplotlib.axes.AxesSubplot at 0x1059cf350>"
       ]
      },
      {
       "metadata": {},
       "output_type": "display_data",
       "png": "[encoded data removed]",
       "text": [
        "<matplotlib.figure.Figure at 0x1059949d0>"
       ]
      }
     ],
     "prompt_number": 119
    },
    {
     "cell_type": "code",
     "collapsed": false,
     "input": [
      "# Make a model for the situation in the plot above\n",
      "flu_model = sm.ols(formula=\"ILIlog ~ Queries\", data=complete_flu_df).fit()\n",
      "flu_model.summary()"
     ],
     "language": "python",
     "metadata": {},
     "outputs": [
      {
       "html": [
        "<table class=\"simpletable\">\n",
        "<caption>OLS Regression Results</caption>\n",
        "<tr>\n",
        "  <th>Dep. Variable:</th>         <td>ILIlog</td>      <th>  R-squared:         </th> <td>   0.709</td> \n",
        "</tr>\n",
        "<tr>\n",
        "  <th>Model:</th>                   <td>OLS</td>       <th>  Adj. R-squared:    </th> <td>   0.708</td> \n",
        "</tr>\n",
        "<tr>\n",
        "  <th>Method:</th>             <td>Least Squares</td>  <th>  F-statistic:       </th> <td>   1011.</td> \n",
        "</tr>\n",
        "<tr>\n",
        "  <th>Date:</th>             <td>Mon, 17 Mar 2014</td> <th>  Prob (F-statistic):</th> <td>2.62e-113</td>\n",
        "</tr>\n",
        "<tr>\n",
        "  <th>Time:</th>                 <td>10:03:33</td>     <th>  Log-Likelihood:    </th> <td> -87.974</td> \n",
        "</tr>\n",
        "<tr>\n",
        "  <th>No. Observations:</th>      <td>   417</td>      <th>  AIC:               </th> <td>   179.9</td> \n",
        "</tr>\n",
        "<tr>\n",
        "  <th>Df Residuals:</th>          <td>   415</td>      <th>  BIC:               </th> <td>   188.0</td> \n",
        "</tr>\n",
        "<tr>\n",
        "  <th>Df Model:</th>              <td>     1</td>      <th>                     </th>     <td> </td>    \n",
        "</tr>\n",
        "</table>\n",
        "<table class=\"simpletable\">\n",
        "<tr>\n",
        "      <td></td>         <th>coef</th>     <th>std err</th>      <th>t</th>      <th>P>|t|</th> <th>[95.0% Conf. Int.]</th> \n",
        "</tr>\n",
        "<tr>\n",
        "  <th>Intercept</th> <td>   -0.4993</td> <td>    0.030</td> <td>  -16.422</td> <td> 0.000</td> <td>   -0.559    -0.440</td>\n",
        "</tr>\n",
        "<tr>\n",
        "  <th>Queries</th>   <td>    2.9613</td> <td>    0.093</td> <td>   31.800</td> <td> 0.000</td> <td>    2.778     3.144</td>\n",
        "</tr>\n",
        "</table>\n",
        "<table class=\"simpletable\">\n",
        "<tr>\n",
        "  <th>Omnibus:</th>       <td> 9.797</td> <th>  Durbin-Watson:     </th> <td>   0.283</td>\n",
        "</tr>\n",
        "<tr>\n",
        "  <th>Prob(Omnibus):</th> <td> 0.007</td> <th>  Jarque-Bera (JB):  </th> <td>   9.884</td>\n",
        "</tr>\n",
        "<tr>\n",
        "  <th>Skew:</th>          <td> 0.373</td> <th>  Prob(JB):          </th> <td> 0.00714</td>\n",
        "</tr>\n",
        "<tr>\n",
        "  <th>Kurtosis:</th>      <td> 3.112</td> <th>  Cond. No.          </th> <td>    6.88</td>\n",
        "</tr>\n",
        "</table>"
       ],
       "metadata": {},
       "output_type": "pyout",
       "prompt_number": 120,
       "text": [
        "<class 'statsmodels.iolib.summary.Summary'>\n",
        "\"\"\"\n",
        "                            OLS Regression Results                            \n",
        "==============================================================================\n",
        "Dep. Variable:                 ILIlog   R-squared:                       0.709\n",
        "Model:                            OLS   Adj. R-squared:                  0.708\n",
        "Method:                 Least Squares   F-statistic:                     1011.\n",
        "Date:                Mon, 17 Mar 2014   Prob (F-statistic):          2.62e-113\n",
        "Time:                        10:03:33   Log-Likelihood:                -87.974\n",
        "No. Observations:                 417   AIC:                             179.9\n",
        "Df Residuals:                     415   BIC:                             188.0\n",
        "Df Model:                           1                                         \n",
        "==============================================================================\n",
        "                 coef    std err          t      P>|t|      [95.0% Conf. Int.]\n",
        "------------------------------------------------------------------------------\n",
        "Intercept     -0.4993      0.030    -16.422      0.000        -0.559    -0.440\n",
        "Queries        2.9613      0.093     31.800      0.000         2.778     3.144\n",
        "==============================================================================\n",
        "Omnibus:                        9.797   Durbin-Watson:                   0.283\n",
        "Prob(Omnibus):                  0.007   Jarque-Bera (JB):                9.884\n",
        "Skew:                           0.373   Prob(JB):                      0.00714\n",
        "Kurtosis:                       3.112   Cond. No.                         6.88\n",
        "==============================================================================\n",
        "\"\"\""
       ]
      }
     ],
     "prompt_number": 120
    },
    {
     "cell_type": "code",
     "collapsed": false,
     "input": [
      "# Find the correlation between the two independent variables\n",
      "flu_train.corr()"
     ],
     "language": "python",
     "metadata": {},
     "outputs": [
      {
       "html": [
        "<div style=\"max-height:1000px;max-width:1500px;overflow:auto;\">\n",
        "<table border=\"1\" class=\"dataframe\">\n",
        "  <thead>\n",
        "    <tr style=\"text-align: right;\">\n",
        "      <th></th>\n",
        "      <th>ILI</th>\n",
        "      <th>Queries</th>\n",
        "    </tr>\n",
        "  </thead>\n",
        "  <tbody>\n",
        "    <tr>\n",
        "      <th>ILI</th>\n",
        "      <td> 1.000000</td>\n",
        "      <td> 0.814212</td>\n",
        "    </tr>\n",
        "    <tr>\n",
        "      <th>Queries</th>\n",
        "      <td> 0.814212</td>\n",
        "      <td> 1.000000</td>\n",
        "    </tr>\n",
        "  </tbody>\n",
        "</table>\n",
        "<p>2 rows \u00d7 2 columns</p>\n",
        "</div>"
       ],
       "metadata": {},
       "output_type": "pyout",
       "prompt_number": 121,
       "text": [
        "              ILI   Queries\n",
        "ILI      1.000000  0.814212\n",
        "Queries  0.814212  1.000000\n",
        "\n",
        "[2 rows x 2 columns]"
       ]
      }
     ],
     "prompt_number": 121
    },
    {
     "cell_type": "code",
     "collapsed": false,
     "input": [
      "complete_flu_df.corr()"
     ],
     "language": "python",
     "metadata": {},
     "outputs": [
      {
       "html": [
        "<div style=\"max-height:1000px;max-width:1500px;overflow:auto;\">\n",
        "<table border=\"1\" class=\"dataframe\">\n",
        "  <thead>\n",
        "    <tr style=\"text-align: right;\">\n",
        "      <th></th>\n",
        "      <th>ILI</th>\n",
        "      <th>Queries</th>\n",
        "      <th>ILIlog</th>\n",
        "    </tr>\n",
        "  </thead>\n",
        "  <tbody>\n",
        "    <tr>\n",
        "      <th>ILI</th>\n",
        "      <td> 1.000000</td>\n",
        "      <td> 0.814212</td>\n",
        "      <td> 0.945168</td>\n",
        "    </tr>\n",
        "    <tr>\n",
        "      <th>Queries</th>\n",
        "      <td> 0.814212</td>\n",
        "      <td> 1.000000</td>\n",
        "      <td> 0.842033</td>\n",
        "    </tr>\n",
        "    <tr>\n",
        "      <th>ILIlog</th>\n",
        "      <td> 0.945168</td>\n",
        "      <td> 0.842033</td>\n",
        "      <td> 1.000000</td>\n",
        "    </tr>\n",
        "  </tbody>\n",
        "</table>\n",
        "<p>3 rows \u00d7 3 columns</p>\n",
        "</div>"
       ],
       "metadata": {},
       "output_type": "pyout",
       "prompt_number": 122,
       "text": [
        "              ILI   Queries    ILIlog\n",
        "ILI      1.000000  0.814212  0.945168\n",
        "Queries  0.814212  1.000000  0.842033\n",
        "ILIlog   0.945168  0.842033  1.000000\n",
        "\n",
        "[3 rows x 3 columns]"
       ]
      }
     ],
     "prompt_number": 122
    },
    {
     "cell_type": "code",
     "collapsed": false,
     "input": [
      "# Find the relationship between the R^2 value of the model and the \n",
      "# following relationships\n",
      "rsq = 0.709\n",
      "print \"R^2 = correlation^2: R^2 = 0.709 and correlation = 0.842033. correlation^2 = %s\" % (0.842033**2)"
     ],
     "language": "python",
     "metadata": {},
     "outputs": [
      {
       "output_type": "stream",
       "stream": "stdout",
       "text": [
        "R^2 = correlation^2: R^2 = 0.709 and correlation = 0.842033. correlation^2 = 0.709019573089\n"
       ]
      }
     ],
     "prompt_number": 123
    },
    {
     "cell_type": "code",
     "collapsed": false,
     "input": [
      "# Load the testing data set in\n",
      "flu_test_path = r'../csvs/FluTest.csv'\n",
      "flu_test = read_csv(flu_test_path)\n",
      "flu_test.head()"
     ],
     "language": "python",
     "metadata": {},
     "outputs": [
      {
       "html": [
        "<div style=\"max-height:1000px;max-width:1500px;overflow:auto;\">\n",
        "<table border=\"1\" class=\"dataframe\">\n",
        "  <thead>\n",
        "    <tr style=\"text-align: right;\">\n",
        "      <th></th>\n",
        "      <th>Week</th>\n",
        "      <th>ILI</th>\n",
        "      <th>Queries</th>\n",
        "    </tr>\n",
        "  </thead>\n",
        "  <tbody>\n",
        "    <tr>\n",
        "      <th>0</th>\n",
        "      <td> 2012-01-01 - 2012-01-07</td>\n",
        "      <td> 1.766707</td>\n",
        "      <td> 0.593625</td>\n",
        "    </tr>\n",
        "    <tr>\n",
        "      <th>1</th>\n",
        "      <td> 2012-01-08 - 2012-01-14</td>\n",
        "      <td> 1.543401</td>\n",
        "      <td> 0.499336</td>\n",
        "    </tr>\n",
        "    <tr>\n",
        "      <th>2</th>\n",
        "      <td> 2012-01-15 - 2012-01-21</td>\n",
        "      <td> 1.647615</td>\n",
        "      <td> 0.500664</td>\n",
        "    </tr>\n",
        "    <tr>\n",
        "      <th>3</th>\n",
        "      <td> 2012-01-22 - 2012-01-28</td>\n",
        "      <td> 1.684297</td>\n",
        "      <td> 0.479416</td>\n",
        "    </tr>\n",
        "    <tr>\n",
        "      <th>4</th>\n",
        "      <td> 2012-01-29 - 2012-02-04</td>\n",
        "      <td> 1.863542</td>\n",
        "      <td> 0.471448</td>\n",
        "    </tr>\n",
        "  </tbody>\n",
        "</table>\n",
        "<p>5 rows \u00d7 3 columns</p>\n",
        "</div>"
       ],
       "metadata": {},
       "output_type": "pyout",
       "prompt_number": 124,
       "text": [
        "                      Week       ILI   Queries\n",
        "0  2012-01-01 - 2012-01-07  1.766707  0.593625\n",
        "1  2012-01-08 - 2012-01-14  1.543401  0.499336\n",
        "2  2012-01-15 - 2012-01-21  1.647615  0.500664\n",
        "3  2012-01-22 - 2012-01-28  1.684297  0.479416\n",
        "4  2012-01-29 - 2012-02-04  1.863542  0.471448\n",
        "\n",
        "[5 rows x 3 columns]"
       ]
      }
     ],
     "prompt_number": 124
    },
    {
     "cell_type": "code",
     "collapsed": false,
     "input": [
      "# Find the estimated ILI at a specific data\n",
      "# First find the index of that week in the data frame\n",
      "pred_test = np.exp(flu_model.predict(flu_test))\n",
      "flu_test.loc[flu_test['Week'] == '2012-03-11 - 2012-03-17']"
     ],
     "language": "python",
     "metadata": {},
     "outputs": [
      {
       "html": [
        "<div style=\"max-height:1000px;max-width:1500px;overflow:auto;\">\n",
        "<table border=\"1\" class=\"dataframe\">\n",
        "  <thead>\n",
        "    <tr style=\"text-align: right;\">\n",
        "      <th></th>\n",
        "      <th>Week</th>\n",
        "      <th>ILI</th>\n",
        "      <th>Queries</th>\n",
        "    </tr>\n",
        "  </thead>\n",
        "  <tbody>\n",
        "    <tr>\n",
        "      <th>10</th>\n",
        "      <td> 2012-03-11 - 2012-03-17</td>\n",
        "      <td> 2.293422</td>\n",
        "      <td> 0.432935</td>\n",
        "    </tr>\n",
        "  </tbody>\n",
        "</table>\n",
        "<p>1 rows \u00d7 3 columns</p>\n",
        "</div>"
       ],
       "metadata": {},
       "output_type": "pyout",
       "prompt_number": 125,
       "text": [
        "                       Week       ILI   Queries\n",
        "10  2012-03-11 - 2012-03-17  2.293422  0.432935\n",
        "\n",
        "[1 rows x 3 columns]"
       ]
      }
     ],
     "prompt_number": 125
    },
    {
     "cell_type": "code",
     "collapsed": false,
     "input": [
      "# The index is 10\n",
      "print pred_test[10]"
     ],
     "language": "python",
     "metadata": {},
     "outputs": [
      {
       "output_type": "stream",
       "stream": "stdout",
       "text": [
        "2.18737772111\n"
       ]
      }
     ],
     "prompt_number": 126
    },
    {
     "cell_type": "code",
     "collapsed": false,
     "input": [
      "# Calculate the relative error betweeen the estimated and the observed ILI\n",
      "# for that week\n",
      "(flu_test['ILI'][10] - pred_test[10])/flu_test['ILI'][10]"
     ],
     "language": "python",
     "metadata": {},
     "outputs": [
      {
       "metadata": {},
       "output_type": "pyout",
       "prompt_number": 127,
       "text": [
        "0.046238266364746414"
       ]
      }
     ],
     "prompt_number": 127
    },
    {
     "cell_type": "code",
     "collapsed": false,
     "input": [
      "# Calculate the root mean squared error (RMSE)\n",
      "SSE = ((flu_test['ILI'] - pred_test)**2).mean()\n",
      "math.sqrt(SSE)"
     ],
     "language": "python",
     "metadata": {},
     "outputs": [
      {
       "metadata": {},
       "output_type": "pyout",
       "prompt_number": 128,
       "text": [
        "0.7490645271019656"
       ]
      }
     ],
     "prompt_number": 128
    },
    {
     "cell_type": "code",
     "collapsed": false,
     "input": [
      "# Add a new column to the flu train data frame\n",
      "flu_train['ILILag2'] = flu_train.ILI.shift(2)\n",
      "flu_train.head()"
     ],
     "language": "python",
     "metadata": {},
     "outputs": [
      {
       "html": [
        "<div style=\"max-height:1000px;max-width:1500px;overflow:auto;\">\n",
        "<table border=\"1\" class=\"dataframe\">\n",
        "  <thead>\n",
        "    <tr style=\"text-align: right;\">\n",
        "      <th></th>\n",
        "      <th>Week</th>\n",
        "      <th>ILI</th>\n",
        "      <th>Queries</th>\n",
        "      <th>ILILag2</th>\n",
        "    </tr>\n",
        "  </thead>\n",
        "  <tbody>\n",
        "    <tr>\n",
        "      <th>0</th>\n",
        "      <td> 2004-01-04 - 2004-01-10</td>\n",
        "      <td> 2.418331</td>\n",
        "      <td> 0.237716</td>\n",
        "      <td>      NaN</td>\n",
        "    </tr>\n",
        "    <tr>\n",
        "      <th>1</th>\n",
        "      <td> 2004-01-11 - 2004-01-17</td>\n",
        "      <td> 1.809056</td>\n",
        "      <td> 0.220452</td>\n",
        "      <td>      NaN</td>\n",
        "    </tr>\n",
        "    <tr>\n",
        "      <th>2</th>\n",
        "      <td> 2004-01-18 - 2004-01-24</td>\n",
        "      <td> 1.712024</td>\n",
        "      <td> 0.225764</td>\n",
        "      <td> 2.418331</td>\n",
        "    </tr>\n",
        "    <tr>\n",
        "      <th>3</th>\n",
        "      <td> 2004-01-25 - 2004-01-31</td>\n",
        "      <td> 1.542495</td>\n",
        "      <td> 0.237716</td>\n",
        "      <td> 1.809056</td>\n",
        "    </tr>\n",
        "    <tr>\n",
        "      <th>4</th>\n",
        "      <td> 2004-02-01 - 2004-02-07</td>\n",
        "      <td> 1.437868</td>\n",
        "      <td> 0.224436</td>\n",
        "      <td> 1.712024</td>\n",
        "    </tr>\n",
        "  </tbody>\n",
        "</table>\n",
        "<p>5 rows \u00d7 4 columns</p>\n",
        "</div>"
       ],
       "metadata": {},
       "output_type": "pyout",
       "prompt_number": 129,
       "text": [
        "                      Week       ILI   Queries   ILILag2\n",
        "0  2004-01-04 - 2004-01-10  2.418331  0.237716       NaN\n",
        "1  2004-01-11 - 2004-01-17  1.809056  0.220452       NaN\n",
        "2  2004-01-18 - 2004-01-24  1.712024  0.225764  2.418331\n",
        "3  2004-01-25 - 2004-01-31  1.542495  0.237716  1.809056\n",
        "4  2004-02-01 - 2004-02-07  1.437868  0.224436  1.712024\n",
        "\n",
        "[5 rows x 4 columns]"
       ]
      }
     ],
     "prompt_number": 129
    },
    {
     "cell_type": "code",
     "collapsed": false,
     "input": [
      "# Find how many values are missing from the new column\n",
      "(pd.isnull(flu_train['ILILag2'])).sum()"
     ],
     "language": "python",
     "metadata": {},
     "outputs": [
      {
       "metadata": {},
       "output_type": "pyout",
       "prompt_number": 130,
       "text": [
        "2"
       ]
      }
     ],
     "prompt_number": 130
    },
    {
     "cell_type": "code",
     "collapsed": false,
     "input": [
      "# Add new column to copied data frame as well\n",
      "# and add another column which takes the natural log\n",
      "# of the new column\n",
      "complete_flu_df['ILILag2'] = flu_train['ILILag2']\n",
      "complete_flu_df['ILILag2log'] = np.log(complete_flu_df['ILILag2'])\n",
      "complete_flu_df.head()"
     ],
     "language": "python",
     "metadata": {},
     "outputs": [
      {
       "html": [
        "<div style=\"max-height:1000px;max-width:1500px;overflow:auto;\">\n",
        "<table border=\"1\" class=\"dataframe\">\n",
        "  <thead>\n",
        "    <tr style=\"text-align: right;\">\n",
        "      <th></th>\n",
        "      <th>Week</th>\n",
        "      <th>ILI</th>\n",
        "      <th>Queries</th>\n",
        "      <th>ILIlog</th>\n",
        "      <th>ILILag2</th>\n",
        "      <th>ILILag2log</th>\n",
        "    </tr>\n",
        "  </thead>\n",
        "  <tbody>\n",
        "    <tr>\n",
        "      <th>0</th>\n",
        "      <td> 2004-01-04 - 2004-01-10</td>\n",
        "      <td> 2.418331</td>\n",
        "      <td> 0.237716</td>\n",
        "      <td> 0.883078</td>\n",
        "      <td>      NaN</td>\n",
        "      <td>      NaN</td>\n",
        "    </tr>\n",
        "    <tr>\n",
        "      <th>1</th>\n",
        "      <td> 2004-01-11 - 2004-01-17</td>\n",
        "      <td> 1.809056</td>\n",
        "      <td> 0.220452</td>\n",
        "      <td> 0.592805</td>\n",
        "      <td>      NaN</td>\n",
        "      <td>      NaN</td>\n",
        "    </tr>\n",
        "    <tr>\n",
        "      <th>2</th>\n",
        "      <td> 2004-01-18 - 2004-01-24</td>\n",
        "      <td> 1.712024</td>\n",
        "      <td> 0.225764</td>\n",
        "      <td> 0.537676</td>\n",
        "      <td> 2.418331</td>\n",
        "      <td> 0.883078</td>\n",
        "    </tr>\n",
        "    <tr>\n",
        "      <th>3</th>\n",
        "      <td> 2004-01-25 - 2004-01-31</td>\n",
        "      <td> 1.542495</td>\n",
        "      <td> 0.237716</td>\n",
        "      <td> 0.433401</td>\n",
        "      <td> 1.809056</td>\n",
        "      <td> 0.592805</td>\n",
        "    </tr>\n",
        "    <tr>\n",
        "      <th>4</th>\n",
        "      <td> 2004-02-01 - 2004-02-07</td>\n",
        "      <td> 1.437868</td>\n",
        "      <td> 0.224436</td>\n",
        "      <td> 0.363162</td>\n",
        "      <td> 1.712024</td>\n",
        "      <td> 0.537676</td>\n",
        "    </tr>\n",
        "  </tbody>\n",
        "</table>\n",
        "<p>5 rows \u00d7 6 columns</p>\n",
        "</div>"
       ],
       "metadata": {},
       "output_type": "pyout",
       "prompt_number": 131,
       "text": [
        "                      Week       ILI   Queries    ILIlog   ILILag2  ILILag2log\n",
        "0  2004-01-04 - 2004-01-10  2.418331  0.237716  0.883078       NaN         NaN\n",
        "1  2004-01-11 - 2004-01-17  1.809056  0.220452  0.592805       NaN         NaN\n",
        "2  2004-01-18 - 2004-01-24  1.712024  0.225764  0.537676  2.418331    0.883078\n",
        "3  2004-01-25 - 2004-01-31  1.542495  0.237716  0.433401  1.809056    0.592805\n",
        "4  2004-02-01 - 2004-02-07  1.437868  0.224436  0.363162  1.712024    0.537676\n",
        "\n",
        "[5 rows x 6 columns]"
       ]
      }
     ],
     "prompt_number": 131
    },
    {
     "cell_type": "code",
     "collapsed": false,
     "input": [
      "complete_flu_df.plot(x='ILILag2log', y='ILIlog', color='blue', kind='scatter')"
     ],
     "language": "python",
     "metadata": {},
     "outputs": [
      {
       "metadata": {},
       "output_type": "pyout",
       "prompt_number": 132,
       "text": [
        "<matplotlib.axes.AxesSubplot at 0x105b70950>"
       ]
      },
      {
       "metadata": {},
       "output_type": "display_data",
       "png": "[encoded data removed]",
       "text": [
        "<matplotlib.figure.Figure at 0x100611b90>"
       ]
      }
     ],
     "prompt_number": 132
    },
    {
     "cell_type": "code",
     "collapsed": false,
     "input": [
      "# Make a new flu data model\n",
      "flu_model2 = sm.ols(formula='ILIlog ~ Queries + ILILag2log', data=complete_flu_df).fit()\n",
      "flu_model2.summary()"
     ],
     "language": "python",
     "metadata": {},
     "outputs": [
      {
       "html": [
        "<table class=\"simpletable\">\n",
        "<caption>OLS Regression Results</caption>\n",
        "<tr>\n",
        "  <th>Dep. Variable:</th>         <td>ILIlog</td>      <th>  R-squared:         </th> <td>   0.906</td> \n",
        "</tr>\n",
        "<tr>\n",
        "  <th>Model:</th>                   <td>OLS</td>       <th>  Adj. R-squared:    </th> <td>   0.906</td> \n",
        "</tr>\n",
        "<tr>\n",
        "  <th>Method:</th>             <td>Least Squares</td>  <th>  F-statistic:       </th> <td>   1993.</td> \n",
        "</tr>\n",
        "<tr>\n",
        "  <th>Date:</th>             <td>Mon, 17 Mar 2014</td> <th>  Prob (F-statistic):</th> <td>1.38e-212</td>\n",
        "</tr>\n",
        "<tr>\n",
        "  <th>Time:</th>                 <td>10:03:35</td>     <th>  Log-Likelihood:    </th> <td>  147.24</td> \n",
        "</tr>\n",
        "<tr>\n",
        "  <th>No. Observations:</th>      <td>   415</td>      <th>  AIC:               </th> <td>  -288.5</td> \n",
        "</tr>\n",
        "<tr>\n",
        "  <th>Df Residuals:</th>          <td>   412</td>      <th>  BIC:               </th> <td>  -276.4</td> \n",
        "</tr>\n",
        "<tr>\n",
        "  <th>Df Model:</th>              <td>     2</td>      <th>                     </th>     <td> </td>    \n",
        "</tr>\n",
        "</table>\n",
        "<table class=\"simpletable\">\n",
        "<tr>\n",
        "       <td></td>         <th>coef</th>     <th>std err</th>      <th>t</th>      <th>P>|t|</th> <th>[95.0% Conf. Int.]</th> \n",
        "</tr>\n",
        "<tr>\n",
        "  <th>Intercept</th>  <td>   -0.2406</td> <td>    0.020</td> <td>  -12.321</td> <td> 0.000</td> <td>   -0.279    -0.202</td>\n",
        "</tr>\n",
        "<tr>\n",
        "  <th>Queries</th>    <td>    1.2558</td> <td>    0.079</td> <td>   15.876</td> <td> 0.000</td> <td>    1.100     1.411</td>\n",
        "</tr>\n",
        "<tr>\n",
        "  <th>ILILag2log</th> <td>    0.6557</td> <td>    0.023</td> <td>   29.135</td> <td> 0.000</td> <td>    0.611     0.700</td>\n",
        "</tr>\n",
        "</table>\n",
        "<table class=\"simpletable\">\n",
        "<tr>\n",
        "  <th>Omnibus:</th>       <td>74.791</td> <th>  Durbin-Watson:     </th> <td>   0.764</td>\n",
        "</tr>\n",
        "<tr>\n",
        "  <th>Prob(Omnibus):</th> <td> 0.000</td> <th>  Jarque-Bera (JB):  </th> <td> 159.402</td>\n",
        "</tr>\n",
        "<tr>\n",
        "  <th>Skew:</th>          <td> 0.950</td> <th>  Prob(JB):          </th> <td>2.43e-35</td>\n",
        "</tr>\n",
        "<tr>\n",
        "  <th>Kurtosis:</th>      <td> 5.368</td> <th>  Cond. No.          </th> <td>    11.1</td>\n",
        "</tr>\n",
        "</table>"
       ],
       "metadata": {},
       "output_type": "pyout",
       "prompt_number": 133,
       "text": [
        "<class 'statsmodels.iolib.summary.Summary'>\n",
        "\"\"\"\n",
        "                            OLS Regression Results                            \n",
        "==============================================================================\n",
        "Dep. Variable:                 ILIlog   R-squared:                       0.906\n",
        "Model:                            OLS   Adj. R-squared:                  0.906\n",
        "Method:                 Least Squares   F-statistic:                     1993.\n",
        "Date:                Mon, 17 Mar 2014   Prob (F-statistic):          1.38e-212\n",
        "Time:                        10:03:35   Log-Likelihood:                 147.24\n",
        "No. Observations:                 415   AIC:                            -288.5\n",
        "Df Residuals:                     412   BIC:                            -276.4\n",
        "Df Model:                           2                                         \n",
        "==============================================================================\n",
        "                 coef    std err          t      P>|t|      [95.0% Conf. Int.]\n",
        "------------------------------------------------------------------------------\n",
        "Intercept     -0.2406      0.020    -12.321      0.000        -0.279    -0.202\n",
        "Queries        1.2558      0.079     15.876      0.000         1.100     1.411\n",
        "ILILag2log     0.6557      0.023     29.135      0.000         0.611     0.700\n",
        "==============================================================================\n",
        "Omnibus:                       74.791   Durbin-Watson:                   0.764\n",
        "Prob(Omnibus):                  0.000   Jarque-Bera (JB):              159.402\n",
        "Skew:                           0.950   Prob(JB):                     2.43e-35\n",
        "Kurtosis:                       5.368   Cond. No.                         11.1\n",
        "==============================================================================\n",
        "\"\"\""
       ]
      }
     ],
     "prompt_number": 133
    },
    {
     "cell_type": "code",
     "collapsed": false,
     "input": [
      "# Add an ILILag2 column to the flu_test data frame\n",
      "flu_test['ILILag2'] = flu_test.ILI.shift(2)\n",
      "flu_test.head()"
     ],
     "language": "python",
     "metadata": {},
     "outputs": [
      {
       "html": [
        "<div style=\"max-height:1000px;max-width:1500px;overflow:auto;\">\n",
        "<table border=\"1\" class=\"dataframe\">\n",
        "  <thead>\n",
        "    <tr style=\"text-align: right;\">\n",
        "      <th></th>\n",
        "      <th>Week</th>\n",
        "      <th>ILI</th>\n",
        "      <th>Queries</th>\n",
        "      <th>ILILag2</th>\n",
        "    </tr>\n",
        "  </thead>\n",
        "  <tbody>\n",
        "    <tr>\n",
        "      <th>0</th>\n",
        "      <td> 2012-01-01 - 2012-01-07</td>\n",
        "      <td> 1.766707</td>\n",
        "      <td> 0.593625</td>\n",
        "      <td>      NaN</td>\n",
        "    </tr>\n",
        "    <tr>\n",
        "      <th>1</th>\n",
        "      <td> 2012-01-08 - 2012-01-14</td>\n",
        "      <td> 1.543401</td>\n",
        "      <td> 0.499336</td>\n",
        "      <td>      NaN</td>\n",
        "    </tr>\n",
        "    <tr>\n",
        "      <th>2</th>\n",
        "      <td> 2012-01-15 - 2012-01-21</td>\n",
        "      <td> 1.647615</td>\n",
        "      <td> 0.500664</td>\n",
        "      <td> 1.766707</td>\n",
        "    </tr>\n",
        "    <tr>\n",
        "      <th>3</th>\n",
        "      <td> 2012-01-22 - 2012-01-28</td>\n",
        "      <td> 1.684297</td>\n",
        "      <td> 0.479416</td>\n",
        "      <td> 1.543401</td>\n",
        "    </tr>\n",
        "    <tr>\n",
        "      <th>4</th>\n",
        "      <td> 2012-01-29 - 2012-02-04</td>\n",
        "      <td> 1.863542</td>\n",
        "      <td> 0.471448</td>\n",
        "      <td> 1.647615</td>\n",
        "    </tr>\n",
        "  </tbody>\n",
        "</table>\n",
        "<p>5 rows \u00d7 4 columns</p>\n",
        "</div>"
       ],
       "metadata": {},
       "output_type": "pyout",
       "prompt_number": 134,
       "text": [
        "                      Week       ILI   Queries   ILILag2\n",
        "0  2012-01-01 - 2012-01-07  1.766707  0.593625       NaN\n",
        "1  2012-01-08 - 2012-01-14  1.543401  0.499336       NaN\n",
        "2  2012-01-15 - 2012-01-21  1.647615  0.500664  1.766707\n",
        "3  2012-01-22 - 2012-01-28  1.684297  0.479416  1.543401\n",
        "4  2012-01-29 - 2012-02-04  1.863542  0.471448  1.647615\n",
        "\n",
        "[5 rows x 4 columns]"
       ]
      }
     ],
     "prompt_number": 134
    },
    {
     "cell_type": "code",
     "collapsed": false,
     "input": [
      "# Find how many values are missing in the new column\n",
      "(pd.isnull(flu_test['ILILag2'])).sum()"
     ],
     "language": "python",
     "metadata": {},
     "outputs": [
      {
       "metadata": {},
       "output_type": "pyout",
       "prompt_number": 135,
       "text": [
        "2"
       ]
      }
     ],
     "prompt_number": 135
    },
    {
     "cell_type": "code",
     "collapsed": false,
     "input": [
      "# Replace the empty values in the flu test data frame \n",
      "# with the correct values from the flu train data frame\n",
      "flu_test['ILILag2'][0] = flu_train['ILI'][415]\n",
      "flu_test['ILILag2'][1] = flu_train['ILI'][416]"
     ],
     "language": "python",
     "metadata": {},
     "outputs": [],
     "prompt_number": 136
    },
    {
     "cell_type": "code",
     "collapsed": false,
     "input": [
      "flu_test['ILILag2log'] = np.log(flu_test['ILILag2'])\n",
      "flu_test.head()"
     ],
     "language": "python",
     "metadata": {},
     "outputs": [
      {
       "html": [
        "<div style=\"max-height:1000px;max-width:1500px;overflow:auto;\">\n",
        "<table border=\"1\" class=\"dataframe\">\n",
        "  <thead>\n",
        "    <tr style=\"text-align: right;\">\n",
        "      <th></th>\n",
        "      <th>Week</th>\n",
        "      <th>ILI</th>\n",
        "      <th>Queries</th>\n",
        "      <th>ILILag2</th>\n",
        "      <th>ILILag2log</th>\n",
        "    </tr>\n",
        "  </thead>\n",
        "  <tbody>\n",
        "    <tr>\n",
        "      <th>0</th>\n",
        "      <td> 2012-01-01 - 2012-01-07</td>\n",
        "      <td> 1.766707</td>\n",
        "      <td> 0.593625</td>\n",
        "      <td> 1.852736</td>\n",
        "      <td> 0.616663</td>\n",
        "    </tr>\n",
        "    <tr>\n",
        "      <th>1</th>\n",
        "      <td> 2012-01-08 - 2012-01-14</td>\n",
        "      <td> 1.543401</td>\n",
        "      <td> 0.499336</td>\n",
        "      <td> 2.124130</td>\n",
        "      <td> 0.753362</td>\n",
        "    </tr>\n",
        "    <tr>\n",
        "      <th>2</th>\n",
        "      <td> 2012-01-15 - 2012-01-21</td>\n",
        "      <td> 1.647615</td>\n",
        "      <td> 0.500664</td>\n",
        "      <td> 1.766707</td>\n",
        "      <td> 0.569117</td>\n",
        "    </tr>\n",
        "    <tr>\n",
        "      <th>3</th>\n",
        "      <td> 2012-01-22 - 2012-01-28</td>\n",
        "      <td> 1.684297</td>\n",
        "      <td> 0.479416</td>\n",
        "      <td> 1.543401</td>\n",
        "      <td> 0.433988</td>\n",
        "    </tr>\n",
        "    <tr>\n",
        "      <th>4</th>\n",
        "      <td> 2012-01-29 - 2012-02-04</td>\n",
        "      <td> 1.863542</td>\n",
        "      <td> 0.471448</td>\n",
        "      <td> 1.647615</td>\n",
        "      <td> 0.499329</td>\n",
        "    </tr>\n",
        "  </tbody>\n",
        "</table>\n",
        "<p>5 rows \u00d7 5 columns</p>\n",
        "</div>"
       ],
       "metadata": {},
       "output_type": "pyout",
       "prompt_number": 140,
       "text": [
        "                      Week       ILI   Queries   ILILag2  ILILag2log\n",
        "0  2012-01-01 - 2012-01-07  1.766707  0.593625  1.852736    0.616663\n",
        "1  2012-01-08 - 2012-01-14  1.543401  0.499336  2.124130    0.753362\n",
        "2  2012-01-15 - 2012-01-21  1.647615  0.500664  1.766707    0.569117\n",
        "3  2012-01-22 - 2012-01-28  1.684297  0.479416  1.543401    0.433988\n",
        "4  2012-01-29 - 2012-02-04  1.863542  0.471448  1.647615    0.499329\n",
        "\n",
        "[5 rows x 5 columns]"
       ]
      }
     ],
     "prompt_number": 140
    },
    {
     "cell_type": "code",
     "collapsed": false,
     "input": [
      "# Find the predictions for this model\n",
      "pred_test2 = np.exp(flu_model2.predict(flu_test))"
     ],
     "language": "python",
     "metadata": {},
     "outputs": [
      {
       "metadata": {},
       "output_type": "pyout",
       "prompt_number": 141,
       "text": [
        "array([ 2.48223609,  2.41182911,  2.14094133,  1.90781698,  1.97150421,\n",
        "        2.08185523,  2.25446142,  2.21759508,  2.22340651,  2.27594855,\n",
        "        2.19925404,  2.02864278,  2.14304551,  1.87407834,  1.78970606,\n",
        "        1.67067225,  1.51518736,  1.42573209,  1.31535673,  1.40518286,\n",
        "        1.32591934,  1.27509916,  1.29916457,  1.27901346,  1.20507521,\n",
        "        1.12043074,  1.11714401,  1.15324474,  1.10275554,  1.02599825,\n",
        "        1.00355003,  1.01889821,  1.06815075,  1.07327643,  1.08525771,\n",
        "        1.22059186,  1.27490064,  1.43785958,  1.51712663,  1.58716503,\n",
        "        1.63843224,  1.56279488,  1.67143269,  1.7206903 ,  1.73606894,\n",
        "        1.96630043,  2.04226036,  2.42414062,  3.16028257,  3.22068038,\n",
        "        4.32251275,  5.00643775])"
       ]
      }
     ],
     "prompt_number": 141
    },
    {
     "cell_type": "code",
     "collapsed": false,
     "input": [
      "# Find RMSE for this model\n",
      "SSE2 = ((flu_test['ILI'] - pred_test2)**2).mean()\n",
      "math.sqrt(SSE2)"
     ],
     "language": "python",
     "metadata": {},
     "outputs": [
      {
       "metadata": {},
       "output_type": "pyout",
       "prompt_number": 143,
       "text": [
        "0.2942028535866688"
       ]
      }
     ],
     "prompt_number": 143
    },
    {
     "cell_type": "code",
     "collapsed": false,
     "input": [],
     "language": "python",
     "metadata": {},
     "outputs": []
    }
   ],
   "metadata": {}
  }
 ]
}