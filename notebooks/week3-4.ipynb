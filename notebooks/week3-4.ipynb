{
 "metadata": {
  "name": ""
 },
 "nbformat": 3,
 "nbformat_minor": 0,
 "worksheets": [
  {
   "cells": [
    {
     "cell_type": "code",
     "collapsed": false,
     "input": [
      "# Analytics Edge course from MITx on EdX.org\n",
      "# Week 3 - Part 4\n",
      "# Analysis of lending data from LendingClub.com\n",
      "from pandas import DataFrame, read_csv\n",
      "import pandas as pd\n",
      "import matplotlib.pyplot as plt\n",
      "import pylab as ply\n",
      "import numpy as np\n",
      "import statsmodels.api as sm\n",
      "from statsmodels.formula.api import logit, glm\n",
      "from sklearn.cross_validation import train_test_split\n",
      "%matplotlib inline"
     ],
     "language": "python",
     "metadata": {},
     "outputs": [],
     "prompt_number": 2
    },
    {
     "cell_type": "code",
     "collapsed": false,
     "input": [
      "# Read dataset into a dataframe\n",
      "file_path = r'../csvs/loans.csv'\n",
      "loans = read_csv(file_path)\n",
      "loans.shape"
     ],
     "language": "python",
     "metadata": {},
     "outputs": [
      {
       "metadata": {},
       "output_type": "pyout",
       "prompt_number": 3,
       "text": [
        "(9578, 14)"
       ]
      }
     ],
     "prompt_number": 3
    },
    {
     "cell_type": "code",
     "collapsed": false,
     "input": [
      "loans.head()"
     ],
     "language": "python",
     "metadata": {},
     "outputs": [
      {
       "html": [
        "<div style=\"max-height:1000px;max-width:1500px;overflow:auto;\">\n",
        "<table border=\"1\" class=\"dataframe\">\n",
        "  <thead>\n",
        "    <tr style=\"text-align: right;\">\n",
        "      <th></th>\n",
        "      <th>credit.policy</th>\n",
        "      <th>purpose</th>\n",
        "      <th>int.rate</th>\n",
        "      <th>installment</th>\n",
        "      <th>log.annual.inc</th>\n",
        "      <th>dti</th>\n",
        "      <th>fico</th>\n",
        "      <th>days.with.cr.line</th>\n",
        "      <th>revol.bal</th>\n",
        "      <th>revol.util</th>\n",
        "      <th>inq.last.6mths</th>\n",
        "      <th>delinq.2yrs</th>\n",
        "      <th>pub.rec</th>\n",
        "      <th>not.fully.paid</th>\n",
        "    </tr>\n",
        "  </thead>\n",
        "  <tbody>\n",
        "    <tr>\n",
        "      <th>0</th>\n",
        "      <td> 1</td>\n",
        "      <td> debt_consolidation</td>\n",
        "      <td> 0.1189</td>\n",
        "      <td> 829.10</td>\n",
        "      <td> 11.350407</td>\n",
        "      <td> 19.48</td>\n",
        "      <td> 737</td>\n",
        "      <td> 5639.958333</td>\n",
        "      <td> 28854</td>\n",
        "      <td> 52.1</td>\n",
        "      <td> 0</td>\n",
        "      <td> 0</td>\n",
        "      <td> 0</td>\n",
        "      <td> 0</td>\n",
        "    </tr>\n",
        "    <tr>\n",
        "      <th>1</th>\n",
        "      <td> 1</td>\n",
        "      <td>        credit_card</td>\n",
        "      <td> 0.1071</td>\n",
        "      <td> 228.22</td>\n",
        "      <td> 11.082143</td>\n",
        "      <td> 14.29</td>\n",
        "      <td> 707</td>\n",
        "      <td> 2760.000000</td>\n",
        "      <td> 33623</td>\n",
        "      <td> 76.7</td>\n",
        "      <td> 0</td>\n",
        "      <td> 0</td>\n",
        "      <td> 0</td>\n",
        "      <td> 0</td>\n",
        "    </tr>\n",
        "    <tr>\n",
        "      <th>2</th>\n",
        "      <td> 1</td>\n",
        "      <td> debt_consolidation</td>\n",
        "      <td> 0.1357</td>\n",
        "      <td> 366.86</td>\n",
        "      <td> 10.373491</td>\n",
        "      <td> 11.63</td>\n",
        "      <td> 682</td>\n",
        "      <td> 4710.000000</td>\n",
        "      <td>  3511</td>\n",
        "      <td> 25.6</td>\n",
        "      <td> 1</td>\n",
        "      <td> 0</td>\n",
        "      <td> 0</td>\n",
        "      <td> 0</td>\n",
        "    </tr>\n",
        "    <tr>\n",
        "      <th>3</th>\n",
        "      <td> 1</td>\n",
        "      <td> debt_consolidation</td>\n",
        "      <td> 0.1008</td>\n",
        "      <td> 162.34</td>\n",
        "      <td> 11.350407</td>\n",
        "      <td>  8.10</td>\n",
        "      <td> 712</td>\n",
        "      <td> 2699.958333</td>\n",
        "      <td> 33667</td>\n",
        "      <td> 73.2</td>\n",
        "      <td> 1</td>\n",
        "      <td> 0</td>\n",
        "      <td> 0</td>\n",
        "      <td> 0</td>\n",
        "    </tr>\n",
        "    <tr>\n",
        "      <th>4</th>\n",
        "      <td> 1</td>\n",
        "      <td>        credit_card</td>\n",
        "      <td> 0.1426</td>\n",
        "      <td> 102.92</td>\n",
        "      <td> 11.299732</td>\n",
        "      <td> 14.97</td>\n",
        "      <td> 667</td>\n",
        "      <td> 4066.000000</td>\n",
        "      <td>  4740</td>\n",
        "      <td> 39.5</td>\n",
        "      <td> 0</td>\n",
        "      <td> 1</td>\n",
        "      <td> 0</td>\n",
        "      <td> 0</td>\n",
        "    </tr>\n",
        "  </tbody>\n",
        "</table>\n",
        "<p>5 rows \u00d7 14 columns</p>\n",
        "</div>"
       ],
       "metadata": {},
       "output_type": "pyout",
       "prompt_number": 4,
       "text": [
        "   credit.policy             purpose  int.rate  installment  log.annual.inc  \\\n",
        "0              1  debt_consolidation    0.1189       829.10       11.350407   \n",
        "1              1         credit_card    0.1071       228.22       11.082143   \n",
        "2              1  debt_consolidation    0.1357       366.86       10.373491   \n",
        "3              1  debt_consolidation    0.1008       162.34       11.350407   \n",
        "4              1         credit_card    0.1426       102.92       11.299732   \n",
        "\n",
        "     dti  fico  days.with.cr.line  revol.bal  revol.util  inq.last.6mths  \\\n",
        "0  19.48   737        5639.958333      28854        52.1               0   \n",
        "1  14.29   707        2760.000000      33623        76.7               0   \n",
        "2  11.63   682        4710.000000       3511        25.6               1   \n",
        "3   8.10   712        2699.958333      33667        73.2               1   \n",
        "4  14.97   667        4066.000000       4740        39.5               0   \n",
        "\n",
        "   delinq.2yrs  pub.rec  not.fully.paid  \n",
        "0            0        0               0  \n",
        "1            0        0               0  \n",
        "2            0        0               0  \n",
        "3            0        0               0  \n",
        "4            1        0               0  \n",
        "\n",
        "[5 rows x 14 columns]"
       ]
      }
     ],
     "prompt_number": 4
    },
    {
     "cell_type": "code",
     "collapsed": false,
     "input": [
      "percent_of_loans_not_fully_paid = loans['not.fully.paid'].mean()\n",
      "percent_of_loans_not_fully_paid"
     ],
     "language": "python",
     "metadata": {},
     "outputs": [
      {
       "metadata": {},
       "output_type": "pyout",
       "prompt_number": 5,
       "text": [
        "0.16005429108373356"
       ]
      }
     ],
     "prompt_number": 5
    },
    {
     "cell_type": "code",
     "collapsed": false,
     "input": [
      "# Find which data columns are missing data values (NaN)\n",
      "def nan_column_finder(df, columns):\n",
      "    counts = {}\n",
      "    for col in columns:\n",
      "        nan_sum = pd.isnull(df[col]).sum()\n",
      "        if nan_sum > 0:\n",
      "            counts[col] = nan_sum\n",
      "    return counts    "
     ],
     "language": "python",
     "metadata": {},
     "outputs": [],
     "prompt_number": 6
    },
    {
     "cell_type": "code",
     "collapsed": false,
     "input": [
      "# NaN columns\n",
      "with_nans = nan_column_finder(loans, loans.columns)\n",
      "print with_nans.keys()"
     ],
     "language": "python",
     "metadata": {},
     "outputs": [
      {
       "output_type": "stream",
       "stream": "stdout",
       "text": [
        "['delinq.2yrs', 'revol.util', 'inq.last.6mths', 'log.annual.inc', 'pub.rec', 'days.with.cr.line']\n"
       ]
      }
     ],
     "prompt_number": 7
    },
    {
     "cell_type": "code",
     "collapsed": false,
     "input": [
      "print with_nans"
     ],
     "language": "python",
     "metadata": {},
     "outputs": [
      {
       "output_type": "stream",
       "stream": "stdout",
       "text": [
        "{'delinq.2yrs': 29, 'revol.util': 62, 'inq.last.6mths': 29, 'log.annual.inc': 4, 'pub.rec': 29, 'days.with.cr.line': 29}\n"
       ]
      }
     ],
     "prompt_number": 8
    },
    {
     "cell_type": "code",
     "collapsed": false,
     "input": [],
     "language": "python",
     "metadata": {},
     "outputs": [],
     "prompt_number": 8
    }
   ],
   "metadata": {}
  }
 ]
}