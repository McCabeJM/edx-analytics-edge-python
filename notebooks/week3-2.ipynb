{
 "metadata": {
  "name": ""
 },
 "nbformat": 3,
 "nbformat_minor": 0,
 "worksheets": [
  {
   "cells": [
    {
     "cell_type": "code",
     "collapsed": false,
     "input": [
      "# Analytics Edge course from MITx on EdX.org\n",
      "# Week 3 - Part 2\n",
      "# Analysis of baseball data from BaseballReference.com\n",
      "from pandas import DataFrame, read_csv\n",
      "import pandas as pd\n",
      "import matplotlib.pyplot as plt\n",
      "import pylab as ply\n",
      "import numpy as np\n",
      "import statsmodels.api as sm\n",
      "from statsmodels.formula.api import logit, glm\n",
      "%matplotlib inline"
     ],
     "language": "python",
     "metadata": {},
     "outputs": [],
     "prompt_number": 108
    },
    {
     "cell_type": "code",
     "collapsed": false,
     "input": [
      "# Read the dataset into a dataframe\n",
      "file_path = r'../csvs/baseball.csv'\n",
      "baseball = read_csv(file_path)\n",
      "print baseball.shape\n",
      "baseball.head()"
     ],
     "language": "python",
     "metadata": {},
     "outputs": [
      {
       "output_type": "stream",
       "stream": "stdout",
       "text": [
        "(1232, 15)\n"
       ]
      },
      {
       "html": [
        "<div style=\"max-height:1000px;max-width:1500px;overflow:auto;\">\n",
        "<table border=\"1\" class=\"dataframe\">\n",
        "  <thead>\n",
        "    <tr style=\"text-align: right;\">\n",
        "      <th></th>\n",
        "      <th>Team</th>\n",
        "      <th>League</th>\n",
        "      <th>Year</th>\n",
        "      <th>RS</th>\n",
        "      <th>RA</th>\n",
        "      <th>W</th>\n",
        "      <th>OBP</th>\n",
        "      <th>SLG</th>\n",
        "      <th>BA</th>\n",
        "      <th>Playoffs</th>\n",
        "      <th>RankSeason</th>\n",
        "      <th>RankPlayoffs</th>\n",
        "      <th>G</th>\n",
        "      <th>OOBP</th>\n",
        "      <th>OSLG</th>\n",
        "    </tr>\n",
        "  </thead>\n",
        "  <tbody>\n",
        "    <tr>\n",
        "      <th>0</th>\n",
        "      <td> ARI</td>\n",
        "      <td> NL</td>\n",
        "      <td> 2012</td>\n",
        "      <td> 734</td>\n",
        "      <td> 688</td>\n",
        "      <td> 81</td>\n",
        "      <td> 0.328</td>\n",
        "      <td> 0.418</td>\n",
        "      <td> 0.259</td>\n",
        "      <td> 0</td>\n",
        "      <td>NaN</td>\n",
        "      <td>NaN</td>\n",
        "      <td> 162</td>\n",
        "      <td> 0.317</td>\n",
        "      <td> 0.415</td>\n",
        "    </tr>\n",
        "    <tr>\n",
        "      <th>1</th>\n",
        "      <td> ATL</td>\n",
        "      <td> NL</td>\n",
        "      <td> 2012</td>\n",
        "      <td> 700</td>\n",
        "      <td> 600</td>\n",
        "      <td> 94</td>\n",
        "      <td> 0.320</td>\n",
        "      <td> 0.389</td>\n",
        "      <td> 0.247</td>\n",
        "      <td> 1</td>\n",
        "      <td>  4</td>\n",
        "      <td>  5</td>\n",
        "      <td> 162</td>\n",
        "      <td> 0.306</td>\n",
        "      <td> 0.378</td>\n",
        "    </tr>\n",
        "    <tr>\n",
        "      <th>2</th>\n",
        "      <td> BAL</td>\n",
        "      <td> AL</td>\n",
        "      <td> 2012</td>\n",
        "      <td> 712</td>\n",
        "      <td> 705</td>\n",
        "      <td> 93</td>\n",
        "      <td> 0.311</td>\n",
        "      <td> 0.417</td>\n",
        "      <td> 0.247</td>\n",
        "      <td> 1</td>\n",
        "      <td>  5</td>\n",
        "      <td>  4</td>\n",
        "      <td> 162</td>\n",
        "      <td> 0.315</td>\n",
        "      <td> 0.403</td>\n",
        "    </tr>\n",
        "    <tr>\n",
        "      <th>3</th>\n",
        "      <td> BOS</td>\n",
        "      <td> AL</td>\n",
        "      <td> 2012</td>\n",
        "      <td> 734</td>\n",
        "      <td> 806</td>\n",
        "      <td> 69</td>\n",
        "      <td> 0.315</td>\n",
        "      <td> 0.415</td>\n",
        "      <td> 0.260</td>\n",
        "      <td> 0</td>\n",
        "      <td>NaN</td>\n",
        "      <td>NaN</td>\n",
        "      <td> 162</td>\n",
        "      <td> 0.331</td>\n",
        "      <td> 0.428</td>\n",
        "    </tr>\n",
        "    <tr>\n",
        "      <th>4</th>\n",
        "      <td> CHC</td>\n",
        "      <td> NL</td>\n",
        "      <td> 2012</td>\n",
        "      <td> 613</td>\n",
        "      <td> 759</td>\n",
        "      <td> 61</td>\n",
        "      <td> 0.302</td>\n",
        "      <td> 0.378</td>\n",
        "      <td> 0.240</td>\n",
        "      <td> 0</td>\n",
        "      <td>NaN</td>\n",
        "      <td>NaN</td>\n",
        "      <td> 162</td>\n",
        "      <td> 0.335</td>\n",
        "      <td> 0.424</td>\n",
        "    </tr>\n",
        "  </tbody>\n",
        "</table>\n",
        "<p>5 rows \u00d7 15 columns</p>\n",
        "</div>"
       ],
       "metadata": {},
       "output_type": "pyout",
       "prompt_number": 109,
       "text": [
        "  Team League  Year   RS   RA   W    OBP    SLG     BA  Playoffs  RankSeason  \\\n",
        "0  ARI     NL  2012  734  688  81  0.328  0.418  0.259         0         NaN   \n",
        "1  ATL     NL  2012  700  600  94  0.320  0.389  0.247         1           4   \n",
        "2  BAL     AL  2012  712  705  93  0.311  0.417  0.247         1           5   \n",
        "3  BOS     AL  2012  734  806  69  0.315  0.415  0.260         0         NaN   \n",
        "4  CHC     NL  2012  613  759  61  0.302  0.378  0.240         0         NaN   \n",
        "\n",
        "   RankPlayoffs    G   OOBP   OSLG  \n",
        "0           NaN  162  0.317  0.415  \n",
        "1             5  162  0.306  0.378  \n",
        "2             4  162  0.315  0.403  \n",
        "3           NaN  162  0.331  0.428  \n",
        "4           NaN  162  0.335  0.424  \n",
        "\n",
        "[5 rows x 15 columns]"
       ]
      }
     ],
     "prompt_number": 109
    },
    {
     "cell_type": "code",
     "collapsed": false,
     "input": [
      "# Find the total number of years in the data set\n",
      "total_years = len(baseball['Year'].unique())\n",
      "total_years"
     ],
     "language": "python",
     "metadata": {},
     "outputs": [
      {
       "metadata": {},
       "output_type": "pyout",
       "prompt_number": 110,
       "text": [
        "47"
       ]
      }
     ],
     "prompt_number": 110
    },
    {
     "cell_type": "code",
     "collapsed": false,
     "input": [
      "# Limit the baseball dataframe to teams that made the playoffs\n",
      "#baseball = baseball[baseball['Playoffs'] == 1]\n",
      "baseball = baseball.query('Playoffs == 1')\n",
      "baseball.shape"
     ],
     "language": "python",
     "metadata": {},
     "outputs": [
      {
       "metadata": {},
       "output_type": "pyout",
       "prompt_number": 111,
       "text": [
        "(244, 15)"
       ]
      }
     ],
     "prompt_number": 111
    },
    {
     "cell_type": "code",
     "collapsed": false,
     "input": [
      "# Find how many teams have been invited to the playoffs for each year\n",
      "PlayoffTable = baseball.groupby('Year').size()\n",
      "PlayoffTable.ix[1962]"
     ],
     "language": "python",
     "metadata": {},
     "outputs": [
      {
       "metadata": {},
       "output_type": "pyout",
       "prompt_number": 112,
       "text": [
        "2"
       ]
      }
     ],
     "prompt_number": 112
    },
    {
     "cell_type": "code",
     "collapsed": false,
     "input": [
      "# Find how many teams went to the playoffs in 1990 and 2001\n",
      "PlayoffTable.ix[[1990, 2001]]"
     ],
     "language": "python",
     "metadata": {},
     "outputs": [
      {
       "metadata": {},
       "output_type": "pyout",
       "prompt_number": 113,
       "text": [
        "1990    4\n",
        "2001    8\n",
        "dtype: int64"
       ]
      }
     ],
     "prompt_number": 113
    },
    {
     "cell_type": "code",
     "collapsed": false,
     "input": [
      "# Add new column varibale to baseball datafram\n",
      "# New column variable will be NumCompetitors, \n",
      "# which is the number of playoff teams in that given year\n",
      "PlayoffTable = dict(PlayoffTable)\n",
      "baseball['NumCompetitors'] = np.nan\n",
      "def freq_column_adder(df, freq_table, col_compare, col_name):\n",
      "    for i in list(df[col_compare].index):\n",
      "        df_item = df[col_compare][i]\n",
      "        df[col_name][i] = freq_table[df_item]"
     ],
     "language": "python",
     "metadata": {},
     "outputs": [],
     "prompt_number": 114
    },
    {
     "cell_type": "code",
     "collapsed": false,
     "input": [
      "freq_column_adder(baseball, PlayoffTable, 'Year', 'NumCompetitors')"
     ],
     "language": "python",
     "metadata": {},
     "outputs": [],
     "prompt_number": 115
    },
    {
     "cell_type": "code",
     "collapsed": false,
     "input": [
      "# Check that it worked\n",
      "baseball.head()"
     ],
     "language": "python",
     "metadata": {},
     "outputs": [
      {
       "html": [
        "<div style=\"max-height:1000px;max-width:1500px;overflow:auto;\">\n",
        "<table border=\"1\" class=\"dataframe\">\n",
        "  <thead>\n",
        "    <tr style=\"text-align: right;\">\n",
        "      <th></th>\n",
        "      <th>Team</th>\n",
        "      <th>League</th>\n",
        "      <th>Year</th>\n",
        "      <th>RS</th>\n",
        "      <th>RA</th>\n",
        "      <th>W</th>\n",
        "      <th>OBP</th>\n",
        "      <th>SLG</th>\n",
        "      <th>BA</th>\n",
        "      <th>Playoffs</th>\n",
        "      <th>RankSeason</th>\n",
        "      <th>RankPlayoffs</th>\n",
        "      <th>G</th>\n",
        "      <th>OOBP</th>\n",
        "      <th>OSLG</th>\n",
        "      <th>NumCompetitors</th>\n",
        "    </tr>\n",
        "  </thead>\n",
        "  <tbody>\n",
        "    <tr>\n",
        "      <th>1 </th>\n",
        "      <td> ATL</td>\n",
        "      <td> NL</td>\n",
        "      <td> 2012</td>\n",
        "      <td> 700</td>\n",
        "      <td> 600</td>\n",
        "      <td> 94</td>\n",
        "      <td> 0.320</td>\n",
        "      <td> 0.389</td>\n",
        "      <td> 0.247</td>\n",
        "      <td> 1</td>\n",
        "      <td> 4</td>\n",
        "      <td> 5</td>\n",
        "      <td> 162</td>\n",
        "      <td> 0.306</td>\n",
        "      <td> 0.378</td>\n",
        "      <td> 10</td>\n",
        "    </tr>\n",
        "    <tr>\n",
        "      <th>2 </th>\n",
        "      <td> BAL</td>\n",
        "      <td> AL</td>\n",
        "      <td> 2012</td>\n",
        "      <td> 712</td>\n",
        "      <td> 705</td>\n",
        "      <td> 93</td>\n",
        "      <td> 0.311</td>\n",
        "      <td> 0.417</td>\n",
        "      <td> 0.247</td>\n",
        "      <td> 1</td>\n",
        "      <td> 5</td>\n",
        "      <td> 4</td>\n",
        "      <td> 162</td>\n",
        "      <td> 0.315</td>\n",
        "      <td> 0.403</td>\n",
        "      <td> 10</td>\n",
        "    </tr>\n",
        "    <tr>\n",
        "      <th>6 </th>\n",
        "      <td> CIN</td>\n",
        "      <td> NL</td>\n",
        "      <td> 2012</td>\n",
        "      <td> 669</td>\n",
        "      <td> 588</td>\n",
        "      <td> 97</td>\n",
        "      <td> 0.315</td>\n",
        "      <td> 0.411</td>\n",
        "      <td> 0.251</td>\n",
        "      <td> 1</td>\n",
        "      <td> 2</td>\n",
        "      <td> 4</td>\n",
        "      <td> 162</td>\n",
        "      <td> 0.305</td>\n",
        "      <td> 0.390</td>\n",
        "      <td> 10</td>\n",
        "    </tr>\n",
        "    <tr>\n",
        "      <th>9 </th>\n",
        "      <td> DET</td>\n",
        "      <td> AL</td>\n",
        "      <td> 2012</td>\n",
        "      <td> 726</td>\n",
        "      <td> 670</td>\n",
        "      <td> 88</td>\n",
        "      <td> 0.335</td>\n",
        "      <td> 0.422</td>\n",
        "      <td> 0.268</td>\n",
        "      <td> 1</td>\n",
        "      <td> 6</td>\n",
        "      <td> 2</td>\n",
        "      <td> 162</td>\n",
        "      <td> 0.314</td>\n",
        "      <td> 0.402</td>\n",
        "      <td> 10</td>\n",
        "    </tr>\n",
        "    <tr>\n",
        "      <th>18</th>\n",
        "      <td> NYY</td>\n",
        "      <td> AL</td>\n",
        "      <td> 2012</td>\n",
        "      <td> 804</td>\n",
        "      <td> 668</td>\n",
        "      <td> 95</td>\n",
        "      <td> 0.337</td>\n",
        "      <td> 0.453</td>\n",
        "      <td> 0.265</td>\n",
        "      <td> 1</td>\n",
        "      <td> 3</td>\n",
        "      <td> 3</td>\n",
        "      <td> 162</td>\n",
        "      <td> 0.311</td>\n",
        "      <td> 0.419</td>\n",
        "      <td> 10</td>\n",
        "    </tr>\n",
        "  </tbody>\n",
        "</table>\n",
        "<p>5 rows \u00d7 16 columns</p>\n",
        "</div>"
       ],
       "metadata": {},
       "output_type": "pyout",
       "prompt_number": 116,
       "text": [
        "   Team League  Year   RS   RA   W    OBP    SLG     BA  Playoffs  RankSeason  \\\n",
        "1   ATL     NL  2012  700  600  94  0.320  0.389  0.247         1           4   \n",
        "2   BAL     AL  2012  712  705  93  0.311  0.417  0.247         1           5   \n",
        "6   CIN     NL  2012  669  588  97  0.315  0.411  0.251         1           2   \n",
        "9   DET     AL  2012  726  670  88  0.335  0.422  0.268         1           6   \n",
        "18  NYY     AL  2012  804  668  95  0.337  0.453  0.265         1           3   \n",
        "\n",
        "    RankPlayoffs    G   OOBP   OSLG  NumCompetitors  \n",
        "1              5  162  0.306  0.378              10  \n",
        "2              4  162  0.315  0.403              10  \n",
        "6              4  162  0.305  0.390              10  \n",
        "9              2  162  0.314  0.402              10  \n",
        "18             3  162  0.311  0.419              10  \n",
        "\n",
        "[5 rows x 16 columns]"
       ]
      }
     ],
     "prompt_number": 116
    },
    {
     "cell_type": "code",
     "collapsed": false,
     "input": [
      "eight_team_playoffs = baseball[baseball['NumCompetitors'] == 8]\n",
      "eight_team_playoffs.shape"
     ],
     "language": "python",
     "metadata": {},
     "outputs": [
      {
       "metadata": {},
       "output_type": "pyout",
       "prompt_number": 117,
       "text": [
        "(128, 16)"
       ]
      }
     ],
     "prompt_number": 117
    },
    {
     "cell_type": "code",
     "collapsed": false,
     "input": [
      "# Add column which denotes whether a team won the World Series\n",
      "# In Python True == 1 and False == 0\n",
      "baseball['WorldSeries'] = baseball['RankPlayoffs'] == 1\n",
      "baseball.head()"
     ],
     "language": "python",
     "metadata": {},
     "outputs": [
      {
       "html": [
        "<div style=\"max-height:1000px;max-width:1500px;overflow:auto;\">\n",
        "<table border=\"1\" class=\"dataframe\">\n",
        "  <thead>\n",
        "    <tr style=\"text-align: right;\">\n",
        "      <th></th>\n",
        "      <th>Team</th>\n",
        "      <th>League</th>\n",
        "      <th>Year</th>\n",
        "      <th>RS</th>\n",
        "      <th>RA</th>\n",
        "      <th>W</th>\n",
        "      <th>OBP</th>\n",
        "      <th>SLG</th>\n",
        "      <th>BA</th>\n",
        "      <th>Playoffs</th>\n",
        "      <th>RankSeason</th>\n",
        "      <th>RankPlayoffs</th>\n",
        "      <th>G</th>\n",
        "      <th>OOBP</th>\n",
        "      <th>OSLG</th>\n",
        "      <th>NumCompetitors</th>\n",
        "      <th>WorldSeries</th>\n",
        "    </tr>\n",
        "  </thead>\n",
        "  <tbody>\n",
        "    <tr>\n",
        "      <th>1 </th>\n",
        "      <td> ATL</td>\n",
        "      <td> NL</td>\n",
        "      <td> 2012</td>\n",
        "      <td> 700</td>\n",
        "      <td> 600</td>\n",
        "      <td> 94</td>\n",
        "      <td> 0.320</td>\n",
        "      <td> 0.389</td>\n",
        "      <td> 0.247</td>\n",
        "      <td> 1</td>\n",
        "      <td> 4</td>\n",
        "      <td> 5</td>\n",
        "      <td> 162</td>\n",
        "      <td> 0.306</td>\n",
        "      <td> 0.378</td>\n",
        "      <td> 10</td>\n",
        "      <td> False</td>\n",
        "    </tr>\n",
        "    <tr>\n",
        "      <th>2 </th>\n",
        "      <td> BAL</td>\n",
        "      <td> AL</td>\n",
        "      <td> 2012</td>\n",
        "      <td> 712</td>\n",
        "      <td> 705</td>\n",
        "      <td> 93</td>\n",
        "      <td> 0.311</td>\n",
        "      <td> 0.417</td>\n",
        "      <td> 0.247</td>\n",
        "      <td> 1</td>\n",
        "      <td> 5</td>\n",
        "      <td> 4</td>\n",
        "      <td> 162</td>\n",
        "      <td> 0.315</td>\n",
        "      <td> 0.403</td>\n",
        "      <td> 10</td>\n",
        "      <td> False</td>\n",
        "    </tr>\n",
        "    <tr>\n",
        "      <th>6 </th>\n",
        "      <td> CIN</td>\n",
        "      <td> NL</td>\n",
        "      <td> 2012</td>\n",
        "      <td> 669</td>\n",
        "      <td> 588</td>\n",
        "      <td> 97</td>\n",
        "      <td> 0.315</td>\n",
        "      <td> 0.411</td>\n",
        "      <td> 0.251</td>\n",
        "      <td> 1</td>\n",
        "      <td> 2</td>\n",
        "      <td> 4</td>\n",
        "      <td> 162</td>\n",
        "      <td> 0.305</td>\n",
        "      <td> 0.390</td>\n",
        "      <td> 10</td>\n",
        "      <td> False</td>\n",
        "    </tr>\n",
        "    <tr>\n",
        "      <th>9 </th>\n",
        "      <td> DET</td>\n",
        "      <td> AL</td>\n",
        "      <td> 2012</td>\n",
        "      <td> 726</td>\n",
        "      <td> 670</td>\n",
        "      <td> 88</td>\n",
        "      <td> 0.335</td>\n",
        "      <td> 0.422</td>\n",
        "      <td> 0.268</td>\n",
        "      <td> 1</td>\n",
        "      <td> 6</td>\n",
        "      <td> 2</td>\n",
        "      <td> 162</td>\n",
        "      <td> 0.314</td>\n",
        "      <td> 0.402</td>\n",
        "      <td> 10</td>\n",
        "      <td> False</td>\n",
        "    </tr>\n",
        "    <tr>\n",
        "      <th>18</th>\n",
        "      <td> NYY</td>\n",
        "      <td> AL</td>\n",
        "      <td> 2012</td>\n",
        "      <td> 804</td>\n",
        "      <td> 668</td>\n",
        "      <td> 95</td>\n",
        "      <td> 0.337</td>\n",
        "      <td> 0.453</td>\n",
        "      <td> 0.265</td>\n",
        "      <td> 1</td>\n",
        "      <td> 3</td>\n",
        "      <td> 3</td>\n",
        "      <td> 162</td>\n",
        "      <td> 0.311</td>\n",
        "      <td> 0.419</td>\n",
        "      <td> 10</td>\n",
        "      <td> False</td>\n",
        "    </tr>\n",
        "  </tbody>\n",
        "</table>\n",
        "<p>5 rows \u00d7 17 columns</p>\n",
        "</div>"
       ],
       "metadata": {},
       "output_type": "pyout",
       "prompt_number": 118,
       "text": [
        "   Team League  Year   RS   RA   W    OBP    SLG     BA  Playoffs  RankSeason  \\\n",
        "1   ATL     NL  2012  700  600  94  0.320  0.389  0.247         1           4   \n",
        "2   BAL     AL  2012  712  705  93  0.311  0.417  0.247         1           5   \n",
        "6   CIN     NL  2012  669  588  97  0.315  0.411  0.251         1           2   \n",
        "9   DET     AL  2012  726  670  88  0.335  0.422  0.268         1           6   \n",
        "18  NYY     AL  2012  804  668  95  0.337  0.453  0.265         1           3   \n",
        "\n",
        "    RankPlayoffs    G   OOBP   OSLG  NumCompetitors WorldSeries  \n",
        "1              5  162  0.306  0.378              10       False  \n",
        "2              4  162  0.315  0.403              10       False  \n",
        "6              4  162  0.305  0.390              10       False  \n",
        "9              2  162  0.314  0.402              10       False  \n",
        "18             3  162  0.311  0.419              10       False  \n",
        "\n",
        "[5 rows x 17 columns]"
       ]
      }
     ],
     "prompt_number": 118
    },
    {
     "cell_type": "code",
     "collapsed": false,
     "input": [
      "world_series_losers = baseball[baseball['WorldSeries'] == 0]\n",
      "world_series_losers.shape"
     ],
     "language": "python",
     "metadata": {},
     "outputs": [
      {
       "metadata": {},
       "output_type": "pyout",
       "prompt_number": 119,
       "text": [
        "(197, 17)"
       ]
      }
     ],
     "prompt_number": 119
    },
    {
     "cell_type": "code",
     "collapsed": false,
     "input": [
      "log1 = glm(formula='WorldSeries ~ Year', data=baseball, \n",
      "                   family = sm.families.Binomial(sm.families.links.logit)).fit()\n",
      "print log1.summary()\n",
      "print \"AIC for WorldSeries/Year model: \", log1.aic"
     ],
     "language": "python",
     "metadata": {},
     "outputs": [
      {
       "output_type": "stream",
       "stream": "stdout",
       "text": [
        "                              Generalized Linear Model Regression Results                              \n",
        "=======================================================================================================\n",
        "Dep. Variable:     ['WorldSeries[False]', 'WorldSeries[True]']   No. Observations:                  244\n",
        "Model:                                                     GLM   Df Residuals:                      242\n",
        "Model Family:                                         Binomial   Df Model:                            1\n",
        "Link Function:                                           logit   Scale:                             1.0\n",
        "Method:                                                   IRLS   Log-Likelihood:                -114.18\n",
        "Date:                                         Thu, 20 Mar 2014   Deviance:                       228.35\n",
        "Time:                                                 16:10:57   Pearson chi2:                     245.\n",
        "No. Iterations:                                              5                                         \n",
        "==============================================================================\n",
        "                 coef    std err          t      P>|t|      [95.0% Conf. Int.]\n",
        "------------------------------------------------------------------------------\n",
        "Intercept    -72.2360     22.644     -3.190      0.001      -116.618   -27.854\n",
        "Year           0.0370      0.011      3.250      0.001         0.015     0.059\n",
        "==============================================================================\n",
        "AIC for WorldSeries/Year model:  232.350842383\n"
       ]
      }
     ],
     "prompt_number": 143
    },
    {
     "cell_type": "code",
     "collapsed": false,
     "input": [
      "log2 = glm(formula='WorldSeries ~ RS', data=baseball, \n",
      "                   family = sm.families.Binomial(sm.families.links.logit)).fit()\n",
      "print log2.summary()"
     ],
     "language": "python",
     "metadata": {},
     "outputs": [
      {
       "output_type": "stream",
       "stream": "stdout",
       "text": [
        "                              Generalized Linear Model Regression Results                              \n",
        "=======================================================================================================\n",
        "Dep. Variable:     ['WorldSeries[False]', 'WorldSeries[True]']   No. Observations:                  244\n",
        "Model:                                                     GLM   Df Residuals:                      242\n",
        "Model Family:                                         Binomial   Df Model:                            1\n",
        "Link Function:                                           logit   Scale:                             1.0\n",
        "Method:                                                   IRLS   Log-Likelihood:                -118.73\n",
        "Date:                                         Thu, 20 Mar 2014   Deviance:                       237.45\n",
        "Time:                                                 15:43:17   Pearson chi2:                     245.\n",
        "No. Iterations:                                              5                                         \n",
        "==============================================================================\n",
        "                 coef    std err          t      P>|t|      [95.0% Conf. Int.]\n",
        "------------------------------------------------------------------------------\n",
        "Intercept     -0.6612      1.636     -0.404      0.686        -3.869     2.546\n",
        "RS             0.0027      0.002      1.278      0.201        -0.001     0.007\n",
        "==============================================================================\n"
       ]
      }
     ],
     "prompt_number": 121
    },
    {
     "cell_type": "code",
     "collapsed": false,
     "input": [
      "log3 = glm(formula='WorldSeries ~ RA', data=baseball, \n",
      "                   family = sm.families.Binomial(sm.families.links.logit)).fit()\n",
      "print log3.summary()\n",
      "print \"AIC for WorldSeries/RA model: \", log3.aic"
     ],
     "language": "python",
     "metadata": {},
     "outputs": [
      {
       "output_type": "stream",
       "stream": "stdout",
       "text": [
        "                              Generalized Linear Model Regression Results                              \n",
        "=======================================================================================================\n",
        "Dep. Variable:     ['WorldSeries[False]', 'WorldSeries[True]']   No. Observations:                  244\n",
        "Model:                                                     GLM   Df Residuals:                      242\n",
        "Model Family:                                         Binomial   Df Model:                            1\n",
        "Link Function:                                           logit   Scale:                             1.0\n",
        "Method:                                                   IRLS   Log-Likelihood:                -116.94\n",
        "Date:                                         Thu, 20 Mar 2014   Deviance:                       233.88\n",
        "Time:                                                 16:11:48   Pearson chi2:                     245.\n",
        "No. Iterations:                                              5                                         \n",
        "==============================================================================\n",
        "                 coef    std err          t      P>|t|      [95.0% Conf. Int.]\n",
        "------------------------------------------------------------------------------\n",
        "Intercept     -1.8882      1.484     -1.272      0.203        -4.796     1.020\n",
        "RA             0.0051      0.002      2.223      0.026         0.001     0.010\n",
        "==============================================================================\n",
        "AIC for WorldSeries/RA model:  237.88393243\n"
       ]
      }
     ],
     "prompt_number": 144
    },
    {
     "cell_type": "code",
     "collapsed": false,
     "input": [
      "log4 = glm(formula='WorldSeries ~ W', data=baseball, \n",
      "                   family = sm.families.Binomial(sm.families.links.logit)).fit()\n",
      "print log4.summary()"
     ],
     "language": "python",
     "metadata": {},
     "outputs": [
      {
       "output_type": "stream",
       "stream": "stdout",
       "text": [
        "                              Generalized Linear Model Regression Results                              \n",
        "=======================================================================================================\n",
        "Dep. Variable:     ['WorldSeries[False]', 'WorldSeries[True]']   No. Observations:                  244\n",
        "Model:                                                     GLM   Df Residuals:                      242\n",
        "Model Family:                                         Binomial   Df Model:                            1\n",
        "Link Function:                                           logit   Scale:                             1.0\n",
        "Method:                                                   IRLS   Log-Likelihood:                -117.76\n",
        "Date:                                         Thu, 20 Mar 2014   Deviance:                       235.51\n",
        "Time:                                                 15:43:18   Pearson chi2:                     245.\n",
        "No. Iterations:                                              5                                         \n",
        "==============================================================================\n",
        "                 coef    std err          t      P>|t|      [95.0% Conf. Int.]\n",
        "------------------------------------------------------------------------------\n",
        "Intercept      6.8557      2.876      2.384      0.017         1.218    12.493\n",
        "W             -0.0567      0.030     -1.898      0.058        -0.115     0.002\n",
        "==============================================================================\n"
       ]
      }
     ],
     "prompt_number": 123
    },
    {
     "cell_type": "code",
     "collapsed": false,
     "input": [
      "log5 = glm(formula='WorldSeries ~ OBP', data=baseball, \n",
      "                   family = sm.families.Binomial(sm.families.links.logit)).fit()\n",
      "print log5.summary()"
     ],
     "language": "python",
     "metadata": {},
     "outputs": [
      {
       "output_type": "stream",
       "stream": "stdout",
       "text": [
        "                              Generalized Linear Model Regression Results                              \n",
        "=======================================================================================================\n",
        "Dep. Variable:     ['WorldSeries[False]', 'WorldSeries[True]']   No. Observations:                  244\n",
        "Model:                                                     GLM   Df Residuals:                      242\n",
        "Model Family:                                         Binomial   Df Model:                            1\n",
        "Link Function:                                           logit   Scale:                             1.0\n",
        "Method:                                                   IRLS   Log-Likelihood:                -119.01\n",
        "Date:                                         Thu, 20 Mar 2014   Deviance:                       238.02\n",
        "Time:                                                 15:43:18   Pearson chi2:                     245.\n",
        "No. Iterations:                                              5                                         \n",
        "==============================================================================\n",
        "                 coef    std err          t      P>|t|      [95.0% Conf. Int.]\n",
        "------------------------------------------------------------------------------\n",
        "Intercept     -2.7414      3.989     -0.687      0.492       -10.559     5.076\n",
        "OBP           12.4018     11.865      1.045      0.296       -10.854    35.657\n",
        "==============================================================================\n"
       ]
      }
     ],
     "prompt_number": 124
    },
    {
     "cell_type": "code",
     "collapsed": false,
     "input": [
      "log6 = glm(formula='WorldSeries ~ SLG', data=baseball, \n",
      "                   family = sm.families.Binomial(sm.families.links.logit)).fit()\n",
      "print log6.summary()"
     ],
     "language": "python",
     "metadata": {},
     "outputs": [
      {
       "output_type": "stream",
       "stream": "stdout",
       "text": [
        "                              Generalized Linear Model Regression Results                              \n",
        "=======================================================================================================\n",
        "Dep. Variable:     ['WorldSeries[False]', 'WorldSeries[True]']   No. Observations:                  244\n",
        "Model:                                                     GLM   Df Residuals:                      242\n",
        "Model Family:                                         Binomial   Df Model:                            1\n",
        "Link Function:                                           logit   Scale:                             1.0\n",
        "Method:                                                   IRLS   Log-Likelihood:                -117.61\n",
        "Date:                                         Thu, 20 Mar 2014   Deviance:                       235.23\n",
        "Time:                                                 15:43:18   Pearson chi2:                     245.\n",
        "No. Iterations:                                              5                                         \n",
        "==============================================================================\n",
        "                 coef    std err          t      P>|t|      [95.0% Conf. Int.]\n",
        "------------------------------------------------------------------------------\n",
        "Intercept     -3.1998      2.358     -1.357      0.175        -7.822     1.422\n",
        "SLG           11.1298      5.689      1.956      0.050        -0.021    22.280\n",
        "==============================================================================\n"
       ]
      }
     ],
     "prompt_number": 125
    },
    {
     "cell_type": "code",
     "collapsed": false,
     "input": [
      "log7 = glm(formula='WorldSeries ~ BA', data=baseball, \n",
      "                   family = sm.families.Binomial(sm.families.links.logit)).fit()\n",
      "print log7.summary()"
     ],
     "language": "python",
     "metadata": {},
     "outputs": [
      {
       "output_type": "stream",
       "stream": "stdout",
       "text": [
        "                              Generalized Linear Model Regression Results                              \n",
        "=======================================================================================================\n",
        "Dep. Variable:     ['WorldSeries[False]', 'WorldSeries[True]']   No. Observations:                  244\n",
        "Model:                                                     GLM   Df Residuals:                      242\n",
        "Model Family:                                         Binomial   Df Model:                            1\n",
        "Link Function:                                           logit   Scale:                             1.0\n",
        "Method:                                                   IRLS   Log-Likelihood:                -119.54\n",
        "Date:                                         Thu, 20 Mar 2014   Deviance:                       239.08\n",
        "Time:                                                 15:44:45   Pearson chi2:                     244.\n",
        "No. Iterations:                                              5                                         \n",
        "==============================================================================\n",
        "                 coef    std err          t      P>|t|      [95.0% Conf. Int.]\n",
        "------------------------------------------------------------------------------\n",
        "Intercept      0.6392      3.899      0.164      0.870        -7.002     8.281\n",
        "BA             2.9765     14.612      0.204      0.839       -25.663    31.616\n",
        "==============================================================================\n"
       ]
      }
     ],
     "prompt_number": 127
    },
    {
     "cell_type": "code",
     "collapsed": false,
     "input": [
      "log8 = glm(formula='WorldSeries ~ RankSeason', data=baseball, \n",
      "                   family = sm.families.Binomial(sm.families.links.logit)).fit()\n",
      "print log8.summary()\n",
      "print \"AIC for WorldSeries/RankSeason model: \", log8.aic"
     ],
     "language": "python",
     "metadata": {},
     "outputs": [
      {
       "output_type": "stream",
       "stream": "stdout",
       "text": [
        "                              Generalized Linear Model Regression Results                              \n",
        "=======================================================================================================\n",
        "Dep. Variable:     ['WorldSeries[False]', 'WorldSeries[True]']   No. Observations:                  244\n",
        "Model:                                                     GLM   Df Residuals:                      242\n",
        "Model Family:                                         Binomial   Df Model:                            1\n",
        "Link Function:                                           logit   Scale:                             1.0\n",
        "Method:                                                   IRLS   Log-Likelihood:                -117.38\n",
        "Date:                                         Thu, 20 Mar 2014   Deviance:                       234.75\n",
        "Time:                                                 16:12:19   Pearson chi2:                     243.\n",
        "No. Iterations:                                              5                                         \n",
        "==============================================================================\n",
        "                 coef    std err          t      P>|t|      [95.0% Conf. Int.]\n",
        "------------------------------------------------------------------------------\n",
        "Intercept      0.8256      0.327      2.527      0.012         0.185     1.466\n",
        "RankSeason     0.2069      0.103      2.016      0.044         0.006     0.408\n",
        "==============================================================================\n",
        "AIC for WorldSeries/RankSeason model:  238.754582973\n"
       ]
      }
     ],
     "prompt_number": 145
    },
    {
     "cell_type": "code",
     "collapsed": false,
     "input": [
      "log9 = glm(formula='WorldSeries ~ OOBP', data=baseball, \n",
      "                   family = sm.families.Binomial(sm.families.links.logit)).fit()\n",
      "print log9.summary()"
     ],
     "language": "python",
     "metadata": {},
     "outputs": [
      {
       "output_type": "stream",
       "stream": "stdout",
       "text": [
        "                              Generalized Linear Model Regression Results                              \n",
        "=======================================================================================================\n",
        "Dep. Variable:     ['WorldSeries[False]', 'WorldSeries[True]']   No. Observations:                  114\n",
        "Model:                                                     GLM   Df Residuals:                      112\n",
        "Model Family:                                         Binomial   Df Model:                            1\n",
        "Link Function:                                           logit   Scale:                             1.0\n",
        "Method:                                                   IRLS   Log-Likelihood:                -42.455\n",
        "Date:                                         Thu, 20 Mar 2014   Deviance:                       84.910\n",
        "Time:                                                 15:46:12   Pearson chi2:                     114.\n",
        "No. Iterations:                                              5                                         \n",
        "==============================================================================\n",
        "                 coef    std err          t      P>|t|      [95.0% Conf. Int.]\n",
        "------------------------------------------------------------------------------\n",
        "Intercept      0.9306      8.373      0.111      0.912       -15.480    17.341\n",
        "OOBP           3.2233     26.059      0.124      0.902       -47.851    54.298\n",
        "==============================================================================\n"
       ]
      }
     ],
     "prompt_number": 129
    },
    {
     "cell_type": "code",
     "collapsed": false,
     "input": [
      "log10 = glm(formula='WorldSeries ~ OSLG', data=baseball, \n",
      "                   family = sm.families.Binomial(sm.families.links.logit)).fit()\n",
      "print log10.summary()"
     ],
     "language": "python",
     "metadata": {},
     "outputs": [
      {
       "output_type": "stream",
       "stream": "stdout",
       "text": [
        "                              Generalized Linear Model Regression Results                              \n",
        "=======================================================================================================\n",
        "Dep. Variable:     ['WorldSeries[False]', 'WorldSeries[True]']   No. Observations:                  114\n",
        "Model:                                                     GLM   Df Residuals:                      112\n",
        "Model Family:                                         Binomial   Df Model:                            1\n",
        "Link Function:                                           logit   Scale:                             1.0\n",
        "Method:                                                   IRLS   Log-Likelihood:                -42.415\n",
        "Date:                                         Thu, 20 Mar 2014   Deviance:                       84.830\n",
        "Time:                                                 15:46:58   Pearson chi2:                     114.\n",
        "No. Iterations:                                              6                                         \n",
        "==============================================================================\n",
        "                 coef    std err          t      P>|t|      [95.0% Conf. Int.]\n",
        "------------------------------------------------------------------------------\n",
        "Intercept      0.0872      6.073      0.014      0.989       -11.815    11.990\n",
        "OSLG           4.6599     15.069      0.309      0.757       -24.875    34.195\n",
        "==============================================================================\n"
       ]
      }
     ],
     "prompt_number": 130
    },
    {
     "cell_type": "code",
     "collapsed": false,
     "input": [
      "log11 = glm(formula='WorldSeries ~ NumCompetitors', data=baseball, \n",
      "                   family = sm.families.Binomial(sm.families.links.logit)).fit()\n",
      "print log11.summary()\n",
      "print \"AIC for WorldSeries/NumCompetitors model: \", log11.aic"
     ],
     "language": "python",
     "metadata": {},
     "outputs": [
      {
       "output_type": "stream",
       "stream": "stdout",
       "text": [
        "                              Generalized Linear Model Regression Results                              \n",
        "=======================================================================================================\n",
        "Dep. Variable:     ['WorldSeries[False]', 'WorldSeries[True]']   No. Observations:                  244\n",
        "Model:                                                     GLM   Df Residuals:                      242\n",
        "Model Family:                                         Binomial   Df Model:                            1\n",
        "Link Function:                                           logit   Scale:                             1.0\n",
        "Method:                                                   IRLS   Log-Likelihood:                -113.48\n",
        "Date:                                         Thu, 20 Mar 2014   Deviance:                       226.96\n",
        "Time:                                                 16:12:52   Pearson chi2:                     246.\n",
        "No. Iterations:                                              6                                         \n",
        "==================================================================================\n",
        "                     coef    std err          t      P>|t|      [95.0% Conf. Int.]\n",
        "----------------------------------------------------------------------------------\n",
        "Intercept         -0.0387      0.438     -0.088      0.930        -0.896     0.819\n",
        "NumCompetitors     0.2522      0.074      3.398      0.001         0.107     0.398\n",
        "==================================================================================\n",
        "AIC for WorldSeries/NumCompetitors model:  230.959231488\n"
       ]
      }
     ],
     "prompt_number": 146
    },
    {
     "cell_type": "code",
     "collapsed": false,
     "input": [
      "log12 = glm(formula='WorldSeries ~ League', data=baseball, \n",
      "                   family = sm.families.Binomial(sm.families.links.logit)).fit()\n",
      "print log12.summary()"
     ],
     "language": "python",
     "metadata": {},
     "outputs": [
      {
       "output_type": "stream",
       "stream": "stdout",
       "text": [
        "                              Generalized Linear Model Regression Results                              \n",
        "=======================================================================================================\n",
        "Dep. Variable:     ['WorldSeries[False]', 'WorldSeries[True]']   No. Observations:                  244\n",
        "Model:                                                     GLM   Df Residuals:                      242\n",
        "Model Family:                                         Binomial   Df Model:                            1\n",
        "Link Function:                                           logit   Scale:                             1.0\n",
        "Method:                                                   IRLS   Log-Likelihood:                -119.44\n",
        "Date:                                         Thu, 20 Mar 2014   Deviance:                       238.88\n",
        "Time:                                                 15:48:34   Pearson chi2:                     244.\n",
        "No. Iterations:                                              5                                         \n",
        "================================================================================\n",
        "                   coef    std err          t      P>|t|      [95.0% Conf. Int.]\n",
        "--------------------------------------------------------------------------------\n",
        "Intercept        1.3558      0.224      6.045      0.000         0.916     1.795\n",
        "League[T.NL]     0.1583      0.325      0.487      0.626        -0.479     0.796\n",
        "================================================================================\n"
       ]
      }
     ],
     "prompt_number": 132
    },
    {
     "cell_type": "code",
     "collapsed": false,
     "input": [
      "# Use the significant variables from above in a multivariate model\n",
      "multi_var_log = glm(formula='WorldSeries ~ Year + RA + RankSeason + NumCompetitors', data=baseball, \n",
      "                   family = sm.families.Binomial(sm.families.links.logit)).fit()\n",
      "print multi_var_log.summary()"
     ],
     "language": "python",
     "metadata": {},
     "outputs": [
      {
       "output_type": "stream",
       "stream": "stdout",
       "text": [
        "                              Generalized Linear Model Regression Results                              \n",
        "=======================================================================================================\n",
        "Dep. Variable:     ['WorldSeries[False]', 'WorldSeries[True]']   No. Observations:                  244\n",
        "Model:                                                     GLM   Df Residuals:                      239\n",
        "Model Family:                                         Binomial   Df Model:                            4\n",
        "Link Function:                                           logit   Scale:                             1.0\n",
        "Method:                                                   IRLS   Log-Likelihood:                -113.19\n",
        "Date:                                         Thu, 20 Mar 2014   Deviance:                       226.37\n",
        "Time:                                                 16:01:03   Pearson chi2:                     246.\n",
        "No. Iterations:                                              6                                         \n",
        "==================================================================================\n",
        "                     coef    std err          t      P>|t|      [95.0% Conf. Int.]\n",
        "----------------------------------------------------------------------------------\n",
        "Intercept        -12.5874     53.648     -0.235      0.814      -117.735    92.560\n",
        "Year               0.0061      0.027      0.224      0.823        -0.048     0.060\n",
        "RA                 0.0008      0.003      0.301      0.764        -0.005     0.006\n",
        "RankSeason         0.0685      0.120      0.569      0.569        -0.167     0.304\n",
        "NumCompetitors     0.1794      0.182      0.988      0.323        -0.176     0.535\n",
        "==================================================================================\n"
       ]
      }
     ],
     "prompt_number": 133
    },
    {
     "cell_type": "code",
     "collapsed": false,
     "input": [
      "# Since some of the variables which were significant in the bivariate model, are\n",
      "# no longer significant in the multivariate model, we should check the correlation\n",
      "# between certain variables\n",
      "print \"Correlation between Year and RA: %s\" % (baseball.corr().Year.RA)\n",
      "print \"Correlation between Year and RankSeason: %s\" % (baseball.corr().Year.RankSeason)\n",
      "print \"Correlation between Year and NumCompetitors: %s\" % (baseball.corr().Year.NumCompetitors)\n",
      "print \"Correlation between RA and RankSeason: %s\" % (baseball.corr().RA.RankSeason)\n",
      "print \"Correlation between RA and NumCompetitors: %s\" % (baseball.corr().RA.NumCompetitors)\n",
      "print \"Correlation between RankSeason and NumCompetitors: %s\" % (baseball.corr().RankSeason.NumCompetitors)"
     ],
     "language": "python",
     "metadata": {},
     "outputs": [
      {
       "output_type": "stream",
       "stream": "stdout",
       "text": [
        "Correlation between Year and RA: 0.476242162489\n",
        "Correlation between Year and RankSeason: 0.385219061452\n",
        "Correlation between Year and NumCompetitors: 0.913954771565\n",
        "Correlation between RA and RankSeason: 0.399141259397\n",
        "Correlation between RA and NumCompetitors: 0.513676927067\n",
        "Correlation between RankSeason and NumCompetitors: 0.424739274454\n"
       ]
      }
     ],
     "prompt_number": 140
    },
    {
     "cell_type": "code",
     "collapsed": false,
     "input": [
      "# Faster way\n",
      "print baseball[['Year', 'RA', 'RankSeason', 'NumCompetitors']].corr()"
     ],
     "language": "python",
     "metadata": {},
     "outputs": [
      {
       "output_type": "stream",
       "stream": "stdout",
       "text": [
        "                    Year        RA  RankSeason  NumCompetitors\n",
        "Year            1.000000  0.476242    0.385219        0.913955\n",
        "RA              0.476242  1.000000    0.399141        0.513677\n",
        "RankSeason      0.385219  0.399141    1.000000        0.424739\n",
        "NumCompetitors  0.913955  0.513677    0.424739        1.000000\n",
        "\n",
        "[4 rows x 4 columns]\n"
       ]
      }
     ],
     "prompt_number": 141
    },
    {
     "cell_type": "code",
     "collapsed": false,
     "input": [
      "# Make models for the six correlations above\n",
      "corr_log1 = glm(formula='WorldSeries ~ Year + RA', data=baseball, \n",
      "                   family = sm.families.Binomial(sm.families.links.logit)).fit()\n",
      "print corr_log1.summary()\n",
      "print \"AIC for Year/RA model: \", corr_log1.aic"
     ],
     "language": "python",
     "metadata": {},
     "outputs": [
      {
       "output_type": "stream",
       "stream": "stdout",
       "text": [
        "                              Generalized Linear Model Regression Results                              \n",
        "=======================================================================================================\n",
        "Dep. Variable:     ['WorldSeries[False]', 'WorldSeries[True]']   No. Observations:                  244\n",
        "Model:                                                     GLM   Df Residuals:                      241\n",
        "Model Family:                                         Binomial   Df Model:                            2\n",
        "Link Function:                                           logit   Scale:                             1.0\n",
        "Method:                                                   IRLS   Log-Likelihood:                -113.94\n",
        "Date:                                         Thu, 20 Mar 2014   Deviance:                       227.88\n",
        "Time:                                                 16:17:41   Pearson chi2:                     245.\n",
        "No. Iterations:                                              5                                         \n",
        "==============================================================================\n",
        "                 coef    std err          t      P>|t|      [95.0% Conf. Int.]\n",
        "------------------------------------------------------------------------------\n",
        "Intercept    -63.6107     25.655     -2.479      0.013      -113.893   -13.328\n",
        "Year           0.0321      0.013      2.408      0.016         0.006     0.058\n",
        "RA             0.0018      0.003      0.683      0.494        -0.003     0.007\n",
        "==============================================================================\n",
        "AIC for Year/RA model:  233.876587091\n"
       ]
      }
     ],
     "prompt_number": 155
    },
    {
     "cell_type": "code",
     "collapsed": false,
     "input": [
      "corr_log2 = glm(formula='WorldSeries ~ Year + RankSeason', data=baseball, \n",
      "                   family = sm.families.Binomial(sm.families.links.logit)).fit()\n",
      "print corr_log2.summary()\n",
      "print \"AIC for Year/RankSeason model: \", corr_log2.aic"
     ],
     "language": "python",
     "metadata": {},
     "outputs": [
      {
       "output_type": "stream",
       "stream": "stdout",
       "text": [
        "                              Generalized Linear Model Regression Results                              \n",
        "=======================================================================================================\n",
        "Dep. Variable:     ['WorldSeries[False]', 'WorldSeries[True]']   No. Observations:                  244\n",
        "Model:                                                     GLM   Df Residuals:                      241\n",
        "Model Family:                                         Binomial   Df Model:                            2\n",
        "Link Function:                                           logit   Scale:                             1.0\n",
        "Method:                                                   IRLS   Log-Likelihood:                -113.78\n",
        "Date:                                         Thu, 20 Mar 2014   Deviance:                       227.55\n",
        "Time:                                                 16:18:45   Pearson chi2:                     247.\n",
        "No. Iterations:                                              6                                         \n",
        "==============================================================================\n",
        "                 coef    std err          t      P>|t|      [95.0% Conf. Int.]\n",
        "------------------------------------------------------------------------------\n",
        "Intercept    -63.6486     24.371     -2.612      0.009      -111.414   -15.883\n",
        "Year           0.0325      0.012      2.643      0.008         0.008     0.057\n",
        "RankSeason     0.1006      0.114      0.887      0.375        -0.122     0.323\n",
        "==============================================================================\n",
        "AIC for Year/RankSeason model:  233.552447958\n"
       ]
      }
     ],
     "prompt_number": 156
    },
    {
     "cell_type": "code",
     "collapsed": false,
     "input": [
      "corr_log3 = glm(formula='WorldSeries ~ Year + NumCompetitors', data=baseball, \n",
      "                   family = sm.families.Binomial(sm.families.links.logit)).fit()\n",
      "print corr_log3.summary()\n",
      "print \"AIC for Year/NumCompetitors model: \", corr_log3.aic"
     ],
     "language": "python",
     "metadata": {},
     "outputs": [
      {
       "output_type": "stream",
       "stream": "stdout",
       "text": [
        "                              Generalized Linear Model Regression Results                              \n",
        "=======================================================================================================\n",
        "Dep. Variable:     ['WorldSeries[False]', 'WorldSeries[True]']   No. Observations:                  244\n",
        "Model:                                                     GLM   Df Residuals:                      241\n",
        "Model Family:                                         Binomial   Df Model:                            2\n",
        "Link Function:                                           logit   Scale:                             1.0\n",
        "Method:                                                   IRLS   Log-Likelihood:                -113.45\n",
        "Date:                                         Thu, 20 Mar 2014   Deviance:                       226.90\n",
        "Time:                                                 16:19:26   Pearson chi2:                     246.\n",
        "No. Iterations:                                              6                                         \n",
        "==================================================================================\n",
        "                     coef    std err          t      P>|t|      [95.0% Conf. Int.]\n",
        "----------------------------------------------------------------------------------\n",
        "Intercept        -13.3505     53.482     -0.250      0.803      -118.173    91.472\n",
        "Year               0.0068      0.027      0.249      0.803        -0.047     0.060\n",
        "NumCompetitors     0.2126      0.176      1.211      0.226        -0.131     0.557\n",
        "==================================================================================\n",
        "AIC for Year/NumCompetitors model:  232.897168213\n"
       ]
      }
     ],
     "prompt_number": 157
    },
    {
     "cell_type": "code",
     "collapsed": false,
     "input": [
      "corr_log4 = glm(formula='WorldSeries ~ RA + RankSeason', data=baseball, \n",
      "                   family = sm.families.Binomial(sm.families.links.logit)).fit()\n",
      "print corr_log4.summary()\n",
      "print \"AIC for RA/RankSeason model: \", corr_log4.aic"
     ],
     "language": "python",
     "metadata": {},
     "outputs": [
      {
       "output_type": "stream",
       "stream": "stdout",
       "text": [
        "                              Generalized Linear Model Regression Results                              \n",
        "=======================================================================================================\n",
        "Dep. Variable:     ['WorldSeries[False]', 'WorldSeries[True]']   No. Observations:                  244\n",
        "Model:                                                     GLM   Df Residuals:                      241\n",
        "Model Family:                                         Binomial   Df Model:                            2\n",
        "Link Function:                                           logit   Scale:                             1.0\n",
        "Method:                                                   IRLS   Log-Likelihood:                -116.11\n",
        "Date:                                         Thu, 20 Mar 2014   Deviance:                       232.22\n",
        "Time:                                                 16:20:08   Pearson chi2:                     245.\n",
        "No. Iterations:                                              5                                         \n",
        "==============================================================================\n",
        "                 coef    std err          t      P>|t|      [95.0% Conf. Int.]\n",
        "------------------------------------------------------------------------------\n",
        "Intercept     -1.4875      1.506     -0.988      0.323        -4.439     1.465\n",
        "RA             0.0038      0.002      1.563      0.118        -0.001     0.009\n",
        "RankSeason     0.1408      0.111      1.270      0.204        -0.077     0.358\n",
        "==============================================================================\n",
        "AIC for RA/RankSeason model:  238.217989367\n"
       ]
      }
     ],
     "prompt_number": 158
    },
    {
     "cell_type": "code",
     "collapsed": false,
     "input": [
      "corr_log5 = glm(formula='WorldSeries ~ RA + NumCompetitors', data=baseball, \n",
      "                   family = sm.families.Binomial(sm.families.links.logit)).fit()\n",
      "print corr_log5.summary()\n",
      "print \"AIC for RA/NumCompetitors model: \", corr_log5.aic"
     ],
     "language": "python",
     "metadata": {},
     "outputs": [
      {
       "output_type": "stream",
       "stream": "stdout",
       "text": [
        "                              Generalized Linear Model Regression Results                              \n",
        "=======================================================================================================\n",
        "Dep. Variable:     ['WorldSeries[False]', 'WorldSeries[True]']   No. Observations:                  244\n",
        "Model:                                                     GLM   Df Residuals:                      241\n",
        "Model Family:                                         Binomial   Df Model:                            2\n",
        "Link Function:                                           logit   Scale:                             1.0\n",
        "Method:                                                   IRLS   Log-Likelihood:                -113.37\n",
        "Date:                                         Thu, 20 Mar 2014   Deviance:                       226.74\n",
        "Time:                                                 16:20:52   Pearson chi2:                     246.\n",
        "No. Iterations:                                              6                                         \n",
        "==================================================================================\n",
        "                     coef    std err          t      P>|t|      [95.0% Conf. Int.]\n",
        "----------------------------------------------------------------------------------\n",
        "Intercept         -0.7169      1.529     -0.469      0.639        -3.713     2.279\n",
        "RA                 0.0012      0.003      0.463      0.643        -0.004     0.006\n",
        "NumCompetitors     0.2294      0.088      2.595      0.009         0.056     0.403\n",
        "==================================================================================\n",
        "AIC for RA/NumCompetitors model:  232.742945386\n"
       ]
      }
     ],
     "prompt_number": 159
    },
    {
     "cell_type": "code",
     "collapsed": false,
     "input": [
      "corr_log6 = glm(formula='WorldSeries ~ RankSeason + NumCompetitors', data=baseball, \n",
      "                   family = sm.families.Binomial(sm.families.links.logit)).fit()\n",
      "print corr_log6.summary()\n",
      "print \"AIC for RankSeason/NumCompetitors model: \", corr_log6.aic"
     ],
     "language": "python",
     "metadata": {},
     "outputs": [
      {
       "output_type": "stream",
       "stream": "stdout",
       "text": [
        "                              Generalized Linear Model Regression Results                              \n",
        "=======================================================================================================\n",
        "Dep. Variable:     ['WorldSeries[False]', 'WorldSeries[True]']   No. Observations:                  244\n",
        "Model:                                                     GLM   Df Residuals:                      241\n",
        "Model Family:                                         Binomial   Df Model:                            2\n",
        "Link Function:                                           logit   Scale:                             1.0\n",
        "Method:                                                   IRLS   Log-Likelihood:                -113.26\n",
        "Date:                                         Thu, 20 Mar 2014   Deviance:                       226.52\n",
        "Time:                                                 16:21:24   Pearson chi2:                     247.\n",
        "No. Iterations:                                              6                                         \n",
        "==================================================================================\n",
        "                     coef    std err          t      P>|t|      [95.0% Conf. Int.]\n",
        "----------------------------------------------------------------------------------\n",
        "Intercept         -0.1228      0.457     -0.268      0.788        -1.019     0.774\n",
        "RankSeason         0.0770      0.117      0.657      0.511        -0.153     0.306\n",
        "NumCompetitors     0.2278      0.082      2.778      0.005         0.067     0.389\n",
        "==================================================================================\n",
        "AIC for RankSeason/NumCompetitors model:  232.523952903\n"
       ]
      }
     ],
     "prompt_number": 160
    },
    {
     "cell_type": "code",
     "collapsed": false,
     "input": [],
     "language": "python",
     "metadata": {},
     "outputs": []
    }
   ],
   "metadata": {}
  }
 ]
}