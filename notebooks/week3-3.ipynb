{
 "metadata": {
  "name": ""
 },
 "nbformat": 3,
 "nbformat_minor": 0,
 "worksheets": [
  {
   "cells": [
    {
     "cell_type": "code",
     "collapsed": false,
     "input": [
      "# Analytics Edge course from MITx on EdX.org\n",
      "# Week 3 - Part 3\n",
      "# Analysis of parole data from the United States 2004 National Corrections Reporting Program\n",
      "from pandas import DataFrame, read_csv\n",
      "import pandas as pd\n",
      "import matplotlib.pyplot as plt\n",
      "import pylab as ply\n",
      "import numpy as np\n",
      "import statsmodels.api as sm\n",
      "from statsmodels.formula.api import logit, glm\n",
      "from sklearn.cross_validation import train_test_split\n",
      "%matplotlib inline"
     ],
     "language": "python",
     "metadata": {},
     "outputs": [],
     "prompt_number": 8
    },
    {
     "cell_type": "code",
     "collapsed": false,
     "input": [
      "# Read the dataset into a dataframe\n",
      "file_path = r'../csvs/parole.csv'\n",
      "parole = read_csv(file_path)\n",
      "parole.shape"
     ],
     "language": "python",
     "metadata": {},
     "outputs": [
      {
       "metadata": {},
       "output_type": "pyout",
       "prompt_number": 9,
       "text": [
        "(675, 9)"
       ]
      }
     ],
     "prompt_number": 9
    },
    {
     "cell_type": "code",
     "collapsed": false,
     "input": [
      "# Find how many parolees violated their parole\n",
      "violators = parole[parole['violator'] == 1]\n",
      "violators.shape"
     ],
     "language": "python",
     "metadata": {},
     "outputs": [
      {
       "metadata": {},
       "output_type": "pyout",
       "prompt_number": 10,
       "text": [
        "(78, 9)"
       ]
      }
     ],
     "prompt_number": 10
    },
    {
     "cell_type": "code",
     "collapsed": false,
     "input": [
      "parole.head()"
     ],
     "language": "python",
     "metadata": {},
     "outputs": [
      {
       "html": [
        "<div style=\"max-height:1000px;max-width:1500px;overflow:auto;\">\n",
        "<table border=\"1\" class=\"dataframe\">\n",
        "  <thead>\n",
        "    <tr style=\"text-align: right;\">\n",
        "      <th></th>\n",
        "      <th>male</th>\n",
        "      <th>race</th>\n",
        "      <th>age</th>\n",
        "      <th>state</th>\n",
        "      <th>time.served</th>\n",
        "      <th>max.sentence</th>\n",
        "      <th>multiple.offenses</th>\n",
        "      <th>crime</th>\n",
        "      <th>violator</th>\n",
        "    </tr>\n",
        "  </thead>\n",
        "  <tbody>\n",
        "    <tr>\n",
        "      <th>0</th>\n",
        "      <td> 1</td>\n",
        "      <td> 1</td>\n",
        "      <td> 33.2</td>\n",
        "      <td> 1</td>\n",
        "      <td> 5.5</td>\n",
        "      <td> 18</td>\n",
        "      <td> 0</td>\n",
        "      <td> 4</td>\n",
        "      <td> 0</td>\n",
        "    </tr>\n",
        "    <tr>\n",
        "      <th>1</th>\n",
        "      <td> 0</td>\n",
        "      <td> 1</td>\n",
        "      <td> 39.7</td>\n",
        "      <td> 1</td>\n",
        "      <td> 5.4</td>\n",
        "      <td> 12</td>\n",
        "      <td> 0</td>\n",
        "      <td> 3</td>\n",
        "      <td> 0</td>\n",
        "    </tr>\n",
        "    <tr>\n",
        "      <th>2</th>\n",
        "      <td> 1</td>\n",
        "      <td> 2</td>\n",
        "      <td> 29.5</td>\n",
        "      <td> 1</td>\n",
        "      <td> 5.6</td>\n",
        "      <td> 12</td>\n",
        "      <td> 0</td>\n",
        "      <td> 3</td>\n",
        "      <td> 0</td>\n",
        "    </tr>\n",
        "    <tr>\n",
        "      <th>3</th>\n",
        "      <td> 1</td>\n",
        "      <td> 1</td>\n",
        "      <td> 22.4</td>\n",
        "      <td> 1</td>\n",
        "      <td> 5.7</td>\n",
        "      <td> 18</td>\n",
        "      <td> 0</td>\n",
        "      <td> 1</td>\n",
        "      <td> 0</td>\n",
        "    </tr>\n",
        "    <tr>\n",
        "      <th>4</th>\n",
        "      <td> 1</td>\n",
        "      <td> 2</td>\n",
        "      <td> 21.6</td>\n",
        "      <td> 1</td>\n",
        "      <td> 5.4</td>\n",
        "      <td> 12</td>\n",
        "      <td> 0</td>\n",
        "      <td> 1</td>\n",
        "      <td> 0</td>\n",
        "    </tr>\n",
        "  </tbody>\n",
        "</table>\n",
        "<p>5 rows \u00d7 9 columns</p>\n",
        "</div>"
       ],
       "metadata": {},
       "output_type": "pyout",
       "prompt_number": 11,
       "text": [
        "   male  race   age  state  time.served  max.sentence  multiple.offenses  \\\n",
        "0     1     1  33.2      1          5.5            18                  0   \n",
        "1     0     1  39.7      1          5.4            12                  0   \n",
        "2     1     2  29.5      1          5.6            12                  0   \n",
        "3     1     1  22.4      1          5.7            18                  0   \n",
        "4     1     2  21.6      1          5.4            12                  0   \n",
        "\n",
        "   crime  violator  \n",
        "0      4         0  \n",
        "1      3         0  \n",
        "2      3         0  \n",
        "3      1         0  \n",
        "4      1         0  \n",
        "\n",
        "[5 rows x 9 columns]"
       ]
      }
     ],
     "prompt_number": 11
    },
    {
     "cell_type": "code",
     "collapsed": false,
     "input": [
      "# Turn state column into categorical variables\n",
      "state_cat = pd.Categorical(parole['state'])\n",
      "state_cat.describe()"
     ],
     "language": "python",
     "metadata": {},
     "outputs": [
      {
       "html": [
        "<div style=\"max-height:1000px;max-width:1500px;overflow:auto;\">\n",
        "<table border=\"1\" class=\"dataframe\">\n",
        "  <thead>\n",
        "    <tr style=\"text-align: right;\">\n",
        "      <th></th>\n",
        "      <th>counts</th>\n",
        "      <th>freqs</th>\n",
        "    </tr>\n",
        "    <tr>\n",
        "      <th>levels</th>\n",
        "      <th></th>\n",
        "      <th></th>\n",
        "    </tr>\n",
        "  </thead>\n",
        "  <tbody>\n",
        "    <tr>\n",
        "      <th>1</th>\n",
        "      <td> 143</td>\n",
        "      <td> 0.211852</td>\n",
        "    </tr>\n",
        "    <tr>\n",
        "      <th>2</th>\n",
        "      <td> 120</td>\n",
        "      <td> 0.177778</td>\n",
        "    </tr>\n",
        "    <tr>\n",
        "      <th>3</th>\n",
        "      <td>  82</td>\n",
        "      <td> 0.121481</td>\n",
        "    </tr>\n",
        "    <tr>\n",
        "      <th>4</th>\n",
        "      <td> 330</td>\n",
        "      <td> 0.488889</td>\n",
        "    </tr>\n",
        "  </tbody>\n",
        "</table>\n",
        "<p>4 rows \u00d7 2 columns</p>\n",
        "</div>"
       ],
       "metadata": {},
       "output_type": "pyout",
       "prompt_number": 12,
       "text": [
        "        counts     freqs\n",
        "levels                  \n",
        "1          143  0.211852\n",
        "2          120  0.177778\n",
        "3           82  0.121481\n",
        "4          330  0.488889\n",
        "\n",
        "[4 rows x 2 columns]"
       ]
      }
     ],
     "prompt_number": 12
    },
    {
     "cell_type": "code",
     "collapsed": false,
     "input": [
      "# Turn crime column into categorical variables\n",
      "crime_cat = pd.Categorical(parole['crime'])\n",
      "crime_cat.describe()"
     ],
     "language": "python",
     "metadata": {},
     "outputs": [
      {
       "html": [
        "<div style=\"max-height:1000px;max-width:1500px;overflow:auto;\">\n",
        "<table border=\"1\" class=\"dataframe\">\n",
        "  <thead>\n",
        "    <tr style=\"text-align: right;\">\n",
        "      <th></th>\n",
        "      <th>counts</th>\n",
        "      <th>freqs</th>\n",
        "    </tr>\n",
        "    <tr>\n",
        "      <th>levels</th>\n",
        "      <th></th>\n",
        "      <th></th>\n",
        "    </tr>\n",
        "  </thead>\n",
        "  <tbody>\n",
        "    <tr>\n",
        "      <th>1</th>\n",
        "      <td> 315</td>\n",
        "      <td> 0.466667</td>\n",
        "    </tr>\n",
        "    <tr>\n",
        "      <th>2</th>\n",
        "      <td> 106</td>\n",
        "      <td> 0.157037</td>\n",
        "    </tr>\n",
        "    <tr>\n",
        "      <th>3</th>\n",
        "      <td> 153</td>\n",
        "      <td> 0.226667</td>\n",
        "    </tr>\n",
        "    <tr>\n",
        "      <th>4</th>\n",
        "      <td> 101</td>\n",
        "      <td> 0.149630</td>\n",
        "    </tr>\n",
        "  </tbody>\n",
        "</table>\n",
        "<p>4 rows \u00d7 2 columns</p>\n",
        "</div>"
       ],
       "metadata": {},
       "output_type": "pyout",
       "prompt_number": 13,
       "text": [
        "        counts     freqs\n",
        "levels                  \n",
        "1          315  0.466667\n",
        "2          106  0.157037\n",
        "3          153  0.226667\n",
        "4          101  0.149630\n",
        "\n",
        "[4 rows x 2 columns]"
       ]
      }
     ],
     "prompt_number": 13
    },
    {
     "cell_type": "code",
     "collapsed": false,
     "input": [
      "# Split the dataframe into a training and testing set\n",
      "train, test = "
     ],
     "language": "python",
     "metadata": {},
     "outputs": [
      {
       "ename": "SyntaxError",
       "evalue": "invalid syntax (<ipython-input-14-19fe4bdc7761>, line 2)",
       "output_type": "pyerr",
       "traceback": [
        "\u001b[0;36m  File \u001b[0;32m\"<ipython-input-14-19fe4bdc7761>\"\u001b[0;36m, line \u001b[0;32m2\u001b[0m\n\u001b[0;31m    train, test =\u001b[0m\n\u001b[0m                  ^\u001b[0m\n\u001b[0;31mSyntaxError\u001b[0m\u001b[0;31m:\u001b[0m invalid syntax\n"
       ]
      }
     ],
     "prompt_number": 14
    }
   ],
   "metadata": {}
  }
 ]
}